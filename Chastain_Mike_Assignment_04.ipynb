{
  "cells": [
    {
      "cell_type": "markdown",
      "metadata": {
        "id": "view-in-github",
        "colab_type": "text"
      },
      "source": [
        "<a href=\"https://colab.research.google.com/github/MikeChastain84/Mike_INFO5731_Fall2024/blob/main/Chastain_Mike_Assignment_04.ipynb\" target=\"_parent\"><img src=\"https://colab.research.google.com/assets/colab-badge.svg\" alt=\"Open In Colab\"/></a>"
      ]
    },
    {
      "cell_type": "markdown",
      "metadata": {
        "id": "USSdXHuqnwv9"
      },
      "source": [
        "# **INFO5731 Assignment Four**\n",
        "\n",
        "In this assignment, you are required to conduct topic modeling, sentiment analysis based on **the dataset you created from assignment three**."
      ]
    },
    {
      "cell_type": "markdown",
      "metadata": {
        "id": "YWxodXh5n4xF"
      },
      "source": [
        "# **Question 1: Topic Modeling**"
      ]
    },
    {
      "cell_type": "markdown",
      "metadata": {
        "id": "TenBkDJ5n95k"
      },
      "source": [
        "(30 points). This question is designed to help you develop a feel for the way topic modeling works, the connection to the human meanings of documents. Based on the dataset from assignment three, write a python program to **identify the top 10 topics in the dataset**. Before answering this question, please review the materials in lesson 8, especially the code for LDA, LSA, and BERTopic. The following information should be reported:\n",
        "\n",
        "1. Features (text representation) used for topic modeling.\n",
        "\n",
        "2. Top 10 clusters for topic modeling.\n",
        "\n",
        "3. Summarize and describe the topic for each cluster.\n"
      ]
    },
    {
      "cell_type": "code",
      "source": [
        "# Mount google drive:\n",
        "from google.colab import drive\n",
        "drive.mount('/content/gdrive')"
      ],
      "metadata": {
        "colab": {
          "base_uri": "https://localhost:8080/"
        },
        "id": "JWc6LL65ws1D",
        "outputId": "3ac7cde8-b5a2-41f5-8ec0-cec4e20da66f"
      },
      "execution_count": null,
      "outputs": [
        {
          "output_type": "stream",
          "name": "stdout",
          "text": [
            "Drive already mounted at /content/gdrive; to attempt to forcibly remount, call drive.mount(\"/content/gdrive\", force_remount=True).\n"
          ]
        }
      ]
    },
    {
      "cell_type": "code",
      "execution_count": null,
      "metadata": {
        "id": "PuFPKhC0m1fd",
        "colab": {
          "base_uri": "https://localhost:8080/"
        },
        "outputId": "e4727b2d-d956-4035-ee80-b369a11395d0"
      },
      "outputs": [
        {
          "output_type": "stream",
          "name": "stdout",
          "text": [
            "0    nisei female born may selleck washington spent...\n",
            "1    nisei male born june seattle washington grew a...\n",
            "2    nisei female born october seattle washington f...\n",
            "3    nisei female born july boyle heights californi...\n",
            "4    sansei male born march torrance california gre...\n",
            "Name: clean_text_processed, dtype: object\n"
          ]
        }
      ],
      "source": [
        "# Write your code here\n",
        "\n",
        "# We will use LDA. I chose LDA because it is a topic standard known for providing clear, interpretable\n",
        "  # clusters with associated probabilities, making it ideal for summarizing the top 10 topics.\n",
        "\n",
        "# Part 1: Features (text representation) used for topic modeling.\n",
        "# Importing modules\n",
        "import pandas as pd\n",
        "import re\n",
        "\n",
        "# Step 1: Load the dataset\n",
        "data = pd.read_csv('/content/gdrive/MyDrive/Colab Notebooks/INFO 5731/Week 14/sentiment_data.csv')\n",
        "\n",
        "# Step 2: Preprocess the dataset\n",
        "  # I realize the dataset was preprocessed but I want to be thorough:\n",
        "\n",
        "# Remove punctuation\n",
        "data['clean_text_processed'] = \\\n",
        "data['clean_text'].map(lambda x: re.sub('[,\\.!?]', '', str(x)))\n",
        "\n",
        "# Convert text to lowercase\n",
        "data['clean_text_processed'] = \\\n",
        "data['clean_text_processed'].map(lambda x: x.lower())\n",
        "\n",
        "# Print out the first rows:\n",
        "print(data['clean_text_processed'].head())\n"
      ]
    },
    {
      "cell_type": "code",
      "source": [
        "# Step 3: Tokenization and Stopword Removal\n",
        "import gensim\n",
        "from gensim.utils import simple_preprocess\n",
        "from nltk.corpus import stopwords\n",
        "import nltk\n",
        "nltk.download('stopwords')  # Ensure stopwords are downloaded\n",
        "stop_words = stopwords.words('english')  # Load default stopwords\n",
        "stop_words.extend(['from', 'subject', 're', 'edu', 'use'])  # Extend with custom stopwords\n",
        "\n",
        "# Tokenize the text and remove stopwords\n",
        "def sent_to_words(sentences):\n",
        "    for sentence in sentences:\n",
        "        # Tokenize and remove punctuation\n",
        "        yield gensim.utils.simple_preprocess(str(sentence), deacc=True)\n",
        "\n",
        "def remove_stopwords(texts):\n",
        "    # Remove stopwords from tokenized text\n",
        "    return [[word for word in simple_preprocess(str(doc)) if word not in stop_words] for doc in texts]\n",
        "\n",
        "# Apply tokenization\n",
        "data_words = list(sent_to_words(data['clean_text_processed'].values.tolist()))\n",
        "\n",
        "# Apply stopword removal\n",
        "data_words = remove_stopwords(data_words)\n",
        "\n",
        "# Preview the processed text\n",
        "print(data_words[:1][0][:30])  # Display the first 30 tokens from the first entry\n"
      ],
      "metadata": {
        "colab": {
          "base_uri": "https://localhost:8080/"
        },
        "id": "jHZCzt9wywC6",
        "outputId": "6f68a7a9-2e3e-4728-bd63-3b9a5bc00323"
      },
      "execution_count": null,
      "outputs": [
        {
          "output_type": "stream",
          "name": "stderr",
          "text": [
            "[nltk_data] Downloading package stopwords to /root/nltk_data...\n",
            "[nltk_data]   Package stopwords is already up-to-date!\n"
          ]
        },
        {
          "output_type": "stream",
          "name": "stdout",
          "text": [
            "['nisei', 'female', 'born', 'may', 'selleck', 'washington', 'spent', 'much', 'childhood', 'beaverton', 'oregon', 'father', 'owned', 'farm', 'influenced', 'early', 'age', 'parents', 'conversion', 'christianity', 'world', 'war', 'ii', 'removed', 'portland', 'assembly', 'center', 'oregon', 'minidoka', 'concentration']\n"
          ]
        }
      ]
    },
    {
      "cell_type": "code",
      "source": [
        "# Create a dictionary and corpus\n",
        "import gensim.corpora as corpora\n",
        "\n",
        "# Step 4: Create a dictionary\n",
        "# Each unique token in the dataset gets a unique ID\n",
        "id2word = corpora.Dictionary(data_words)\n",
        "\n",
        "# Step 5: Create a corpus\n",
        "texts = data_words\n",
        "# Convert the tokenized data into the bag-of-words format\n",
        "# Each document is represented as a list of tuples (word_id, word_frequency)\n",
        "corpus = [id2word.doc2bow(text) for text in texts]\n",
        "\n",
        "# Step 6: Print some samples for verification\n",
        "print(\"Sample Dictionary (word to ID):\")\n",
        "print(list(id2word.items())[:10])  # Print the first 10 words with their IDs\n",
        "\n",
        "print(\"\\nSample Corpus (document in bag-of-words format):\")\n",
        "print(corpus[:1])  # Print the bag-of-words representation of the first document"
      ],
      "metadata": {
        "id": "KTQ9zwxV757H",
        "colab": {
          "base_uri": "https://localhost:8080/"
        },
        "outputId": "2a758e3b-4873-4f71-f2a3-55bc5631fe33"
      },
      "execution_count": null,
      "outputs": [
        {
          "output_type": "stream",
          "name": "stdout",
          "text": [
            "Sample Dictionary (word to ID):\n",
            "[(0, 'age'), (1, 'assembly'), (2, 'beaverton'), (3, 'born'), (4, 'camp'), (5, 'center'), (6, 'childhood'), (7, 'christianity'), (8, 'concentration'), (9, 'conversion')]\n",
            "\n",
            "Sample Corpus (document in bag-of-words format):\n",
            "[[(0, 1), (1, 1), (2, 1), (3, 1), (4, 1), (5, 1), (6, 1), (7, 1), (8, 1), (9, 1), (10, 1), (11, 1), (12, 1), (13, 1), (14, 1), (15, 1), (16, 1), (17, 1), (18, 1), (19, 1), (20, 1), (21, 1), (22, 1), (23, 1), (24, 2), (25, 1), (26, 1), (27, 1), (28, 1), (29, 1), (30, 1), (31, 1), (32, 1), (33, 1), (34, 1), (35, 2), (36, 2), (37, 1), (38, 1)]]\n"
          ]
        }
      ]
    },
    {
      "cell_type": "code",
      "source": [
        "# Build and run the LDA model\n",
        "from pprint import pprint\n",
        "\n",
        "# Build LDA model\n",
        "# number of topics\n",
        "num_topics = 10\n",
        "lda_model = gensim.models.LdaMulticore(corpus=corpus,\n",
        "                                       id2word=id2word,\n",
        "                                       num_topics=num_topics,\n",
        "                                       # I want unique consistency, so I set the random seed using my student ID.\n",
        "                                       # This ensures my results are the same in case I have to rerun the code. ;-)\n",
        "                                       random_state = 11804625)\n",
        "# Print the Keyword in the 10 topics\n",
        "pprint(lda_model.print_topics())\n",
        "doc_lda = lda_model[corpus]"
      ],
      "metadata": {
        "colab": {
          "base_uri": "https://localhost:8080/"
        },
        "id": "J6vWt06z_BsR",
        "outputId": "387af2c9-c855-4992-e014-1d884b73c35b"
      },
      "execution_count": null,
      "outputs": [
        {
          "output_type": "stream",
          "name": "stderr",
          "text": [
            "WARNING:gensim.models.ldamulticore:too few updates, training might not converge; consider increasing the number of passes or iterations to improve accuracy\n"
          ]
        },
        {
          "output_type": "stream",
          "name": "stdout",
          "text": [
            "[(0,\n",
            "  '0.038*\"camp\" + 0.036*\"california\" + 0.023*\"concentration\" + 0.021*\"born\" + '\n",
            "  '0.020*\"war\" + 0.019*\"nisei\" + 0.016*\"removed\" + 0.015*\"world\" + 0.015*\"ii\" '\n",
            "  '+ 0.015*\"grew\"'),\n",
            " (1,\n",
            "  '0.018*\"camp\" + 0.017*\"born\" + 0.017*\"war\" + 0.013*\"seattle\" + '\n",
            "  '0.013*\"washington\" + 0.012*\"nisei\" + 0.012*\"concentration\" + '\n",
            "  '0.011*\"california\" + 0.010*\"world\" + 0.010*\"father\"'),\n",
            " (2,\n",
            "  '0.017*\"california\" + 0.016*\"american\" + 0.014*\"camp\" + 0.013*\"japanese\" + '\n",
            "  '0.013*\"born\" + 0.010*\"washington\" + 0.009*\"male\" + 0.008*\"war\" + '\n",
            "  '0.008*\"angeles\" + 0.007*\"concentration\"'),\n",
            " (3,\n",
            "  '0.026*\"war\" + 0.023*\"california\" + 0.021*\"camp\" + 0.019*\"born\" + '\n",
            "  '0.019*\"world\" + 0.018*\"ii\" + 0.015*\"male\" + 0.015*\"concentration\" + '\n",
            "  '0.015*\"nisei\" + 0.012*\"family\"'),\n",
            " (4,\n",
            "  '0.018*\"war\" + 0.018*\"california\" + 0.017*\"born\" + 0.014*\"nisei\" + '\n",
            "  '0.013*\"ii\" + 0.013*\"los\" + 0.013*\"world\" + 0.012*\"camp\" + 0.011*\"angeles\" + '\n",
            "  '0.009*\"washington\"'),\n",
            " (5,\n",
            "  '0.021*\"camp\" + 0.017*\"war\" + 0.017*\"born\" + 0.013*\"california\" + '\n",
            "  '0.012*\"concentration\" + 0.010*\"washington\" + 0.010*\"family\" + '\n",
            "  '0.010*\"japanese\" + 0.010*\"ii\" + 0.009*\"seattle\"'),\n",
            " (6,\n",
            "  '0.035*\"california\" + 0.034*\"camp\" + 0.022*\"war\" + 0.021*\"born\" + '\n",
            "  '0.020*\"concentration\" + 0.017*\"nisei\" + 0.015*\"ii\" + 0.015*\"world\" + '\n",
            "  '0.014*\"removed\" + 0.012*\"japan\"'),\n",
            " (7,\n",
            "  '0.017*\"camp\" + 0.016*\"born\" + 0.015*\"washington\" + 0.014*\"california\" + '\n",
            "  '0.013*\"seattle\" + 0.012*\"war\" + 0.012*\"japanese\" + 0.010*\"nisei\" + '\n",
            "  '0.009*\"concentration\" + 0.009*\"ii\"'),\n",
            " (8,\n",
            "  '0.043*\"california\" + 0.026*\"war\" + 0.023*\"camp\" + 0.020*\"born\" + '\n",
            "  '0.016*\"nisei\" + 0.014*\"concentration\" + 0.013*\"world\" + 0.013*\"ii\" + '\n",
            "  '0.011*\"removed\" + 0.011*\"female\"'),\n",
            " (9,\n",
            "  '0.026*\"washington\" + 0.015*\"japanese\" + 0.014*\"born\" + 0.014*\"seattle\" + '\n",
            "  '0.013*\"war\" + 0.012*\"male\" + 0.010*\"american\" + 0.010*\"nisei\" + '\n",
            "  '0.009*\"university\" + 0.009*\"community\"')]\n"
          ]
        }
      ]
    },
    {
      "cell_type": "code",
      "source": [
        "# !pip install pyLDAvis -q"
      ],
      "metadata": {
        "id": "_9B3XKB1KRDH"
      },
      "execution_count": null,
      "outputs": []
    },
    {
      "cell_type": "code",
      "source": [
        "#import pyLDAvis.gensim\n",
        "\n",
        "import pyLDAvis\n",
        "import pyLDAvis.gensim_models as gensimvis\n",
        "pyLDAvis.enable_notebook()\n",
        "\n",
        "\n",
        "LDAvis_prepared = pyLDAvis.gensim_models.prepare(lda_model, corpus, id2word)\n",
        "\n",
        "pyLDAvis.display(LDAvis_prepared)"
      ],
      "metadata": {
        "colab": {
          "base_uri": "https://localhost:8080/",
          "height": 882
        },
        "id": "E2HiL8JSKMuJ",
        "outputId": "c6e2f036-e3fc-4391-818a-4ab890d75398"
      },
      "execution_count": null,
      "outputs": [
        {
          "output_type": "execute_result",
          "data": {
            "text/plain": [
              "<IPython.core.display.HTML object>"
            ],
            "text/html": [
              "\n",
              "<link rel=\"stylesheet\" type=\"text/css\" href=\"https://cdn.jsdelivr.net/gh/bmabey/pyLDAvis@3.4.0/pyLDAvis/js/ldavis.v1.0.0.css\">\n",
              "\n",
              "\n",
              "<div id=\"ldavis_el294661365709068883369734431915\" style=\"background-color:white;\"></div>\n",
              "<script type=\"text/javascript\">\n",
              "\n",
              "var ldavis_el294661365709068883369734431915_data = {\"mdsDat\": {\"x\": [-0.0758916093576521, -0.04299041218850128, 0.008188913245349977, 0.011234422637671052, -0.025164045313185758, -0.05222090167800355, 0.035195627274892186, 0.05731878846247507, 0.062976700160467, 0.02135251675648729], \"y\": [-0.023640255394849853, -0.006330994226833286, 0.0017112205946973158, 0.0035265355580561385, 0.021314274681923328, 0.0014797557390160974, 0.0032982592389838804, -0.05919642871028336, 0.012870669328867127, 0.04496696319042267], \"topics\": [1, 2, 3, 4, 5, 6, 7, 8, 9, 10], \"cluster\": [1, 1, 1, 1, 1, 1, 1, 1, 1, 1], \"Freq\": [31.810801921540204, 20.823156978542876, 8.377228292466981, 8.279767499747019, 6.62471332225066, 6.469536933826681, 5.7217302028858406, 5.088170840294017, 4.5805020520351265, 2.2243919564105963]}, \"tinfo\": {\"Term\": [\"california\", \"war\", \"washington\", \"born\", \"japanese\", \"seattle\", \"world\", \"los\", \"ii\", \"nisei\", \"angeles\", \"american\", \"male\", \"camp\", \"female\", \"family\", \"grew\", \"manzanar\", \"san\", \"worked\", \"father\", \"university\", \"community\", \"returned\", \"concentration\", \"business\", \"us\", \"hawaii\", \"served\", \"parents\", \"hood\", \"grove\", \"walnut\", \"ketchikan\", \"charlie\", \"stockade\", \"instead\", \"loyalty\", \"fe\", \"hillsboro\", \"libby\", \"chico\", \"parkdale\", \"kelton\", \"modesto\", \"fairview\", \"hawthorne\", \"concession\", \"troutdale\", \"portland\", \"answered\", \"regained\", \"odell\", \"locations\", \"renounced\", \"questionnaire\", \"nono\", \"socalled\", \"oregon\", \"questions\", \"signed\", \"citizenship\", \"ran\", \"farm\", \"tule\", \"lake\", \"parents\", \"watsonville\", \"transferred\", \"camp\", \"ohio\", \"gresham\", \"center\", \"california\", \"concentration\", \"assembly\", \"harbor\", \"removed\", \"minidoka\", \"grew\", \"nisei\", \"pearl\", \"returning\", \"idaho\", \"born\", \"world\", \"war\", \"ii\", \"family\", \"returned\", \"male\", \"leaving\", \"japan\", \"female\", \"worked\", \"washington\", \"seattle\", \"gene\", \"boyd\", \"redlands\", \"lone\", \"penryn\", \"close\", \"isleton\", \"donated\", \"parks\", \"feliz\", \"athletic\", \"spend\", \"guayule\", \"pine\", \"aunt\", \"morningside\", \"sawtelle\", \"architect\", \"pierce\", \"fowler\", \"person\", \"redwood\", \"walerga\", \"jive\", \"saxophone\", \"nippu\", \"bombers\", \"siberia\", \"already\", \"knowing\", \"central\", \"equipment\", \"nakata\", \"lumber\", \"tatsuo\", \"sacramento\", \"wapato\", \"pasadena\", \"minneapolis\", \"military\", \"japan\", \"intelligence\", \"manzanar\", \"california\", \"camp\", \"los\", \"minnesota\", \"service\", \"concentration\", \"war\", \"angeles\", \"removed\", \"ii\", \"born\", \"nisei\", \"world\", \"college\", \"served\", \"island\", \"fresno\", \"male\", \"washington\", \"grew\", \"family\", \"leaving\", \"female\", \"assembly\", \"returned\", \"tule\", \"center\", \"japanese\", \"eventually\", \"school\", \"lake\", \"father\", \"worked\", \"steveston\", \"miyatake\", \"petersburg\", \"ewa\", \"manoa\", \"wenatchee\", \"pacifist\", \"policy\", \"jewish\", \"jara\", \"battalions\", \"hawaiians\", \"electrician\", \"archie\", \"agencies\", \"oahu\", \"planters\", \"scottish\", \"alamosa\", \"tinian\", \"microsoft\", \"multimedia\", \"whitworth\", \"proximity\", \"alasaka\", \"diversity\", \"toyo\", \"heeia\", \"municipal\", \"lithuania\", \"redcap\", \"studio\", \"seymour\", \"counseling\", \"kurose\", \"hawaii\", \"akagi\", \"indian\", \"overturn\", \"decisions\", \"sparks\", \"seattle\", \"landmark\", \"work\", \"minister\", \"homes\", \"hayasaka\", \"sand\", \"father\", \"hawaiian\", \"evacuate\", \"hilo\", \"los\", \"angeles\", \"puyallup\", \"washington\", \"born\", \"minidoka\", \"war\", \"education\", \"school\", \"chapter\", \"camp\", \"japanese\", \"us\", \"nisei\", \"idaho\", \"world\", \"concentration\", \"worked\", \"male\", \"ii\", \"female\", \"attended\", \"center\", \"assembly\", \"family\", \"american\", \"returned\", \"california\", \"grew\", \"japan\", \"removed\", \"disney\", \"ryan\", \"henry\", \"modern\", \"chin\", \"vancouver\", \"drawings\", \"suquamish\", \"sought\", \"yoshino\", \"receiving\", \"cartoon\", \"takano\", \"reconcile\", \"shizuoka\", \"artists\", \"warner\", \"studios\", \"cartooning\", \"dancer\", \"tirelessly\", \"improve\", \"jo\", \"infrastructure\", \"uw\", \"technology\", \"transformative\", \"oversight\", \"fiscal\", \"threetime\", \"translating\", \"kona\", \"mateo\", \"hayasaka\", \"gainor\", \"jacl\", \"kubota\", \"nakashima\", \"theo\", \"fpc\", \"camila\", \"chapter\", \"ruthann\", \"san\", \"city\", \"daughter\", \"represents\", \"incarcerated\", \"aki\", \"fair\", \"jose\", \"committee\", \"japanese\", \"seattle\", \"issei\", \"born\", \"draft\", \"war\", \"school\", \"camp\", \"utah\", \"puyallup\", \"female\", \"justice\", \"rights\", \"washington\", \"americans\", \"family\", \"involved\", \"concentration\", \"american\", \"returned\", \"ii\", \"minidoka\", \"world\", \"center\", \"california\", \"nisei\", \"new\", \"military\", \"idaho\", \"assembly\", \"moved\", \"male\", \"grew\", \"removed\", \"father\", \"dominguez\", \"culver\", \"divorced\", \"rafael\", \"despite\", \"caravanned\", \"cemetery\", \"titled\", \"cornell\", \"monument\", \"syllables\", \"nutrition\", \"woodward\", \"winds\", \"pbs\", \"onishi\", \"kapaa\", \"dietition\", \"chronicle\", \"hisaye\", \"hot\", \"tribune\", \"game\", \"aspiring\", \"redondo\", \"parker\", \"chatsworth\", \"asher\", \"vale\", \"laying\", \"cabrillo\", \"albuquerque\", \"hills\", \"several\", \"california\", \"joses\", \"manzanar\", \"war\", \"san\", \"island\", \"removal\", \"terminal\", \"throughout\", \"born\", \"father\", \"female\", \"bainbridge\", \"nisei\", \"mass\", \"camp\", \"angeles\", \"returned\", \"world\", \"ii\", \"removed\", \"ran\", \"family\", \"concentration\", \"university\", \"leaving\", \"worked\", \"grew\", \"los\", \"moved\", \"japanese\", \"francisco\", \"american\", \"male\", \"eventually\", \"center\", \"parents\", \"assembly\", \"kikuno\", \"lupton\", \"dobashi\", \"mitsuo\", \"couple\", \"monte\", \"hero\", \"shiro\", \"clearing\", \"scottsbluff\", \"brooklyn\", \"kashino\", \"guadalcanal\", \"herzigyoshinaga\", \"command\", \"milpitas\", \"compiled\", \"kuroki\", \"interpreters\", \"ben\", \"caledonia\", \"task\", \"mars\", \"ammo\", \"mitani\", \"mesa\", \"lesbians\", \"gays\", \"gis\", \"yellow\", \"acclaimed\", \"flew\", \"kasuga\", \"macarthur\", \"iraq\", \"missions\", \"fort\", \"air\", \"met\", \"lieutenant\", \"ogden\", \"force\", \"colorado\", \"uncle\", \"us\", \"war\", \"world\", \"ii\", \"arkansas\", \"served\", \"male\", \"arizona\", \"nd\", \"wyoming\", \"born\", \"along\", \"heart\", \"california\", \"family\", \"pomona\", \"camp\", \"nisei\", \"mountain\", \"concentration\", \"sent\", \"army\", \"center\", \"removed\", \"assembly\", \"japan\", \"hawaii\", \"grew\", \"service\", \"returned\", \"parents\", \"female\", \"japanese\", \"leaving\", \"military\", \"moved\", \"school\", \"nemah\", \"richmond\", \"pismo\", \"osco\", \"alexandria\", \"flaco\", \"eagle\", \"packing\", \"brethren\", \"georgia\", \"actprivacy\", \"atlanta\", \"verne\", \"confectionery\", \"surgeon\", \"vascular\", \"chiropractors\", \"supportive\", \"infamy\", \"costume\", \"holyoke\", \"brentwood\", \"perry\", \"designer\", \"como\", \"show\", \"dollars\", \"racetrack\", \"flowers\", \"leagues\", \"eligible\", \"ora\", \"virginia\", \"nakata\", \"researched\", \"payments\", \"justices\", \"individuals\", \"administer\", \"identify\", \"chief\", \"reparations\", \"oki\", \"redress\", \"seattle\", \"japanese\", \"washington\", \"department\", \"national\", \"well\", \"american\", \"movement\", \"arlene\", \"established\", \"oyster\", \"office\", \"political\", \"administration\", \"business\", \"born\", \"school\", \"camp\", \"husband\", \"war\", \"incarcerated\", \"worked\", \"parents\", \"california\", \"nisei\", \"moved\", \"family\", \"ii\", \"concentration\", \"grew\", \"world\", \"university\", \"female\", \"community\", \"male\", \"served\", \"leaving\", \"center\", \"removed\", \"father\", \"returned\", \"sheridan\", \"ownership\", \"hillyard\", \"omura\", \"gonzaga\", \"tokuda\", \"amendment\", \"rocky\", \"kip\", \"congregational\", \"kealakekua\", \"hiraga\", \"statehood\", \"vibrant\", \"preacher\", \"shipwright\", \"pharmacology\", \"nippon\", \"schoolteacher\", \"carpenter\", \"tailor\", \"vint\", \"continue\", \"newspapering\", \"copublisher\", \"article\", \"freedoms\", \"allowing\", \"unwavering\", \"light\", \"rep\", \"prime\", \"protection\", \"islander\", \"mids\", \"liberty\", \"santos\", \"behind\", \"iconic\", \"newspaper\", \"hotels\", \"washington\", \"editor\", \"review\", \"legislator\", \"community\", \"japanese\", \"tokudas\", \"lui\", \"university\", \"seattle\", \"american\", \"association\", \"cultural\", \"male\", \"international\", \"born\", \"war\", \"president\", \"became\", \"award\", \"denver\", \"nisei\", \"asian\", \"center\", \"puyallup\", \"army\", \"served\", \"pearl\", \"moved\", \"assembly\", \"grew\", \"harbor\", \"world\", \"ii\", \"us\", \"bombing\", \"california\", \"camp\", \"concentration\", \"idaho\", \"minidoka\", \"family\", \"removed\", \"military\", \"japan\", \"hyeeun\", \"admiral\", \"narte\", \"lucius\", \"kansha\", \"felix\", \"vallejo\", \"grandson\", \"historic\", \"fourth\", \"cuba\", \"terrace\", \"koyasan\", \"bugle\", \"temples\", \"engineers\", \"observed\", \"radiologist\", \"remember\", \"push\", \"chins\", \"equality\", \"extending\", \"fishery\", \"host\", \"reaffirm\", \"trayvon\", \"bijac\", \"concerned\", \"ward\", \"horiuchi\", \"emery\", \"docent\", \"gallery\", \"baptist\", \"past\", \"american\", \"site\", \"yonsei\", \"protection\", \"tokuda\", \"gidra\", \"history\", \"japanese\", \"filipino\", \"national\", \"asian\", \"park\", \"president\", \"angeles\", \"career\", \"community\", \"los\", \"years\", \"washington\", \"california\", \"sansei\", \"born\", \"male\", \"camp\", \"bainbridge\", \"university\", \"chicago\", \"island\", \"groups\", \"incarcerated\", \"college\", \"seattle\", \"concentration\", \"ii\", \"world\", \"war\", \"center\", \"moved\", \"family\", \"grew\", \"nisei\", \"served\", \"female\", \"returned\", \"japan\", \"worked\", \"removed\", \"commissions\", \"seeking\", \"proof\", \"allegations\", \"schroeder\", \"circuit\", \"progressives\", \"madelon\", \"reservoir\", \"claims\", \"sakahara\", \"build\", \"hioki\", \"caravan\", \"philosophy\", \"hamline\", \"palau\", \"automobile\", \"hanna\", \"perished\", \"policeman\", \"schuman\", \"secretarial\", \"repeal\", \"bookkeeping\", \"laws\", \"talks\", \"governmental\", \"misconduct\", \"reenlisted\", \"serious\", \"reno\", \"hanapepe\", \"publication\", \"horiuchi\", \"denied\", \"judge\", \"vacated\", \"los\", \"hirabayashis\", \"angeles\", \"court\", \"gordon\", \"business\", \"housing\", \"war\", \"born\", \"nisei\", \"ii\", \"world\", \"worked\", \"california\", \"manzanar\", \"washington\", \"grew\", \"francisco\", \"female\", \"san\", \"japanese\", \"white\", \"committee\", \"paul\", \"camp\", \"male\", \"father\", \"returned\", \"seattle\", \"sansei\", \"family\", \"member\", \"concentration\", \"service\", \"parents\", \"removed\", \"leaving\", \"became\", \"center\"], \"Freq\": [1254.0, 889.0, 472.0, 869.0, 323.0, 328.0, 594.0, 260.0, 593.0, 691.0, 258.0, 217.0, 486.0, 1275.0, 378.0, 477.0, 490.0, 168.0, 184.0, 267.0, 272.0, 165.0, 140.0, 353.0, 765.0, 122.0, 229.0, 108.0, 220.0, 277.0, 19.768736796685456, 19.662421446448565, 15.493904253704354, 3.580344752400193, 3.5435846944184033, 6.134767012479326, 4.300619567062165, 33.91465130398699, 7.574259184923448, 4.0921683796271076, 2.4700847439894797, 2.4700502060833243, 2.470034216311956, 2.469845963403713, 2.4695604926855514, 2.4696596292680346, 2.456732218912202, 2.43798154702099, 2.4095031246232153, 161.3867357711088, 5.603391092823269, 5.529169985282905, 2.345313146851508, 2.2918610467429352, 15.384764470252971, 27.975176963091382, 16.247992104886464, 30.16806452301889, 187.16720703066963, 4.535062874045705, 12.093143395101768, 26.446413257507256, 109.12291189742265, 92.66961283374299, 103.40934275199382, 116.28948819644998, 149.01324861813674, 23.7389535352531, 57.15477684539352, 562.275556726595, 17.970937299542683, 7.211530155449089, 212.05236025044556, 520.7421435060123, 334.7492866853518, 191.63232211687236, 105.58127049321787, 227.9363586415409, 101.78785883938097, 214.37961135155945, 277.3173708586641, 98.41308413081222, 68.76771713233849, 94.06261101498716, 301.56920974196294, 216.16488510140314, 293.88912555979124, 215.1679693335259, 179.0564854732194, 139.00001886553392, 173.60029451003695, 111.55241566766418, 132.44392265668193, 137.4612349032257, 105.68924707410144, 123.3358623486025, 104.5647133165857, 5.641583210135605, 5.635822279648886, 2.9389554346905435, 2.9383941347288776, 2.7904735919220482, 1.9618896222045217, 3.8952110022526902, 1.954479541631525, 1.9459289977848493, 2.475242955966753, 3.775187709504827, 1.8722002521488152, 1.8057424483334703, 2.938237830413346, 2.924028372557321, 1.773771237936125, 2.8390032907459726, 2.268158578140324, 2.2248705166262517, 2.3397134377736544, 1.6159370939167341, 2.8850723130596783, 1.5724642583725155, 1.0427745418249263, 1.0427694479789291, 1.0427215100035854, 1.0427105547457556, 1.0427056702358954, 1.042678944989088, 1.0426825734821272, 6.208936614650502, 1.9594960728155268, 6.093381950637733, 3.053637585684829, 3.355679207672637, 31.82196880395726, 3.6724675836011094, 9.287762640783171, 7.82925581169909, 75.01974782891983, 119.3064231009488, 34.70594866149732, 61.2693267196649, 336.8451603651669, 327.8767581436473, 85.16797968244433, 16.689947054697157, 51.09720263505207, 192.32367149268518, 214.12196065340834, 77.35518438985976, 131.79898746388577, 147.20713641696315, 198.91798086311528, 165.00900111148567, 144.61059126400968, 37.46495652001386, 65.31940375863098, 36.15322390905109, 17.548092357204357, 115.03876152308821, 112.17150622730999, 114.69579412811223, 111.32540863815206, 67.87005349870694, 84.104458324545, 88.59868970652434, 78.48203132473714, 48.31685700454674, 86.21512927975117, 69.18529179217519, 53.85853719495123, 57.77375040463947, 45.86141892181718, 49.849108209698414, 48.51679701913658, 2.279213924580404, 1.6315609052559492, 1.631326333802075, 1.6309281574615109, 1.565214576003949, 1.4554298580138003, 1.7454637053425004, 2.2407992276923663, 1.747978526922667, 0.8546376238166308, 0.8546318970841523, 0.8546269563737787, 0.8545900133348487, 0.854586756957557, 0.8545828829914687, 0.8545952909118387, 0.8545632324388464, 0.8545538563180237, 0.8545463329635912, 0.8545348233541982, 0.8545259525333001, 0.8545188221899199, 0.8544961959821863, 0.8545128708796972, 0.8544641375091939, 0.8544314053029687, 0.8543430901050405, 0.8543345561507588, 0.8541968899935305, 0.8408263732671332, 1.152520856318093, 1.6313866329264073, 2.448037548891114, 2.012567378960668, 5.017890108665497, 29.337771112644855, 4.444774442659252, 1.8119949743668946, 1.720733204145148, 1.703498209740048, 1.2433587360475586, 50.519503778390785, 1.6830544485250334, 18.386309278931524, 6.923494252125963, 1.4761782589388965, 3.0050633424102147, 2.5312164292305095, 38.90986206816879, 1.2212688199671555, 1.184432343176869, 4.461249016822305, 35.32395915739417, 34.974146083210975, 15.822380630895099, 49.625346591328814, 67.10837184367186, 24.529577777744464, 64.93111037596184, 9.23976350450843, 29.333441253735618, 8.815345703683745, 70.74947057411848, 29.984405896476858, 24.113720880530778, 45.789817433016054, 21.824071726485823, 39.26031114652372, 45.21073024479007, 23.905499582545428, 33.17908000378376, 36.839783472992856, 27.938524205777927, 16.565842558318103, 29.905381479828435, 27.85723963871132, 29.250178605897617, 19.57355838846571, 23.99904968769226, 41.79259948532756, 26.273961151848226, 22.923404937321045, 22.017797878545984, 1.7803636476127966, 1.7235356124800525, 2.235040645363103, 2.6414847588148507, 3.5630419462830756, 3.0050596612973965, 0.9408484988781185, 0.9407830192020581, 0.9407688134418281, 0.9407544966990963, 0.9407406238863716, 0.9406350795271625, 0.9406154356243444, 0.940581696943798, 0.940511666985164, 1.377626460703577, 0.9312838049082327, 0.930889095640591, 0.9298396451035967, 1.392335526579268, 0.9212612526271826, 0.9170049072095076, 0.9202885464901811, 0.9144531975281865, 0.9138050597176909, 0.9139879033894017, 1.3788157491928357, 0.9102787571968377, 0.9077125088077812, 0.9014416645087344, 1.3202810251474544, 1.7289138245171445, 1.3687121241942228, 3.6577062469110206, 1.6117378332246566, 20.351869963527754, 1.6072134095738904, 1.5255584778066122, 2.2268148442948985, 1.877374895206247, 1.4948022300310613, 10.884342505755466, 3.0038590525929543, 28.761585906550383, 16.848852015481675, 3.2773610005469047, 2.0621998265392074, 18.929147095008908, 3.5141157542957897, 3.773952870733459, 9.825904161835657, 8.20780325785296, 36.60684839687254, 36.210202262609464, 7.34434563204057, 63.58344856755779, 7.12136092121967, 63.59869134828462, 29.802228872202022, 79.58094582101306, 14.99179335508942, 13.585880340222785, 34.07366302689144, 9.410601425090457, 9.365925197026993, 37.42990883596077, 9.613613280957928, 37.026095895661626, 12.163323501526628, 45.31794131889552, 21.755986837585304, 28.64475418297847, 36.45972999249018, 20.370152776943815, 34.38270578925592, 29.778301044814548, 49.30778534286501, 35.89109116768194, 12.118462598580173, 19.07716401372582, 18.71564162163151, 24.927293181379813, 18.376738351263484, 23.92656662625456, 23.304892371347485, 21.522271894560642, 17.93574538500227, 2.09770347173401, 1.4633725162710591, 1.407862986700012, 1.4204691139234202, 1.2883142526917621, 1.2142050823088537, 0.7667790278755542, 0.7667913708053395, 0.7667453734123263, 0.7667324976942049, 0.7667081670268582, 0.7666787748703188, 0.76665382261658, 0.7666807284275511, 0.7666576409329884, 0.766626650411441, 0.7666250520464327, 0.7666047172916065, 0.7666297583434013, 0.7666292255550652, 0.7666143962797115, 0.7666055164741106, 0.7666264728153289, 0.766557210331641, 0.7664524286255493, 0.7664317386784989, 0.7555755547448805, 0.7525244535403758, 0.7502052259135057, 0.7354684337351649, 1.1317435667776417, 2.3502547332165897, 2.1049984096313463, 11.7181637125346, 130.6644213807521, 2.095346948923616, 24.31630337320855, 80.0990460926029, 24.699331301462255, 16.44493111932217, 5.028967437346479, 4.941932200344358, 2.747920488215212, 59.89770714873066, 26.6093561747046, 33.231798688883295, 11.174270646782018, 47.56745914650336, 4.628162848664014, 69.12524309553135, 23.59051636952502, 28.91553688080117, 40.3170083648438, 39.593072623031965, 34.55560010788085, 17.86204437711286, 32.55198918744841, 42.76988914254453, 16.37243638639558, 21.84416265235147, 21.86435177836591, 30.225065255467896, 20.924851296553022, 19.038524848498636, 23.01317130011234, 11.036794206851736, 16.963790237124403, 25.50083534192887, 16.693912343760925, 19.43397882151816, 15.788879715368886, 15.916267275367533, 4.057328280204285, 4.857443582498712, 1.4845915481208327, 1.3731179070603041, 3.6896322490054247, 1.3347343247073502, 1.2676841790432847, 0.8584913003346148, 0.8584637239907837, 0.8584508029994918, 0.8584389226249483, 0.8584258281975315, 0.8584096986379323, 0.8584296437922755, 0.8583911409725868, 0.8583441397827867, 0.8583088455314053, 0.8583097994300913, 0.858329137557998, 0.8582847379100688, 0.8582805754430753, 0.8551736407047718, 0.8522609544261589, 0.8505659631792324, 0.8456285835805929, 0.8456679535809053, 0.845995661138571, 0.845607771245626, 0.8460333834956985, 0.8452027978943958, 1.1992566036766623, 1.4959994826606706, 1.2567337690004683, 1.262345901842346, 1.2289974303443134, 1.4553248958181766, 8.588577014917066, 7.5118917963317005, 4.671683086751952, 1.465981331629586, 2.317276246841033, 5.840884684221026, 16.930670771843545, 3.3617731081666427, 29.547804748234448, 76.45916851068927, 56.70128633245278, 53.92588654021535, 12.242190049539834, 26.577390602379495, 45.231228360227675, 13.757157373980933, 9.543492730333792, 11.2705710478232, 58.092898947545265, 6.9068453065979645, 12.733372254669849, 69.56194960275798, 36.96826795705671, 4.590892377388575, 63.00235116763717, 43.336989530751396, 12.035545763142823, 44.88729481247723, 11.4975732665403, 11.774611807240243, 29.658998116517424, 29.27612330255498, 26.161549049829535, 24.138673340390053, 12.767092399783165, 25.42533073773363, 14.649994056658493, 19.77400896285781, 17.807591568227444, 18.419693439514948, 15.761990176493141, 15.03078763712425, 14.076167456864052, 14.159475071269423, 14.051798987595848, 1.635325887243382, 2.3003509907028943, 0.8567459578190038, 0.8567424298758705, 0.8567046195288113, 0.8566782366497273, 0.8566372051371987, 0.8566345208326407, 0.8565779203536759, 0.8565598204715136, 0.8565174851539139, 0.8564797515012706, 0.8564755333083939, 0.8485633538877849, 0.8477579091315669, 0.8475986915240723, 0.8430171205045566, 0.8423414427001117, 0.8058882033310184, 0.794592036195821, 0.792872087223916, 0.7910129378870772, 0.7886942356099166, 0.7819457405623886, 0.778076583972554, 0.7669600351594916, 0.7736418827595664, 0.778916234438282, 0.7754981177085994, 0.7573073526635055, 4.358459600877799, 9.588582530252896, 1.4116743865284538, 4.323561494180753, 1.4363250455338878, 4.231072630220213, 4.143229607199748, 4.913597712120434, 3.7822360472491896, 3.967229420831121, 2.2958105278903234, 4.400539679461276, 2.9930928425283514, 13.292489650168, 33.52166649214593, 31.019909369460787, 39.66545367996456, 10.404468771034885, 8.904995997636044, 5.801216546910208, 21.27665567669027, 6.92574627320938, 2.208917748683374, 10.204739945929273, 2.7397040023650825, 5.781758253252849, 4.031424487640172, 4.557022977638763, 12.737236804079117, 41.63121132273878, 19.271959358609532, 44.83310624655629, 7.481985102709608, 31.90265596139463, 10.40106108474577, 16.64895388631876, 16.951618275169142, 35.84145046734893, 26.25459448178771, 15.031694442472231, 21.149684082989424, 23.28715868239078, 24.05543057553495, 19.714900901993627, 21.190691666860374, 12.116259911304972, 16.686042078757435, 10.403163125297896, 15.539353801804433, 11.683941464861775, 12.227953977350266, 11.576066167175043, 11.28397947217132, 10.835059445675752, 10.588782018536246, 1.8325297924678237, 2.313806434943286, 2.2087197466922674, 1.5965629091635105, 1.5364323488681033, 6.5574008352354625, 1.5440667609245011, 2.9845543738800564, 3.376531488543017, 0.9599770170077913, 0.9599517822129864, 0.959945916828248, 0.9599117475520392, 0.9599029494749316, 0.9598876039916043, 0.9598655746977611, 0.959764226305653, 0.9597327169132209, 0.9597266469220381, 0.9597190764835967, 0.9596554438793995, 0.9590042497691378, 0.9406890403062096, 0.939615061079744, 0.9388271216624992, 0.9376530216825916, 0.9367086265375565, 0.9348424793606624, 0.9299901011282791, 1.8464584443700367, 1.7666978053980715, 1.7501563292013331, 2.4628161250101743, 1.7171108879893229, 2.3957938740514098, 1.6880903283465407, 1.6650498694553273, 1.6581137109913948, 1.6505432725499347, 7.783386281347725, 2.2312864734626303, 60.496527566053985, 5.434713271433295, 2.068637172197267, 1.569045524865321, 20.19160496740741, 35.540405647176044, 1.5422547662532156, 1.5353828542128134, 21.48406077269584, 32.93734026162086, 24.40962738147441, 5.639390646031128, 3.468998869731455, 27.36443034149242, 3.8703900633038897, 33.5202711146367, 30.16624442531355, 7.388217578961281, 11.7609661143421, 3.904662733969194, 5.650523419073258, 22.730256970573766, 6.062965815918669, 17.01463541954454, 7.946939943097176, 7.988277537882066, 11.512545518790844, 10.932320927012462, 11.396234121002028, 14.17611548522173, 14.822184067647935, 10.458203600429586, 15.29160253903385, 14.19126400074524, 10.316953132350156, 9.188130103303, 16.703269151832025, 16.472552742698678, 13.761054671505649, 9.684402761298772, 9.698386929749557, 11.442036501211527, 11.104728318822424, 9.539805477406738, 9.54702508399826, 1.3322788545016584, 0.8808173848881597, 0.8806910905903576, 0.8806873453535243, 0.8806781357547542, 0.8806695401292353, 0.8806198696932013, 0.8806063008843465, 0.8805910743477131, 0.8805822331328936, 0.8804848569752299, 0.8529259922179245, 0.788541134639451, 0.776165705593317, 0.7704882949381074, 0.738929640037574, 0.7377694147845029, 0.7250871833046705, 0.7241225085321534, 0.7237535106080937, 0.7214850636363404, 1.0940095886545547, 0.7196108488892772, 0.7163949183960445, 0.7120283406324617, 0.7058175100164814, 0.6975150567251359, 0.6732710335518551, 0.6864383652975771, 0.6813068996574656, 0.8807150969444852, 0.990260204449892, 1.0009267003482256, 1.5685454623975172, 3.242611069253908, 2.233077937457595, 33.387727878264435, 1.8245462757435347, 2.654455638714947, 1.6420142384216512, 2.8853889065656513, 1.1759346182694967, 4.466114124734098, 28.15617673932572, 1.6812170444934353, 7.419572035372933, 6.12934457724001, 4.028830586838039, 6.685578801673517, 16.023232253793257, 6.628205702817407, 11.10815632874387, 15.428870781629676, 9.854647909291732, 20.824562020762215, 35.44490567187191, 9.108584943828028, 27.489226928780436, 19.12180888212057, 29.300377290536773, 6.796845981354304, 9.623676083920842, 7.518460040770752, 7.365062507761107, 3.7791807128039596, 6.991829641802813, 6.9043502417722316, 11.147767918206402, 15.721454086005377, 13.979110969759644, 13.940825562520024, 16.299529058114416, 12.056308835477878, 9.228065120897437, 12.035884646887855, 11.749902782910642, 12.468111009907217, 8.594915274606732, 9.180962075411266, 8.691385698930045, 8.17129632539266, 7.6393700387478995, 7.691169242838978, 0.5612876469727953, 0.5598114625740104, 0.5574605397811323, 0.5560673031706208, 0.5541379769723462, 1.0743153046934537, 0.5290132052046688, 0.5221232315506833, 0.5100702798546378, 0.7579680041096817, 0.7470265289237937, 0.7237812311969527, 0.48351849008029, 0.4726261812865168, 0.45703280211996183, 0.4486872468427835, 0.4407939090727021, 0.4491583378042216, 0.42938852855333215, 0.6340054863074548, 0.41549471438575797, 0.4220228722918287, 0.40952488871664233, 0.40846967477890456, 0.3980058798647382, 0.4018446450669026, 0.397348052024092, 0.5813029303936544, 0.5786490185912742, 0.3780591729762403, 0.7416455967723594, 1.0164592521885893, 0.7390155376768873, 0.5613618885230472, 0.5613484117436441, 0.8581917713109029, 1.4513441898106754, 1.1353487762855674, 12.960273841883684, 1.0579199080729922, 11.748401765403313, 2.1741019609859618, 1.076107120036402, 6.324593896247217, 1.270774905027904, 17.98063225585209, 17.5065969162732, 14.818365362139186, 13.297134172249724, 12.861222137068166, 8.059593045448505, 17.970110349780718, 6.039786374058797, 9.725972727416112, 9.525737839895756, 4.149484635448519, 8.210851646928269, 5.803394599298625, 7.072975437818702, 2.8734695292399395, 2.5176071784425043, 1.7972315771061456, 12.198784760811971, 7.9206820362268715, 5.943296449965228, 6.6007118773089575, 6.318085446640229, 3.7648330215210906, 6.6114546594462995, 2.260908163128916, 6.66092278830334, 3.53499549356517, 4.209122604422966, 4.933151963403531, 4.101780652794414, 3.4058447734833277, 3.5854058043450867], \"Total\": [1254.0, 889.0, 472.0, 869.0, 323.0, 328.0, 594.0, 260.0, 593.0, 691.0, 258.0, 217.0, 486.0, 1275.0, 378.0, 477.0, 490.0, 168.0, 184.0, 267.0, 272.0, 165.0, 140.0, 353.0, 765.0, 122.0, 229.0, 108.0, 220.0, 277.0, 23.327247587272495, 23.21935371584804, 18.572991093695634, 4.326135268939569, 4.316125881453442, 7.57050166316837, 5.318710557896433, 42.61085393241705, 9.661165636421934, 5.251321264417569, 3.172653448097919, 3.172621895624309, 3.1726054946771787, 3.172422174652089, 3.1721343541642057, 3.172262699370087, 3.1680578336257366, 3.1622083947387942, 3.1474661870596448, 212.54036573334196, 7.438843035144995, 7.374239207241252, 3.1482022840303343, 3.1001112357137424, 21.058104541795256, 38.35214330152288, 22.33494720593361, 41.52696691818051, 258.90184218542447, 6.306974990602001, 16.883668850501348, 37.54347557513267, 181.51110748649884, 158.65959505157028, 179.44111190105286, 204.1239210243685, 277.09609092124435, 37.849562091771084, 99.71864008426893, 1275.4151465691464, 28.214060830800822, 10.329129506282738, 451.2765652194178, 1254.8737953237157, 765.4576758180935, 407.6013159709012, 207.89161534599313, 502.1201682862053, 205.31389605504043, 490.1173805885168, 691.1830570725106, 204.6843533189183, 136.4377610372615, 201.11511029683743, 869.3169233950129, 594.7211299039714, 889.448164241413, 593.9482462043648, 477.417485647971, 353.7297020323495, 486.42304142696435, 264.9314611082026, 351.03161510092553, 378.2927500990059, 267.5428474268034, 472.01658502197824, 328.3185477256468, 6.481903276355031, 6.480515953950811, 3.664380512272836, 3.663832161060155, 3.699068460703647, 2.710736241263204, 5.386726060168716, 2.709586165122151, 2.7076692369192275, 3.4636613181339375, 5.340124270435261, 2.7407090735438175, 2.667377463142157, 4.360706010846261, 4.449522896036091, 2.738723912307213, 4.446713791567274, 3.560942554644073, 3.5279521081093232, 3.757939235323491, 2.6525828737455526, 4.774053988107496, 2.6397226374321603, 1.768191763102221, 1.768186519774213, 1.7681386850399305, 1.7681278557428795, 1.768123183084253, 1.7681010838514672, 1.76811031963692, 10.994964901080419, 3.397368447088689, 11.252262621156499, 5.470207005246393, 6.083108337499668, 68.3579211246541, 6.864059936745796, 18.92451656812272, 15.96430267721773, 206.29194768447883, 351.03161510092553, 86.7157459468589, 168.22803850398498, 1254.8737953237157, 1275.4151465691464, 260.6568859468207, 38.40939704301506, 150.0597312375567, 765.4576758180935, 889.448164241413, 258.2038328441128, 502.1201682862053, 593.9482462043648, 869.3169233950129, 691.1830570725106, 594.7211299039714, 108.93979994398914, 220.5616713805134, 106.96486170336964, 42.574761714958385, 486.42304142696435, 472.01658502197824, 490.1173805885168, 477.417485647971, 264.9314611082026, 378.2927500990059, 407.6013159709012, 353.7297020323495, 179.44111190105286, 451.2765652194178, 323.0654016078068, 219.27615000911834, 280.6130598224139, 204.1239210243685, 272.0100731538182, 267.5428474268034, 3.1080614665711277, 2.374094872770417, 2.373868261559829, 2.37353279966603, 2.388658544495804, 2.3748176026059604, 3.078828782755633, 4.036692802324236, 3.149833479735416, 1.5971698204635887, 1.5971633141635102, 1.597177289635568, 1.5971221753419504, 1.5971173420560565, 1.597115923566685, 1.5971506752329523, 1.5970949388811728, 1.5970849237174505, 1.5970797409369053, 1.5970742031938319, 1.5970586719759126, 1.5970515093953275, 1.5970289308504642, 1.5970703540138462, 1.5970042794577926, 1.5969659397410074, 1.5968754965923033, 1.5968676499410055, 1.5967313283489537, 1.5984069467989086, 2.2097121623917944, 3.2291492991393724, 5.153681567554067, 4.207949873155441, 13.112855815040191, 108.07178470653056, 11.488457499835901, 3.9946623250812037, 3.8655914517814973, 3.8532108247124124, 2.5734220932067453, 328.3185477256468, 3.8697388047724592, 90.06561384753064, 24.944354455452583, 3.2768893473272995, 8.367464768280835, 6.747075088385095, 272.0100731538182, 2.5847294046591425, 2.481712516616848, 14.96054949288532, 260.6568859468207, 258.2038328441128, 86.54562363536719, 472.01658502197824, 869.3169233950129, 205.31389605504043, 889.448164241413, 47.895735341072005, 280.6130598224139, 45.02203931876156, 1275.4151465691464, 323.0654016078068, 229.89533930726486, 691.1830570725106, 201.11511029683743, 594.7211299039714, 765.4576758180935, 267.5428474268034, 486.42304142696435, 593.9482462043648, 378.2927500990059, 153.1294561612119, 451.2765652194178, 407.6013159709012, 477.417485647971, 217.66183397169613, 353.7297020323495, 1254.8737953237157, 490.1173805885168, 351.03161510092553, 502.1201682862053, 2.5356294159410577, 2.528284283488754, 3.324698763035225, 4.334534498070547, 6.047258652251177, 5.158375750548306, 1.6755394319130237, 1.6754757152047774, 1.675458098086746, 1.6754457215279746, 1.6754323445569062, 1.6753282574408266, 1.6753069209233196, 1.6752720980449802, 1.6756715629626056, 2.4691107917062043, 1.6780291167798294, 1.678224153543791, 1.6784147734644612, 2.515814638726165, 1.6742984920765704, 1.6742073276108844, 1.6828815834238193, 1.6733059866987594, 1.6743416652412082, 1.674751993730665, 2.5295063927425496, 1.6753925365955964, 1.674456114736254, 1.6743652687189539, 2.5132194713608706, 3.4842740270430808, 2.6718240748935753, 8.367464768280835, 3.2421987711552203, 68.85384701191138, 3.308203282741495, 3.1521957317627405, 5.100241577029475, 4.253361447989412, 3.153882347668193, 45.02203931876156, 8.205852171735941, 184.53182307647458, 88.94155346924569, 9.276505468054639, 4.959531689305607, 109.84426405184934, 10.626426695479923, 11.843931852196851, 45.75564745204235, 36.26013432194647, 323.0654016078068, 328.3185477256468, 31.499052527375508, 869.3169233950129, 31.729837353543363, 889.448164241413, 280.6130598224139, 1275.4151465691464, 100.56056484311179, 86.54562363536719, 378.2927500990059, 49.657859730754126, 49.426947036148704, 472.01658502197824, 53.49489068160231, 477.417485647971, 79.44228013345, 765.4576758180935, 217.66183397169613, 353.7297020323495, 593.9482462043648, 205.31389605504043, 594.7211299039714, 451.2765652194178, 1254.8737953237157, 691.1830570725106, 81.77135585596523, 206.29194768447883, 201.11511029683743, 407.6013159709012, 227.64854942134235, 486.42304142696435, 490.1173805885168, 502.1201682862053, 272.0100731538182, 2.9343695020335905, 2.213914819066833, 2.2215098184399844, 2.243907702338228, 2.266618626379439, 2.3391509059406563, 1.5173030193777859, 1.517339104669524, 1.5172726384160713, 1.5172574098496743, 1.5172604853585314, 1.5172067422724238, 1.5171819293320257, 1.51724513975575, 1.5172105032014622, 1.5171513739500013, 1.5171497286632913, 1.5171302431025064, 1.5171840066121267, 1.517185779320911, 1.5171706123675244, 1.517161961025789, 1.5172517991075969, 1.5171200344880689, 1.517010891894128, 1.516996950014579, 1.5248438308123116, 1.5270106683035005, 1.5285975682954742, 1.5229188836524767, 2.3619049780857897, 4.992127895786471, 4.9430559993081316, 52.46645551033723, 1254.8737953237157, 5.81012371110906, 168.22803850398498, 889.448164241413, 184.53182307647458, 106.96486170336964, 22.517157982122566, 22.20856984723377, 9.542967593121945, 869.3169233950129, 272.0100731538182, 378.2927500990059, 76.90950803768418, 691.1830570725106, 21.36402330714504, 1275.4151465691464, 258.2038328441128, 353.7297020323495, 594.7211299039714, 593.9482462043648, 502.1201682862053, 181.51110748649884, 477.417485647971, 765.4576758180935, 165.02183618379755, 264.9314611082026, 267.5428474268034, 490.1173805885168, 260.6568859468207, 227.64854942134235, 323.0654016078068, 92.33935378302125, 217.66183397169613, 486.42304142696435, 219.27615000911834, 451.2765652194178, 277.09609092124435, 407.6013159709012, 5.520788670283438, 7.054625735916442, 2.3276767959322187, 2.3966984783348, 6.565071442664033, 2.4438206124421478, 2.3241356184038113, 1.6006726987839326, 1.6006459193622662, 1.6006277942877363, 1.600616931541453, 1.6006090873823384, 1.6005974328597758, 1.6006396361320887, 1.6005904352159794, 1.6005265137416833, 1.6004925489252153, 1.6004945411772395, 1.6005435910966261, 1.600471281600239, 1.6004694174315808, 1.6012600285398635, 1.601734709586281, 1.6040825206042448, 1.600525673236666, 1.6006424915256259, 1.6020389117829044, 1.6019007337155087, 1.6060277372633336, 1.6061905947827264, 2.292934856115463, 2.971577404756485, 2.4626107545992437, 2.480935522122163, 2.4270994436047317, 2.9981411147885555, 25.721289972593752, 24.323343618124383, 14.34121428043178, 3.260235030224676, 6.096667655981531, 21.51229404569984, 96.82067035373662, 10.750082295496252, 229.89533930726486, 889.448164241413, 594.7211299039714, 593.9482462043648, 71.54619657440931, 220.5616713805134, 486.42304142696435, 87.2483922398642, 51.6582717864753, 70.50869784139218, 869.3169233950129, 33.79198313454696, 87.53011835711493, 1254.8737953237157, 477.417485647971, 18.107043872186406, 1275.4151465691464, 691.1830570725106, 88.0622884274396, 765.4576758180935, 81.82449668938072, 91.53681804570334, 451.2765652194178, 502.1201682862053, 407.6013159709012, 351.03161510092553, 108.07178470653056, 490.1173805885168, 150.0597312375567, 353.7297020323495, 277.09609092124435, 378.2927500990059, 323.0654016078068, 264.9314611082026, 206.29194768447883, 227.64854942134235, 280.6130598224139, 2.3776763365217133, 4.257025659419624, 1.5990919963321122, 1.5990882400617314, 1.5990534855016774, 1.5990248125985231, 1.598982487372808, 1.5989799595709664, 1.598924547657255, 1.5989052842897173, 1.5988639179300812, 1.5988265701288038, 1.598823166010137, 1.597974979199107, 1.5979713859930973, 1.5979308541034105, 1.6003806241226555, 1.600451457263521, 1.5935815055458682, 1.5923009344586203, 1.592094821255474, 1.591944734894898, 1.5916866361381072, 1.590881773537437, 1.5906235225630958, 1.5893404627881262, 1.6076520270194388, 1.6385927045078694, 1.6403133844454092, 1.6092349109097543, 10.381500580963126, 24.591072832944075, 3.1660316293371005, 11.252262621156499, 3.2317317397373913, 11.282438033647349, 11.110826514241227, 14.109139006591183, 10.360880242945917, 11.193775087742866, 5.813167465488165, 13.382283347339522, 8.444169666297261, 67.36423434090366, 328.3185477256468, 323.0654016078068, 472.01658502197824, 64.28440849863878, 55.46861439932744, 29.15154392388911, 217.66183397169613, 38.73835019346472, 6.8696928342820724, 78.30688768514496, 9.941999103579377, 33.29791321266126, 18.88584716705154, 23.330390033538144, 122.76319397798767, 869.3169233950129, 280.6130598224139, 1275.4151465691464, 59.077099559618695, 889.448164241413, 109.84426405184934, 267.5428474268034, 277.09609092124435, 1254.8737953237157, 691.1830570725106, 227.64854942134235, 477.417485647971, 593.9482462043648, 765.4576758180935, 490.1173805885168, 594.7211299039714, 165.02183618379755, 378.2927500990059, 140.60582077572647, 486.42304142696435, 220.5616713805134, 264.9314611082026, 451.2765652194178, 502.1201682862053, 272.0100731538182, 353.7297020323495, 2.56548277658008, 3.405934158589578, 3.428080295729443, 2.6046069956765923, 2.559550272864498, 11.051333650699315, 2.604346816978989, 5.1903835117857495, 5.928215304001589, 1.6929274109673729, 1.6929023663465956, 1.6928930215118478, 1.692863783847983, 1.6928529310831948, 1.6928394916224323, 1.6928175772123446, 1.6927124822854187, 1.692681096373852, 1.6926746026604411, 1.692674318679206, 1.69260403291714, 1.6925772256848735, 1.6924646835561166, 1.6925436665710716, 1.6923578704981097, 1.6923212993651875, 1.6923255756387816, 1.6921335719308022, 1.6922845402010136, 3.4656560735767994, 3.3772245010548874, 3.377977803785952, 5.042903330217787, 3.3772686730129715, 5.114515756114041, 3.3764144872709565, 3.372157582752075, 3.3729412239819534, 3.376870629642413, 26.347466730924932, 5.278983456950213, 472.01658502197824, 17.881204092929906, 4.955623497487973, 3.3650020028809946, 140.60582077572647, 323.0654016078068, 3.3731648514867243, 3.3638375826946545, 165.02183618379755, 328.3185477256468, 217.66183397169613, 24.726653770304154, 11.673466880999726, 486.42304142696435, 15.399703213332492, 869.3169233950129, 889.448164241413, 57.3531701069817, 158.3838922827737, 17.111508391166748, 37.96558666733431, 691.1830570725106, 44.76371707306576, 451.2765652194178, 86.54562363536719, 91.53681804570334, 220.5616713805134, 204.6843533189183, 227.64854942134235, 407.6013159709012, 490.1173805885168, 207.89161534599313, 594.7211299039714, 593.9482462043648, 229.89533930726486, 162.0008998976418, 1254.8737953237157, 1275.4151465691464, 765.4576758180935, 201.11511029683743, 205.31389605504043, 477.417485647971, 502.1201682862053, 206.29194768447883, 351.03161510092553, 2.451695445765773, 1.6209737324316136, 1.6208497906277037, 1.6208440423527568, 1.620834886749309, 1.620829097943456, 1.6207771916876093, 1.620783690090096, 1.620758764875734, 1.620747108259389, 1.6206433765987955, 1.620039362052629, 1.629078630269008, 1.6301710166162844, 1.6306998894483165, 1.6170198443220871, 1.6170626480868302, 1.6314232303422287, 1.6347405599130227, 1.6346427785277209, 1.6347899077264163, 2.4791885618530536, 1.634913165880638, 1.6351353952810102, 1.6354480138296588, 1.6362449294461148, 1.637060833298563, 1.5954098924470979, 1.6379644605748296, 1.638262833600434, 2.131145097305723, 2.4379194898756964, 2.4731101549694867, 4.188133713033414, 9.763990197335566, 6.738782025472307, 217.66183397169613, 5.372543001737501, 8.785445354386606, 5.042903330217787, 11.051333650699315, 3.2475726845862414, 21.96564325659808, 323.0654016078068, 5.486731897217958, 55.46861439932744, 44.76371707306576, 24.389891617929663, 57.3531701069817, 258.2038328441128, 57.859215078773296, 140.60582077572647, 260.6568859468207, 123.19170433948248, 472.01658502197824, 1254.8737953237157, 110.13288131689153, 869.3169233950129, 486.42304142696435, 1275.4151465691464, 76.90950803768418, 165.02183618379755, 111.34585303266604, 106.96486170336964, 28.197336976610803, 109.84426405184934, 108.93979994398914, 328.3185477256468, 765.4576758180935, 593.9482462043648, 594.7211299039714, 889.448164241413, 451.2765652194178, 227.64854942134235, 477.417485647971, 490.1173805885168, 691.1830570725106, 220.5616713805134, 378.2927500990059, 353.7297020323495, 351.03161510092553, 267.5428474268034, 502.1201682862053, 1.3304967549845554, 1.3319383625224988, 1.3359266261818086, 1.3376267574939933, 1.340032324216844, 2.647819579693156, 1.358316610722516, 1.3510017188869337, 1.3746581239912592, 2.0467504957893814, 2.058230460075172, 2.0331867636131484, 1.4186081271945092, 1.4317834203630218, 1.4046062850946295, 1.4105448677315087, 1.3943690059762652, 1.4571698917145324, 1.4243580979391004, 2.1271842239577223, 1.403646922987978, 1.429373143971546, 1.4098245118429176, 1.4346933171324812, 1.415770832790926, 1.4382949880317222, 1.4415268714581626, 2.168798055592411, 2.1698291979507807, 1.426256468530519, 2.8041480723559244, 3.9832287916931737, 2.882092166186547, 2.121760088211868, 2.131145097305723, 3.873798208092866, 8.644837052194557, 6.0672257789443105, 260.6568859468207, 5.664379953245808, 258.2038328441128, 18.775800678047286, 6.0885191146585935, 122.76319397798767, 8.303921854264399, 889.448164241413, 869.3169233950129, 691.1830570725106, 593.9482462043648, 594.7211299039714, 267.5428474268034, 1254.8737953237157, 168.22803850398498, 472.01658502197824, 490.1173805885168, 92.33935378302125, 378.2927500990059, 184.53182307647458, 323.0654016078068, 48.480914648545664, 36.26013432194647, 17.88628155295495, 1275.4151465691464, 486.42304142696435, 272.0100731538182, 353.7297020323495, 328.3185477256468, 110.13288131689153, 477.417485647971, 33.2740799844856, 765.4576758180935, 150.0597312375567, 277.09609092124435, 502.1201682862053, 264.9314611082026, 158.3838922827737, 451.2765652194178], \"Category\": [\"Default\", \"Default\", \"Default\", \"Default\", \"Default\", \"Default\", \"Default\", \"Default\", \"Default\", \"Default\", \"Default\", \"Default\", \"Default\", \"Default\", \"Default\", \"Default\", \"Default\", \"Default\", \"Default\", \"Default\", \"Default\", \"Default\", \"Default\", \"Default\", \"Default\", \"Default\", \"Default\", \"Default\", \"Default\", \"Default\", \"Topic1\", \"Topic1\", \"Topic1\", \"Topic1\", \"Topic1\", \"Topic1\", \"Topic1\", \"Topic1\", \"Topic1\", \"Topic1\", \"Topic1\", \"Topic1\", \"Topic1\", \"Topic1\", \"Topic1\", \"Topic1\", \"Topic1\", \"Topic1\", \"Topic1\", \"Topic1\", \"Topic1\", \"Topic1\", \"Topic1\", \"Topic1\", \"Topic1\", \"Topic1\", \"Topic1\", \"Topic1\", \"Topic1\", \"Topic1\", \"Topic1\", \"Topic1\", \"Topic1\", \"Topic1\", \"Topic1\", \"Topic1\", \"Topic1\", \"Topic1\", \"Topic1\", \"Topic1\", \"Topic1\", \"Topic1\", \"Topic1\", \"Topic1\", \"Topic1\", \"Topic1\", \"Topic1\", \"Topic1\", \"Topic1\", \"Topic1\", \"Topic1\", \"Topic1\", \"Topic1\", \"Topic1\", \"Topic1\", \"Topic1\", \"Topic1\", \"Topic1\", \"Topic1\", \"Topic1\", \"Topic1\", \"Topic1\", \"Topic1\", \"Topic1\", \"Topic1\", \"Topic1\", \"Topic1\", \"Topic2\", \"Topic2\", \"Topic2\", \"Topic2\", \"Topic2\", \"Topic2\", \"Topic2\", \"Topic2\", \"Topic2\", \"Topic2\", \"Topic2\", \"Topic2\", \"Topic2\", \"Topic2\", \"Topic2\", \"Topic2\", \"Topic2\", \"Topic2\", \"Topic2\", \"Topic2\", \"Topic2\", \"Topic2\", \"Topic2\", \"Topic2\", \"Topic2\", \"Topic2\", \"Topic2\", \"Topic2\", \"Topic2\", \"Topic2\", \"Topic2\", \"Topic2\", \"Topic2\", \"Topic2\", \"Topic2\", \"Topic2\", \"Topic2\", \"Topic2\", \"Topic2\", \"Topic2\", \"Topic2\", \"Topic2\", \"Topic2\", \"Topic2\", \"Topic2\", \"Topic2\", \"Topic2\", \"Topic2\", \"Topic2\", \"Topic2\", \"Topic2\", \"Topic2\", \"Topic2\", \"Topic2\", \"Topic2\", \"Topic2\", \"Topic2\", \"Topic2\", \"Topic2\", \"Topic2\", \"Topic2\", \"Topic2\", \"Topic2\", \"Topic2\", \"Topic2\", \"Topic2\", \"Topic2\", \"Topic2\", \"Topic2\", \"Topic2\", \"Topic2\", \"Topic2\", \"Topic2\", \"Topic2\", \"Topic2\", \"Topic2\", \"Topic3\", \"Topic3\", \"Topic3\", \"Topic3\", \"Topic3\", \"Topic3\", \"Topic3\", \"Topic3\", \"Topic3\", \"Topic3\", \"Topic3\", \"Topic3\", \"Topic3\", \"Topic3\", \"Topic3\", \"Topic3\", \"Topic3\", \"Topic3\", \"Topic3\", \"Topic3\", \"Topic3\", \"Topic3\", \"Topic3\", \"Topic3\", \"Topic3\", \"Topic3\", \"Topic3\", \"Topic3\", \"Topic3\", \"Topic3\", \"Topic3\", \"Topic3\", \"Topic3\", \"Topic3\", \"Topic3\", \"Topic3\", \"Topic3\", \"Topic3\", \"Topic3\", \"Topic3\", \"Topic3\", \"Topic3\", \"Topic3\", \"Topic3\", \"Topic3\", \"Topic3\", \"Topic3\", \"Topic3\", \"Topic3\", \"Topic3\", \"Topic3\", \"Topic3\", \"Topic3\", \"Topic3\", \"Topic3\", \"Topic3\", \"Topic3\", \"Topic3\", \"Topic3\", \"Topic3\", \"Topic3\", \"Topic3\", \"Topic3\", \"Topic3\", \"Topic3\", \"Topic3\", \"Topic3\", \"Topic3\", \"Topic3\", \"Topic3\", \"Topic3\", \"Topic3\", \"Topic3\", \"Topic3\", \"Topic3\", \"Topic3\", \"Topic3\", \"Topic3\", \"Topic3\", \"Topic3\", \"Topic3\", \"Topic3\", \"Topic3\", \"Topic4\", \"Topic4\", \"Topic4\", \"Topic4\", \"Topic4\", \"Topic4\", \"Topic4\", \"Topic4\", \"Topic4\", \"Topic4\", \"Topic4\", \"Topic4\", \"Topic4\", \"Topic4\", \"Topic4\", \"Topic4\", \"Topic4\", \"Topic4\", \"Topic4\", \"Topic4\", \"Topic4\", \"Topic4\", \"Topic4\", \"Topic4\", \"Topic4\", \"Topic4\", \"Topic4\", \"Topic4\", \"Topic4\", \"Topic4\", \"Topic4\", \"Topic4\", \"Topic4\", \"Topic4\", \"Topic4\", \"Topic4\", \"Topic4\", \"Topic4\", \"Topic4\", \"Topic4\", \"Topic4\", \"Topic4\", \"Topic4\", \"Topic4\", \"Topic4\", \"Topic4\", \"Topic4\", \"Topic4\", \"Topic4\", \"Topic4\", \"Topic4\", \"Topic4\", \"Topic4\", \"Topic4\", \"Topic4\", \"Topic4\", \"Topic4\", \"Topic4\", \"Topic4\", \"Topic4\", \"Topic4\", \"Topic4\", \"Topic4\", \"Topic4\", \"Topic4\", \"Topic4\", \"Topic4\", \"Topic4\", \"Topic4\", \"Topic4\", \"Topic4\", \"Topic4\", \"Topic4\", \"Topic4\", \"Topic4\", \"Topic4\", \"Topic4\", \"Topic4\", \"Topic4\", \"Topic4\", \"Topic4\", \"Topic4\", \"Topic4\", \"Topic4\", \"Topic4\", \"Topic4\", \"Topic4\", \"Topic5\", \"Topic5\", \"Topic5\", \"Topic5\", \"Topic5\", \"Topic5\", \"Topic5\", \"Topic5\", \"Topic5\", \"Topic5\", \"Topic5\", \"Topic5\", \"Topic5\", \"Topic5\", \"Topic5\", \"Topic5\", \"Topic5\", \"Topic5\", \"Topic5\", \"Topic5\", \"Topic5\", \"Topic5\", \"Topic5\", \"Topic5\", \"Topic5\", \"Topic5\", \"Topic5\", \"Topic5\", \"Topic5\", \"Topic5\", \"Topic5\", \"Topic5\", \"Topic5\", \"Topic5\", \"Topic5\", \"Topic5\", \"Topic5\", \"Topic5\", \"Topic5\", \"Topic5\", \"Topic5\", \"Topic5\", \"Topic5\", \"Topic5\", \"Topic5\", \"Topic5\", \"Topic5\", \"Topic5\", \"Topic5\", \"Topic5\", \"Topic5\", \"Topic5\", \"Topic5\", \"Topic5\", \"Topic5\", \"Topic5\", \"Topic5\", \"Topic5\", \"Topic5\", \"Topic5\", \"Topic5\", \"Topic5\", \"Topic5\", \"Topic5\", \"Topic5\", \"Topic5\", \"Topic5\", \"Topic5\", \"Topic5\", \"Topic5\", \"Topic5\", \"Topic5\", \"Topic6\", \"Topic6\", \"Topic6\", \"Topic6\", \"Topic6\", \"Topic6\", \"Topic6\", \"Topic6\", \"Topic6\", \"Topic6\", \"Topic6\", \"Topic6\", \"Topic6\", \"Topic6\", \"Topic6\", \"Topic6\", \"Topic6\", \"Topic6\", \"Topic6\", \"Topic6\", \"Topic6\", \"Topic6\", \"Topic6\", \"Topic6\", \"Topic6\", \"Topic6\", \"Topic6\", \"Topic6\", \"Topic6\", \"Topic6\", \"Topic6\", \"Topic6\", \"Topic6\", \"Topic6\", \"Topic6\", \"Topic6\", \"Topic6\", \"Topic6\", \"Topic6\", \"Topic6\", \"Topic6\", \"Topic6\", \"Topic6\", \"Topic6\", \"Topic6\", \"Topic6\", \"Topic6\", \"Topic6\", \"Topic6\", \"Topic6\", \"Topic6\", \"Topic6\", \"Topic6\", \"Topic6\", \"Topic6\", \"Topic6\", \"Topic6\", \"Topic6\", \"Topic6\", \"Topic6\", \"Topic6\", \"Topic6\", \"Topic6\", \"Topic6\", \"Topic6\", \"Topic6\", \"Topic6\", \"Topic6\", \"Topic6\", \"Topic6\", \"Topic6\", \"Topic6\", \"Topic6\", \"Topic6\", \"Topic6\", \"Topic6\", \"Topic6\", \"Topic6\", \"Topic6\", \"Topic6\", \"Topic6\", \"Topic7\", \"Topic7\", \"Topic7\", \"Topic7\", \"Topic7\", \"Topic7\", \"Topic7\", \"Topic7\", \"Topic7\", \"Topic7\", \"Topic7\", \"Topic7\", \"Topic7\", \"Topic7\", \"Topic7\", \"Topic7\", \"Topic7\", \"Topic7\", \"Topic7\", \"Topic7\", \"Topic7\", \"Topic7\", \"Topic7\", \"Topic7\", \"Topic7\", \"Topic7\", \"Topic7\", \"Topic7\", \"Topic7\", \"Topic7\", \"Topic7\", \"Topic7\", \"Topic7\", \"Topic7\", \"Topic7\", \"Topic7\", \"Topic7\", \"Topic7\", \"Topic7\", \"Topic7\", \"Topic7\", \"Topic7\", \"Topic7\", \"Topic7\", \"Topic7\", \"Topic7\", \"Topic7\", \"Topic7\", \"Topic7\", \"Topic7\", \"Topic7\", \"Topic7\", \"Topic7\", \"Topic7\", \"Topic7\", \"Topic7\", \"Topic7\", \"Topic7\", \"Topic7\", \"Topic7\", \"Topic7\", \"Topic7\", \"Topic7\", \"Topic7\", \"Topic7\", \"Topic7\", \"Topic7\", \"Topic7\", \"Topic7\", \"Topic7\", \"Topic7\", \"Topic7\", \"Topic7\", \"Topic7\", \"Topic7\", \"Topic7\", \"Topic7\", \"Topic7\", \"Topic7\", \"Topic7\", \"Topic7\", \"Topic7\", \"Topic7\", \"Topic7\", \"Topic7\", \"Topic8\", \"Topic8\", \"Topic8\", \"Topic8\", \"Topic8\", \"Topic8\", \"Topic8\", \"Topic8\", \"Topic8\", \"Topic8\", \"Topic8\", \"Topic8\", \"Topic8\", \"Topic8\", \"Topic8\", \"Topic8\", \"Topic8\", \"Topic8\", \"Topic8\", \"Topic8\", \"Topic8\", \"Topic8\", \"Topic8\", \"Topic8\", \"Topic8\", \"Topic8\", \"Topic8\", \"Topic8\", \"Topic8\", \"Topic8\", \"Topic8\", \"Topic8\", \"Topic8\", \"Topic8\", \"Topic8\", \"Topic8\", \"Topic8\", \"Topic8\", \"Topic8\", \"Topic8\", \"Topic8\", \"Topic8\", \"Topic8\", \"Topic8\", \"Topic8\", \"Topic8\", \"Topic8\", \"Topic8\", \"Topic8\", \"Topic8\", \"Topic8\", \"Topic8\", \"Topic8\", \"Topic8\", \"Topic8\", \"Topic8\", \"Topic8\", \"Topic8\", \"Topic8\", \"Topic8\", \"Topic8\", \"Topic8\", \"Topic8\", \"Topic8\", \"Topic8\", \"Topic8\", \"Topic8\", \"Topic8\", \"Topic8\", \"Topic8\", \"Topic8\", \"Topic8\", \"Topic8\", \"Topic8\", \"Topic8\", \"Topic8\", \"Topic8\", \"Topic8\", \"Topic8\", \"Topic8\", \"Topic8\", \"Topic8\", \"Topic8\", \"Topic8\", \"Topic8\", \"Topic8\", \"Topic9\", \"Topic9\", \"Topic9\", \"Topic9\", \"Topic9\", \"Topic9\", \"Topic9\", \"Topic9\", \"Topic9\", \"Topic9\", \"Topic9\", \"Topic9\", \"Topic9\", \"Topic9\", \"Topic9\", \"Topic9\", \"Topic9\", \"Topic9\", \"Topic9\", \"Topic9\", \"Topic9\", \"Topic9\", \"Topic9\", \"Topic9\", \"Topic9\", \"Topic9\", \"Topic9\", \"Topic9\", \"Topic9\", \"Topic9\", \"Topic9\", \"Topic9\", \"Topic9\", \"Topic9\", \"Topic9\", \"Topic9\", \"Topic9\", \"Topic9\", \"Topic9\", \"Topic9\", \"Topic9\", \"Topic9\", \"Topic9\", \"Topic9\", \"Topic9\", \"Topic9\", \"Topic9\", \"Topic9\", \"Topic9\", \"Topic9\", \"Topic9\", \"Topic9\", \"Topic9\", \"Topic9\", \"Topic9\", \"Topic9\", \"Topic9\", \"Topic9\", \"Topic9\", \"Topic9\", \"Topic9\", \"Topic9\", \"Topic9\", \"Topic9\", \"Topic9\", \"Topic9\", \"Topic9\", \"Topic9\", \"Topic9\", \"Topic9\", \"Topic9\", \"Topic9\", \"Topic9\", \"Topic9\", \"Topic9\", \"Topic9\", \"Topic9\", \"Topic9\", \"Topic9\", \"Topic9\", \"Topic9\", \"Topic9\", \"Topic9\", \"Topic10\", \"Topic10\", \"Topic10\", \"Topic10\", \"Topic10\", \"Topic10\", \"Topic10\", \"Topic10\", \"Topic10\", \"Topic10\", \"Topic10\", \"Topic10\", \"Topic10\", \"Topic10\", \"Topic10\", \"Topic10\", \"Topic10\", \"Topic10\", \"Topic10\", \"Topic10\", \"Topic10\", \"Topic10\", \"Topic10\", \"Topic10\", \"Topic10\", \"Topic10\", \"Topic10\", \"Topic10\", \"Topic10\", \"Topic10\", \"Topic10\", \"Topic10\", \"Topic10\", \"Topic10\", \"Topic10\", \"Topic10\", \"Topic10\", \"Topic10\", \"Topic10\", \"Topic10\", \"Topic10\", \"Topic10\", \"Topic10\", \"Topic10\", \"Topic10\", \"Topic10\", \"Topic10\", \"Topic10\", \"Topic10\", \"Topic10\", \"Topic10\", \"Topic10\", \"Topic10\", \"Topic10\", \"Topic10\", \"Topic10\", \"Topic10\", \"Topic10\", \"Topic10\", \"Topic10\", \"Topic10\", \"Topic10\", \"Topic10\", \"Topic10\", \"Topic10\", \"Topic10\", \"Topic10\", \"Topic10\", \"Topic10\", \"Topic10\", \"Topic10\", \"Topic10\", \"Topic10\", \"Topic10\", \"Topic10\", \"Topic10\", \"Topic10\"], \"logprob\": [30.0, 29.0, 28.0, 27.0, 26.0, 25.0, 24.0, 23.0, 22.0, 21.0, 20.0, 19.0, 18.0, 17.0, 16.0, 15.0, 14.0, 13.0, 12.0, 11.0, 10.0, 9.0, 8.0, 7.0, 6.0, 5.0, 4.0, 3.0, 2.0, 1.0, -6.6081, -6.6135, -6.8518, -8.3168, -8.3271, -7.7783, -8.1335, -6.0684, -7.5675, -8.1832, -8.688, -8.688, -8.688, -8.6881, -8.6882, -8.6882, -8.6934, -8.7011, -8.7128, -4.5084, -7.8689, -7.8822, -8.7398, -8.7629, -6.8589, -6.2609, -6.8043, -6.1855, -4.3602, -8.0804, -7.0996, -6.3171, -4.8998, -5.0632, -4.9536, -4.8362, -4.5882, -6.4251, -5.5465, -3.2603, -6.7035, -7.6166, -4.2354, -3.337, -3.7789, -4.3367, -4.9328, -4.1632, -4.9694, -4.2245, -3.9671, -5.0031, -5.3615, -5.0483, -3.8832, -4.2162, -3.909, -4.2208, -4.4045, -4.6578, -4.4355, -4.8778, -4.7061, -4.6689, -4.9317, -4.7773, -4.9424, -7.4383, -7.4394, -8.0905, -8.0906, -8.1423, -8.4946, -7.8088, -8.4984, -8.5028, -8.2622, -7.8401, -8.5414, -8.5775, -8.0907, -8.0955, -8.5954, -8.1251, -8.3495, -8.3688, -8.3185, -8.6886, -8.109, -8.7159, -9.1266, -9.1266, -9.1267, -9.1267, -9.1267, -9.1267, -9.1267, -7.3425, -8.4958, -7.3613, -8.0522, -7.9579, -5.7084, -7.8676, -6.9398, -7.1106, -4.8508, -4.3868, -5.6216, -5.0532, -3.3489, -3.3759, -4.7239, -6.3537, -5.2348, -3.9093, -3.802, -4.8201, -4.2872, -4.1767, -3.8756, -4.0625, -4.1945, -5.5451, -4.9892, -5.5807, -6.3036, -4.4232, -4.4485, -4.4262, -4.4561, -4.9509, -4.7364, -4.6844, -4.8056, -5.2907, -4.7117, -4.9317, -5.1821, -5.112, -5.3429, -5.2595, -5.2866, -7.4341, -7.7684, -7.7686, -7.7688, -7.8099, -7.8827, -7.7009, -7.4511, -7.6995, -8.415, -8.415, -8.4151, -8.4151, -8.4151, -8.4151, -8.4151, -8.4151, -8.4151, -8.4151, -8.4152, -8.4152, -8.4152, -8.4152, -8.4152, -8.4152, -8.4153, -8.4154, -8.4154, -8.4156, -8.4313, -8.116, -7.7685, -7.3627, -7.5585, -6.645, -4.8791, -6.7662, -7.6635, -7.7152, -7.7253, -8.0401, -4.3356, -7.7373, -5.3464, -6.323, -7.8685, -7.1577, -7.3293, -4.5967, -8.0581, -8.0887, -6.7625, -4.6934, -4.7034, -5.4965, -4.3535, -4.0517, -5.0581, -4.0846, -6.0344, -4.8792, -6.0815, -3.9988, -4.8573, -5.0752, -4.4339, -5.1749, -4.5877, -4.4466, -5.0839, -4.756, -4.6514, -4.928, -5.4506, -4.8599, -4.9309, -4.8821, -5.2838, -5.0799, -4.5252, -4.9894, -5.1258, -5.1661, -7.6694, -7.7019, -7.442, -7.2749, -6.9756, -7.146, -8.3072, -8.3073, -8.3073, -8.3073, -8.3073, -8.3075, -8.3075, -8.3075, -8.3076, -7.9259, -8.3174, -8.3179, -8.319, -7.9153, -8.3283, -8.3329, -8.3293, -8.3357, -8.3364, -8.3362, -7.925, -8.3403, -8.3431, -8.35, -7.9684, -7.6988, -7.9324, -6.9494, -7.7689, -5.2331, -7.7718, -7.8239, -7.4457, -7.6164, -7.8443, -5.8589, -7.1464, -4.8872, -5.422, -7.0592, -7.5225, -5.3056, -6.9895, -6.9181, -5.9612, -6.1412, -4.646, -4.6569, -6.2523, -4.0939, -6.2832, -4.0937, -4.8517, -3.8695, -5.5388, -5.6372, -4.7177, -6.0044, -6.0092, -4.6238, -5.9831, -4.6346, -5.7478, -4.4326, -5.1664, -4.8913, -4.65, -5.2322, -4.7087, -4.8525, -4.3482, -4.6658, -5.7515, -5.2978, -5.3169, -5.0303, -5.3352, -5.0713, -5.0976, -5.1772, -5.3595, -7.2824, -7.6425, -7.6812, -7.6723, -7.7699, -7.8292, -8.2888, -8.2888, -8.2889, -8.2889, -8.2889, -8.2889, -8.289, -8.2889, -8.289, -8.289, -8.289, -8.289, -8.289, -8.289, -8.289, -8.289, -8.289, -8.2891, -8.2892, -8.2893, -8.3035, -8.3076, -8.3107, -8.3305, -7.8995, -7.1687, -7.2789, -5.5621, -3.1506, -7.2835, -4.8321, -3.64, -4.8165, -5.2232, -6.408, -6.4255, -7.0124, -3.9306, -4.742, -4.5197, -5.6096, -4.1611, -6.4911, -3.7873, -4.8624, -4.6589, -4.3265, -4.3446, -4.4807, -5.1406, -4.5404, -4.2674, -5.2277, -4.9393, -4.9384, -4.6146, -4.9823, -5.0768, -4.8872, -5.622, -5.1922, -4.7845, -5.2082, -5.0562, -5.2639, -5.2559, -6.599, -6.419, -7.6044, -7.6825, -6.694, -7.7108, -7.7624, -8.1521, -8.1522, -8.1522, -8.1522, -8.1522, -8.1522, -8.1522, -8.1522, -8.1523, -8.1523, -8.1523, -8.1523, -8.1524, -8.1524, -8.156, -8.1594, -8.1614, -8.1672, -8.1672, -8.1668, -8.1672, -8.1667, -8.1677, -7.8178, -7.5968, -7.771, -7.7666, -7.7933, -7.6243, -5.8491, -5.9831, -6.458, -7.617, -7.1592, -6.2347, -5.1704, -6.7871, -4.6135, -3.6628, -3.9618, -4.0119, -5.4947, -4.7195, -4.1878, -5.378, -5.7437, -5.5774, -3.9375, -6.067, -5.4553, -3.7573, -4.3895, -6.4755, -3.8564, -4.2305, -5.5117, -4.1954, -5.5574, -5.5336, -4.6098, -4.6228, -4.7353, -4.8157, -5.4527, -4.7638, -5.3151, -5.0152, -5.1199, -5.0861, -5.2419, -5.2894, -5.3551, -5.3492, -5.3568, -7.3849, -7.0437, -8.0313, -8.0313, -8.0314, -8.0314, -8.0315, -8.0315, -8.0315, -8.0315, -8.0316, -8.0316, -8.0316, -8.0409, -8.0419, -8.0421, -8.0475, -8.0483, -8.0925, -8.1066, -8.1088, -8.1112, -8.1141, -8.1227, -8.1276, -8.142, -8.1334, -8.1266, -8.131, -8.1547, -6.4046, -5.6161, -7.5319, -6.4126, -7.5146, -6.4343, -6.4552, -6.2847, -6.5464, -6.4986, -7.0456, -6.395, -6.7804, -5.2895, -4.3645, -4.4421, -4.1962, -5.5345, -5.6901, -6.1186, -4.8191, -5.9415, -7.0842, -5.5539, -6.8689, -6.122, -6.4826, -6.36, -5.3322, -4.1479, -4.9181, -4.0738, -5.8642, -4.414, -5.5348, -5.0644, -5.0464, -4.2976, -4.6089, -5.1666, -4.8251, -4.7288, -4.6964, -4.8953, -4.8232, -5.3822, -5.0621, -5.5346, -5.1333, -5.4185, -5.373, -5.4278, -5.4533, -5.4939, -5.5169, -7.1537, -6.9205, -6.9669, -7.2915, -7.3299, -5.8788, -7.3249, -6.6659, -6.5425, -7.8002, -7.8002, -7.8002, -7.8003, -7.8003, -7.8003, -7.8003, -7.8004, -7.8005, -7.8005, -7.8005, -7.8005, -7.8012, -7.8205, -7.8216, -7.8225, -7.8237, -7.8247, -7.8267, -7.8319, -7.1461, -7.1902, -7.1997, -6.8581, -7.2187, -6.8856, -7.2358, -7.2495, -7.2537, -7.2583, -5.7074, -6.9568, -3.6568, -6.0666, -7.0325, -7.3089, -4.7541, -4.1887, -7.3261, -7.3306, -4.6921, -4.2648, -4.5644, -6.0296, -6.5155, -4.4501, -6.406, -4.2472, -4.3526, -5.7595, -5.2946, -6.3972, -6.0276, -4.6357, -5.9572, -4.9253, -5.6866, -5.6814, -5.3159, -5.3676, -5.3261, -5.1078, -5.0632, -5.412, -5.0321, -5.1067, -5.4256, -5.5414, -4.9438, -4.9577, -5.1375, -5.4888, -5.4874, -5.3221, -5.352, -5.5039, -5.5031, -7.3674, -7.7812, -7.7813, -7.7813, -7.7813, -7.7813, -7.7814, -7.7814, -7.7814, -7.7814, -7.7815, -7.8133, -7.8918, -7.9076, -7.915, -7.9568, -7.9584, -7.9757, -7.977, -7.9776, -7.9807, -7.5644, -7.9833, -7.9878, -7.9939, -8.0027, -8.0145, -8.0499, -8.0305, -8.038, -7.7813, -7.664, -7.6533, -7.2041, -6.4779, -6.8509, -4.1461, -7.0529, -6.678, -7.1583, -6.5946, -7.4922, -6.1577, -4.3165, -7.1347, -5.6501, -5.8412, -6.2608, -5.7543, -4.8802, -5.7629, -5.2466, -4.918, -5.3663, -4.6181, -4.0863, -5.445, -4.3405, -4.7034, -4.2767, -5.7378, -5.39, -5.6369, -5.6575, -6.3247, -5.7095, -5.7221, -5.243, -4.8992, -5.0167, -5.0194, -4.8631, -5.1647, -5.432, -5.1664, -5.1904, -5.1311, -5.5031, -5.4371, -5.4919, -5.5536, -5.6209, -5.6142, -7.5094, -7.5121, -7.5163, -7.5188, -7.5223, -6.8602, -7.5687, -7.5818, -7.6051, -7.209, -7.2236, -7.2552, -7.6586, -7.6814, -7.7149, -7.7334, -7.7511, -7.7323, -7.7773, -7.3876, -7.8102, -7.7946, -7.8247, -7.8273, -7.8532, -7.8436, -7.8549, -7.4744, -7.479, -7.9046, -7.2308, -6.9156, -7.2344, -7.5093, -7.5093, -7.0849, -6.5594, -6.805, -4.37, -6.8756, -4.4682, -6.1553, -6.8586, -5.0875, -6.6923, -4.0426, -4.0693, -4.2361, -4.3444, -4.3777, -4.8451, -4.0432, -5.1336, -4.6571, -4.6779, -5.5089, -4.8265, -5.1735, -4.9756, -5.8764, -6.0086, -6.3457, -4.4306, -4.8624, -5.1497, -5.0447, -5.0885, -5.6062, -5.0431, -6.1162, -5.0357, -5.6692, -5.4947, -5.3359, -5.5205, -5.7064, -5.6551], \"loglift\": [30.0, 29.0, 28.0, 27.0, 26.0, 25.0, 24.0, 23.0, 22.0, 21.0, 20.0, 19.0, 18.0, 17.0, 16.0, 15.0, 14.0, 13.0, 12.0, 11.0, 10.0, 9.0, 8.0, 7.0, 6.0, 5.0, 4.0, 3.0, 2.0, 1.0, 0.9798, 0.9791, 0.9641, 0.9561, 0.9481, 0.9351, 0.9329, 0.9171, 0.902, 0.896, 0.895, 0.895, 0.895, 0.895, 0.895, 0.895, 0.8911, 0.8853, 0.8782, 0.87, 0.862, 0.8574, 0.851, 0.8433, 0.8315, 0.8299, 0.8272, 0.8258, 0.8209, 0.8155, 0.8117, 0.795, 0.6365, 0.6076, 0.5942, 0.5827, 0.525, 0.6789, 0.5888, 0.3263, 0.6943, 0.7861, 0.3901, 0.2658, 0.3183, 0.3907, 0.4678, 0.3556, 0.4437, 0.3185, 0.2321, 0.4131, 0.4602, 0.3854, 0.0867, 0.1333, 0.038, 0.13, 0.1647, 0.2113, 0.115, 0.2804, 0.1706, 0.133, 0.2166, -0.1967, 0.0012, 1.4303, 1.4294, 1.3485, 1.3485, 1.2872, 1.2458, 1.2449, 1.2424, 1.2388, 1.2331, 1.2223, 1.188, 1.179, 1.1743, 1.1493, 1.1347, 1.1204, 1.118, 1.1081, 1.0953, 1.0735, 1.0655, 1.0511, 1.041, 1.041, 1.041, 1.041, 1.041, 1.041, 1.041, 0.9977, 1.0188, 0.9557, 0.9861, 0.9742, 0.8045, 0.9437, 0.8573, 0.8566, 0.5576, 0.4899, 0.6534, 0.5591, 0.2539, 0.2107, 0.4505, 0.7356, 0.4918, 0.1878, 0.145, 0.3638, 0.2315, 0.1742, 0.0943, 0.1367, 0.1551, 0.5017, 0.3522, 0.4844, 0.6828, 0.1273, 0.1321, 0.1167, 0.1132, 0.2072, 0.0655, 0.0429, 0.0634, 0.257, -0.0861, 0.028, 0.1651, -0.0113, 0.076, -0.1277, -0.1383, 2.1695, 2.1046, 2.1045, 2.1044, 2.0569, 1.99, 1.9121, 1.8911, 1.8908, 1.8543, 1.8543, 1.8543, 1.8543, 1.8543, 1.8543, 1.8543, 1.8543, 1.8543, 1.8543, 1.8543, 1.8543, 1.8543, 1.8543, 1.8543, 1.8542, 1.8542, 1.8542, 1.8542, 1.8541, 1.8373, 1.8287, 1.7969, 1.7352, 1.7421, 1.5191, 1.1757, 1.53, 1.6891, 1.6703, 1.6634, 1.7522, 0.608, 1.6471, 0.8907, 1.1979, 1.6822, 1.4556, 1.4992, 0.5351, 1.7299, 1.74, 1.2697, 0.481, 0.4805, 0.7804, 0.2271, -0.0817, 0.355, -0.1376, 0.8341, 0.2214, 0.849, -0.4122, 0.1025, 0.2248, -0.2347, 0.2588, -0.2382, -0.3495, 0.0645, -0.2055, -0.3006, -0.126, 0.2557, -0.2344, -0.2035, -0.3129, 0.0709, -0.2109, -0.9224, -0.4464, -0.2491, -0.6473, 2.1377, 2.1082, 2.0942, 1.9961, 1.9624, 1.951, 1.9142, 1.9142, 1.9142, 1.9142, 1.9142, 1.9141, 1.9141, 1.9141, 1.9138, 1.9079, 1.9025, 1.902, 1.9008, 1.8997, 1.8939, 1.8894, 1.8878, 1.8871, 1.8858, 1.8858, 1.8846, 1.8813, 1.879, 1.8722, 1.8476, 1.7906, 1.8225, 1.6638, 1.7924, 1.2725, 1.7695, 1.7656, 1.6626, 1.6735, 1.7447, 1.0715, 1.4864, 0.6326, 0.8277, 1.4509, 1.6138, 0.733, 1.3848, 1.3477, 0.9531, 1.0057, 0.3137, 0.2867, 1.0353, -0.124, 0.9972, -0.1467, 0.249, -0.2829, 0.5881, 0.6397, 0.0842, 0.828, 0.8279, -0.0432, 0.7749, -0.0654, 0.6147, -0.3354, 0.1883, -0.0222, -0.2992, 0.1809, -0.3592, -0.2269, -0.7454, -0.4666, 0.5822, 0.1106, 0.1168, -0.303, -0.0254, -0.5207, -0.5546, -0.6584, -0.2277, 2.3787, 2.3003, 2.2582, 2.2571, 2.1494, 2.0587, 2.0319, 2.0319, 2.0318, 2.0318, 2.0318, 2.0318, 2.0318, 2.0318, 2.0318, 2.0318, 2.0318, 2.0318, 2.0318, 2.0318, 2.0317, 2.0317, 2.0317, 2.0317, 2.0316, 2.0316, 2.0122, 2.0067, 2.0026, 1.9865, 1.9787, 1.961, 1.8607, 1.2153, 0.4522, 1.6945, 0.7802, 0.307, 0.7033, 0.8419, 1.2153, 1.2116, 1.4694, 0.0393, 0.3898, 0.2822, 0.7853, 0.0381, 1.1848, -0.2007, 0.3215, 0.2102, 0.023, 0.0062, 0.0381, 0.3957, 0.0288, -0.1703, 0.4039, 0.2188, 0.2099, -0.0716, 0.1921, 0.233, 0.0726, 0.5901, 0.1625, -0.234, 0.1391, -0.4307, -0.1507, -0.5286, 2.4301, 2.3649, 2.2883, 2.1811, 2.1618, 2.1332, 2.1319, 2.1151, 2.115, 2.115, 2.115, 2.115, 2.115, 2.115, 2.115, 2.115, 2.115, 2.115, 2.115, 2.1149, 2.1149, 2.1108, 2.1071, 2.1037, 2.1001, 2.1, 2.0995, 2.0992, 2.0971, 2.096, 2.0899, 2.0518, 2.0654, 2.0624, 2.0576, 2.0153, 1.6412, 1.5631, 1.6164, 1.9388, 1.7707, 1.4343, 0.9943, 1.5756, 0.6865, 0.2842, 0.3878, 0.3389, 0.9726, 0.6219, 0.3628, 0.8909, 1.0493, 0.9045, 0.0324, 1.1504, 0.8103, -0.1545, 0.1797, 1.3658, -0.2698, -0.0313, 0.7479, -0.0983, 0.7756, 0.6873, 0.0158, -0.104, -0.0079, 0.061, 0.6021, -0.2208, 0.4115, -0.1461, -0.0067, -0.2842, -0.2822, -0.1313, 0.0533, -0.0394, -0.2562, 2.4866, 2.2454, 2.2368, 2.2368, 2.2368, 2.2368, 2.2368, 2.2368, 2.2368, 2.2367, 2.2367, 2.2367, 2.2367, 2.228, 2.227, 2.2268, 2.2199, 2.219, 2.1791, 2.1658, 2.1638, 2.1615, 2.1587, 2.1506, 2.1458, 2.1323, 2.1295, 2.1172, 2.1118, 2.1072, 1.993, 1.9191, 2.0532, 1.9044, 2.05, 1.8801, 1.8745, 1.8061, 1.8532, 1.8236, 1.9319, 1.7487, 1.8237, 1.238, 0.5791, 0.5177, 0.3844, 1.0398, 1.0317, 1.2465, 0.5356, 1.1393, 1.7263, 0.8231, 1.572, 1.1101, 1.3166, 1.2278, 0.5952, -0.178, 0.1826, -0.4872, 0.7946, -0.467, 0.5037, 0.084, 0.0669, -0.6948, -0.4097, 0.1433, -0.2559, -0.378, -0.5992, -0.3524, -0.4736, 0.2494, -0.2602, 0.257, -0.5828, -0.0771, -0.2148, -0.8022, -0.9346, -0.3622, -0.6478, 2.6418, 2.5916, 2.5387, 2.4888, 2.4679, 2.4563, 2.4555, 2.4249, 2.4154, 2.4109, 2.4109, 2.4109, 2.4109, 2.4109, 2.4109, 2.4109, 2.4109, 2.4108, 2.4108, 2.4108, 2.4108, 2.4101, 2.3909, 2.3897, 2.389, 2.3878, 2.3868, 2.3849, 2.3796, 2.3486, 2.3303, 2.3207, 2.2616, 2.3018, 2.2199, 2.285, 2.2726, 2.2681, 2.2624, 1.7589, 2.1171, 0.9238, 1.7873, 2.1046, 2.2153, 1.0376, 0.7711, 2.1956, 2.1939, 0.9395, 0.6789, 0.7903, 1.5001, 1.7648, 0.1004, 1.5973, -0.2773, -0.4056, 0.9289, 0.378, 1.5007, 1.0733, -0.4365, 0.9791, -0.2998, 0.5904, 0.5395, 0.0255, 0.0485, -0.0163, -0.3805, -0.5203, -0.0114, -0.6825, -0.7559, -0.1256, 0.1086, -1.3409, -1.3711, -1.0404, -0.0551, -0.0743, -0.7528, -0.8332, -0.0956, -0.6264, 2.4735, 2.4734, 2.4734, 2.4734, 2.4734, 2.4734, 2.4733, 2.4733, 2.4733, 2.4733, 2.4733, 2.4418, 2.3578, 2.3413, 2.3336, 2.3002, 2.2986, 2.2724, 2.2691, 2.2686, 2.2654, 2.2653, 2.2627, 2.2581, 2.2518, 2.2426, 2.2302, 2.2206, 2.2137, 2.206, 2.1997, 2.1824, 2.1788, 2.1013, 1.981, 1.9789, 1.2086, 2.0034, 1.8865, 1.9613, 1.7405, 2.0675, 1.4904, 0.6433, 1.9005, 1.0717, 1.0951, 1.2827, 0.9341, 0.3037, 0.9167, 0.5451, 0.2564, 0.5576, -0.0375, -0.4834, 0.5909, -0.3706, -0.1529, -0.6901, 0.6572, 0.2415, 0.3881, 0.4076, 1.0736, 0.329, 0.3247, -0.2994, -0.8021, -0.6659, -0.6699, -0.9161, -0.5391, -0.1222, -0.5971, -0.6474, -0.9319, -0.1616, -0.6352, -0.6228, -0.6769, -0.4726, -1.0954, 2.9426, 2.9389, 2.9317, 2.9279, 2.9227, 2.9036, 2.8627, 2.855, 2.8143, 2.8123, 2.7922, 2.7728, 2.7293, 2.6973, 2.6829, 2.6603, 2.6541, 2.6288, 2.6066, 2.5952, 2.5883, 2.5858, 2.5695, 2.5494, 2.5367, 2.5305, 2.517, 2.489, 2.484, 2.4779, 2.4757, 2.4399, 2.4447, 2.4761, 2.4716, 2.2985, 2.0212, 2.1297, 0.8044, 2.1278, 0.7157, 1.6497, 2.0726, 0.8399, 1.9286, -0.0956, -0.0994, -0.0369, 0.0064, -0.0282, 0.3033, -0.4404, 0.4787, -0.0765, -0.135, 0.7032, -0.0245, 0.3463, -0.0159, 0.98, 1.1383, 1.5079, -0.844, -0.3119, -0.0179, -0.1757, -0.1449, 0.4297, -0.4739, 1.1167, -0.9385, 0.0574, -0.3814, -0.8172, -0.3624, -0.0338, -1.0295]}, \"token.table\": {\"Topic\": [6, 7, 1, 2, 3, 5, 7, 9, 1, 2, 3, 4, 5, 6, 7, 8, 9, 9, 3, 1, 2, 3, 4, 5, 6, 8, 1, 3, 4, 5, 7, 2, 3, 4, 6, 7, 3, 3, 1, 5, 7, 10, 8, 1, 2, 3, 4, 5, 6, 7, 8, 9, 2, 8, 1, 2, 3, 4, 5, 6, 7, 8, 9, 10, 1, 2, 3, 4, 5, 6, 7, 8, 9, 10, 6, 1, 2, 3, 4, 5, 6, 7, 8, 9, 10, 1, 2, 3, 3, 2, 1, 2, 3, 4, 5, 6, 7, 8, 9, 10, 1, 2, 3, 4, 5, 6, 7, 8, 9, 1, 2, 3, 7, 9, 1, 2, 3, 4, 5, 6, 7, 8, 9, 10, 8, 4, 5, 1, 2, 3, 4, 5, 6, 7, 8, 9, 10, 5, 1, 2, 3, 4, 5, 6, 7, 8, 9, 10, 1, 2, 3, 4, 5, 6, 7, 8, 9, 2, 6, 7, 1, 2, 3, 4, 5, 6, 7, 8, 9, 10, 2, 1, 2, 3, 4, 5, 7, 8, 9, 1, 2, 4, 5, 7, 8, 9, 10, 2, 3, 8, 9, 3, 1, 2, 3, 4, 5, 6, 7, 8, 9, 10, 8, 9, 6, 9, 2, 1, 2, 3, 4, 5, 6, 7, 8, 9, 10, 1, 2, 3, 4, 5, 6, 7, 8, 9, 10, 2, 7, 7, 6, 9, 10, 1, 2, 3, 4, 5, 6, 7, 8, 9, 10, 5, 6, 1, 2, 3, 4, 5, 6, 7, 8, 9, 10, 3, 4, 1, 2, 3, 4, 5, 6, 7, 8, 9, 10, 5, 1, 2, 3, 4, 5, 6, 7, 8, 9, 10, 8, 4, 4, 5, 1, 2, 3, 4, 5, 6, 7, 8, 9, 10, 1, 2, 4, 7, 1, 2, 3, 4, 5, 7, 8, 9, 10, 1, 5, 1, 2, 3, 4, 5, 6, 7, 8, 9, 10, 1, 2, 7, 1, 3, 4, 9, 7, 5, 7, 10, 1, 2, 3, 5, 6, 7, 1, 2, 3, 4, 5, 6, 7, 8, 9, 10, 10, 6, 2, 1, 2, 3, 4, 5, 6, 7, 8, 9, 10, 1, 2, 3, 4, 5, 6, 7, 8, 9, 10, 6, 10, 1, 2, 3, 4, 5, 6, 7, 8, 9, 10, 1, 2, 3, 4, 5, 6, 7, 8, 9, 10, 7, 6, 1, 2, 3, 4, 5, 6, 7, 8, 9, 10, 9, 1, 7, 8, 8, 8, 5, 7, 1, 3, 1, 2, 4, 6, 1, 2, 3, 4, 5, 6, 7, 8, 9, 10, 9, 1, 2, 3, 7, 8, 9, 10, 5, 4, 1, 2, 3, 4, 5, 10, 3, 1, 2, 10, 1, 2, 3, 4, 5, 6, 8, 9, 10, 1, 2, 3, 4, 5, 6, 7, 8, 9, 10, 7, 5, 5, 4, 3, 5, 6, 9, 7, 5, 2, 1, 2, 3, 4, 5, 6, 7, 8, 9, 10, 4, 7, 1, 2, 4, 5, 7, 8, 9, 1, 2, 3, 4, 5, 6, 7, 8, 9, 10, 3, 1, 2, 3, 5, 7, 9, 3, 9, 9, 9, 2, 5, 1, 2, 3, 4, 5, 6, 7, 8, 9, 3, 1, 2, 3, 4, 5, 6, 7, 8, 9, 10, 3, 9, 1, 2, 3, 4, 6, 7, 8, 9, 1, 1, 2, 3, 4, 5, 6, 7, 8, 9, 10, 1, 2, 3, 4, 5, 6, 7, 8, 9, 10, 1, 2, 3, 4, 5, 6, 7, 8, 9, 10, 1, 2, 9, 2, 1, 2, 3, 4, 5, 6, 7, 8, 9, 10, 4, 5, 6, 9, 4, 9, 7, 6, 10, 7, 1, 2, 3, 4, 5, 6, 7, 8, 9, 1, 2, 3, 4, 5, 6, 7, 10, 9, 1, 2, 2, 4, 9, 1, 2, 3, 4, 5, 6, 7, 8, 9, 10, 8, 1, 2, 3, 4, 5, 6, 7, 8, 9, 4, 9, 1, 9, 5, 6, 2, 7, 5, 9, 6, 8, 1, 4, 5, 7, 10, 10, 9, 1, 3, 6, 8, 1, 2, 3, 4, 5, 6, 7, 8, 9, 10, 1, 2, 3, 4, 5, 6, 7, 8, 9, 1, 2, 6, 6, 2, 3, 10, 1, 2, 3, 4, 5, 6, 7, 8, 9, 10, 1, 2, 3, 4, 5, 6, 7, 8, 9, 10, 1, 3, 3, 1, 3, 4, 10, 1, 2, 3, 4, 5, 6, 7, 8, 9, 10, 3, 4, 6, 6, 1, 2, 5, 1, 4, 8, 1, 2, 3, 4, 6, 1, 2, 4, 10, 8, 5, 9, 1, 2, 3, 4, 5, 6, 7, 9, 7, 2, 3, 1, 2, 4, 5, 9, 10, 9, 5, 1, 8, 9, 1, 2, 3, 4, 5, 8, 10, 1, 2, 3, 4, 5, 6, 7, 8, 9, 10, 9, 8, 9, 1, 2, 3, 4, 5, 6, 7, 8, 9, 10, 1, 2, 3, 5, 7, 9, 1, 2, 3, 4, 5, 6, 7, 8, 9, 10, 4, 1, 2, 3, 4, 5, 6, 7, 8, 9, 10, 3, 6, 1, 2, 3, 4, 5, 7, 9, 10, 7, 4, 1, 1, 2, 3, 4, 5, 6, 7, 8, 9, 10, 1, 2, 3, 4, 6, 7, 8, 9, 6, 1, 2, 3, 4, 5, 6, 7, 8, 9, 10, 6, 1, 2, 3, 4, 5, 6, 7, 8, 9, 10, 8, 9, 2, 1, 2, 3, 4, 5, 6, 7, 8, 9, 1, 2, 3, 4, 5, 7, 8, 9, 10, 1, 2, 3, 4, 5, 6, 7, 8, 9, 10, 1, 2, 3, 4, 5, 6, 7, 8, 9, 10, 3, 3, 2, 4, 1, 2, 3, 4, 5, 6, 7, 8, 10, 1, 2, 5, 1, 2, 4, 5, 6, 10, 1, 2, 3, 4, 5, 6, 7, 8, 9, 10, 2, 3, 5, 7, 9, 9, 5, 6, 2, 6, 8, 1, 1, 6, 8, 9, 2, 2, 4, 9, 4, 6, 2, 3, 4, 6, 7, 1, 2, 3, 4, 5, 6, 7, 8, 9, 10, 3, 5, 7, 1, 2, 3, 4, 5, 6, 7, 8, 9, 10, 8, 9, 6, 1, 8, 9, 6, 2, 8, 3, 1, 2, 1, 2, 3, 4, 5, 6, 7, 8, 9, 10, 1, 2, 3, 4, 6, 9, 9, 8, 9, 1, 2, 3, 3, 5, 6, 6, 10, 1, 2, 3, 4, 5, 6, 7, 8, 9, 10, 3, 1, 2, 3, 4, 5, 6, 7, 8, 9, 10, 6, 1, 2, 3, 4, 5, 7, 8, 9, 1, 4, 1, 2, 3, 4, 5, 6, 7, 8, 9, 10, 6, 1, 2, 4, 5, 6, 7, 9, 3, 2, 4, 8, 1, 2, 3, 4, 5, 6, 7, 8, 9, 10, 6, 1, 2, 3, 4, 5, 6, 7, 8, 9, 10, 1, 2, 3, 4, 5, 6, 7, 8, 9, 10, 1, 2, 4, 6, 9, 1, 2, 3, 4, 6, 7, 8, 9, 10, 10, 6, 6, 6, 3, 2, 4, 1, 6, 5, 2, 1, 2, 3, 4, 5, 6, 7, 8, 9, 10, 1, 2, 3, 4, 5, 6, 7, 8, 9, 10, 1, 2, 3, 4, 5, 6, 7, 8, 9, 10, 3, 3, 3, 4, 2, 7, 9, 1, 2, 3, 4, 5, 6, 7, 8, 9, 10, 1, 2, 3, 4, 5, 6, 7, 8, 9, 10, 7, 1, 2, 3, 4, 5, 6, 7, 8, 9, 10, 1, 2, 3, 4, 5, 6, 8, 9, 8, 8, 2, 1, 2, 3, 4, 5, 6, 7, 8, 9, 10, 1, 2, 3, 6, 5, 3, 9, 1, 1, 2, 3, 4, 5, 7, 8, 9, 1, 2, 4, 6, 1, 2, 4, 5, 6, 7, 1, 2, 3, 7, 9, 8, 5, 1, 2, 3, 5, 7, 9, 1, 2, 3, 4, 5, 6, 7, 8, 9, 10, 7, 4, 3, 8, 1, 2, 3, 7, 8, 3, 7, 1, 2, 3, 4, 5, 6, 7, 8, 9, 10, 1, 2, 3, 4, 5, 6, 7, 8, 9, 1, 5, 2, 1, 2, 4, 5, 6, 7, 2, 4, 5, 9, 1, 2, 3, 4, 6, 7, 8, 9, 10, 1, 2, 3, 5, 7, 9, 5, 1, 2, 3, 4, 5, 6, 7, 8, 9, 10, 2, 10, 7, 2, 3, 8, 2, 2, 5, 7, 3, 2, 3, 1, 2, 4, 5, 6, 7, 8, 9, 10, 1, 2, 3, 4, 6, 7, 10, 1, 2, 3, 4, 5, 6, 7, 8, 9, 10, 8, 1, 2, 3, 4, 5, 6, 7, 8, 9, 10, 8, 9, 10, 10, 8, 9, 3, 9, 10, 9, 1, 2, 3, 4, 5, 6, 7, 8, 9, 10, 1, 2, 3, 4, 5, 6, 9, 1, 2, 7, 9, 5, 1, 2, 3, 4, 5, 6, 7, 8, 9, 10, 9, 4, 4, 3, 2, 5, 1, 2, 3, 4, 5, 6, 7, 8, 9, 10, 1, 2, 1, 6, 9, 1, 2, 3, 4, 5, 7, 8, 9, 1, 2, 3, 4, 5, 6, 7, 8, 9, 10, 1, 2, 10, 1, 2, 3, 5, 6, 8, 9, 1, 2, 3, 5, 6, 7, 9, 3, 4, 4, 7, 10, 1, 2, 3, 4, 5, 6, 7, 8, 9, 10, 1, 2, 3, 4, 5, 6, 7, 8, 9, 10, 5, 8, 1, 7, 1, 2, 3, 4, 5, 6, 7, 8, 9, 10, 4, 8, 2, 3, 4, 6, 7, 4, 1, 2, 3, 4, 5, 6, 7, 8, 10, 8, 10, 1, 2, 3, 4, 5, 6, 7, 8, 9, 10, 1, 2, 3, 6, 1, 2, 3, 4, 5, 6, 7, 8, 9, 10, 8, 9, 2, 2, 1, 2, 3, 4, 5, 6, 7, 8, 9, 10, 8, 10, 3, 6, 1, 2, 3, 4, 5, 6, 7, 8, 9, 10, 10, 1, 2, 3, 4, 5, 6, 7, 8, 9, 10, 7, 10, 1, 2, 3, 4, 5, 6, 7, 8, 9, 10, 1, 2, 3, 4, 5, 6, 7, 8, 9, 10, 1, 2, 3, 4, 5, 6, 7, 8, 9, 10, 1, 3, 4, 8, 8, 6, 4, 7, 2, 1, 2, 6, 9, 3, 4, 9, 10, 1, 2, 3, 4, 5, 6, 7, 9, 4, 1, 3, 2, 8, 3, 1, 3, 4, 4, 7, 4, 7, 5, 8, 4, 6, 2, 7, 4, 9, 1, 2, 3, 5, 6, 7, 9, 2, 4, 9, 4, 1, 2, 3, 5, 7, 8, 9, 3, 4, 5, 2, 8, 9, 8, 9, 3, 1, 2, 3, 4, 5, 6, 7, 8, 9, 10, 4, 4, 9, 5, 1, 1, 2, 3, 4, 5, 6, 7, 8, 9, 1, 2, 4, 6, 9, 1, 2, 3, 4, 5, 6, 7, 8, 9, 10, 8, 1, 2, 3, 4, 5, 6, 7, 8, 9, 10, 1, 2, 3, 4, 5, 6, 7, 8, 9, 10, 4, 1, 4, 5, 7, 10, 5, 9, 2, 4, 6, 7, 7, 8, 8, 3, 7, 2, 1, 2, 6, 1, 2, 1, 2, 3, 4, 5, 6, 7, 8, 9, 10, 9, 4, 1, 2, 3, 4, 5, 6, 7, 8, 9, 10, 1, 2, 6, 8, 1, 2, 3, 4, 5, 6, 7, 8, 9, 3, 1, 2, 3, 4, 5, 6, 7, 8, 9, 10, 3, 5, 5, 1, 2, 3, 4, 5, 6, 7, 8, 9, 10, 1, 2, 3, 4, 5, 6, 7, 8, 9, 10, 1, 2, 3, 4, 5, 6, 7, 8, 9, 10, 1, 2, 3, 4, 5, 6, 7, 8, 9, 10, 1, 2, 3, 4, 5, 6, 7, 8, 9, 10, 6, 1, 3, 5, 8, 9, 4], \"Freq\": [0.4361222898822922, 0.6254440973904887, 0.09651689591536763, 0.19303379183073527, 0.19303379183073527, 0.19303379183073527, 0.38606758366147054, 0.09651689591536763, 0.12858764880001616, 0.21431274800002692, 0.17145019840002154, 0.042862549600005385, 0.12858764880001616, 0.042862549600005385, 0.21431274800002692, 0.042862549600005385, 0.042862549600005385, 0.6169131430031908, 0.6261286267604148, 0.2877893808474586, 0.12333830607748227, 0.08222553738498818, 0.04111276869249409, 0.08222553738498818, 0.3289021495399527, 0.04111276869249409, 0.34817554924646194, 0.34817554924646194, 0.08704388731161548, 0.08704388731161548, 0.08704388731161548, 0.09410501089941757, 0.2823150326982527, 0.3764200435976703, 0.09410501089941757, 0.09410501089941757, 0.6261428120134838, 0.6261723984481214, 0.40063076142101034, 0.40063076142101034, 0.6253699510784444, 0.7475927005777548, 0.5909698953959964, 0.23674254239968726, 0.11837127119984363, 0.029592817799960907, 0.14796408899980454, 0.08877845339988272, 0.20714972459972633, 0.08877845339988272, 0.029592817799960907, 0.029592817799960907, 0.5655785232718102, 0.7679468751861459, 0.11945135040707658, 0.18836559102654385, 0.09188565415928968, 0.10107421957521864, 0.07810280603539622, 0.05053710978760932, 0.09647993686725416, 0.11026278499114761, 0.15161132936282798, 0.009188565415928968, 0.18693374026164988, 0.1495469922093199, 0.07477349610465996, 0.18693374026164988, 0.07477349610465996, 0.056080122078494964, 0.09346687013082494, 0.09346687013082494, 0.09346687013082494, 0.03738674805232998, 0.6234093241183802, 0.2633578256797377, 0.2982140084902912, 0.13555182204104146, 0.03098327360938091, 0.09294982082814272, 0.038729092011726134, 0.019364546005863067, 0.01161872760351784, 0.06196654721876182, 0.04647491041407136, 0.806577040495794, 0.13442950674929902, 0.13442950674929902, 0.6261280706605097, 0.5616490491798753, 0.32092281910504555, 0.24069211432878418, 0.08023070477626139, 0.022923058507503254, 0.08023070477626139, 0.16046140955252278, 0.04584611701500651, 0.011461529253751627, 0.022923058507503254, 0.011461529253751627, 0.3214706176041041, 0.30749363423001264, 0.06988491687045742, 0.013976983374091484, 0.041930950122274456, 0.16772380048909782, 0.027953966748182967, 0.027953966748182967, 0.013976983374091484, 0.14556691603584726, 0.2911338320716945, 0.14556691603584726, 0.2911338320716945, 0.14556691603584726, 0.33866154255571823, 0.2075667518889886, 0.06554739533336482, 0.08739652711115309, 0.021849131777788272, 0.13109479066672963, 0.03277369766668241, 0.08739652711115309, 0.010924565888894136, 0.021849131777788272, 0.5909043397226718, 0.40500410243194485, 0.6548742721692926, 0.13403712632278672, 0.11169760526898893, 0.06701856316139336, 0.13403712632278672, 0.06701856316139336, 0.08935808421519115, 0.08935808421519115, 0.13403712632278672, 0.13403712632278672, 0.022339521053797787, 0.659143625598113, 0.47104852824789933, 0.21835061986491167, 0.06869457703615198, 0.06133444378227856, 0.039254044020658276, 0.0637878215335697, 0.02453377751291142, 0.03434728851807599, 0.014720266507746854, 0.0049067555025822844, 0.16176875517235817, 0.08088437758617908, 0.12132656637926864, 0.16176875517235817, 0.08088437758617908, 0.04044218879308954, 0.12132656637926864, 0.24265313275853728, 0.04044218879308954, 0.7490462388947307, 0.18726155972368266, 0.6254587074565808, 0.3722340654040555, 0.17632139940192104, 0.11101717740120955, 0.08489548860092494, 0.039182533200426896, 0.0522433776005692, 0.05877379980064035, 0.045712955400498044, 0.045712955400498044, 0.019591266600213448, 0.6742295904742023, 0.11688040319300162, 0.11688040319300162, 0.05844020159650081, 0.23376080638600324, 0.05844020159650081, 0.05844020159650081, 0.23376080638600324, 0.05844020159650081, 0.23404128383164727, 0.27304816447025515, 0.09101605482341839, 0.1430252290082289, 0.052009174184810505, 0.09101605482341839, 0.09101605482341839, 0.026004587092405253, 0.20483429003705547, 0.20483429003705547, 0.10241714501852774, 0.3072514350555832, 0.6261100484415614, 0.3283162148027074, 0.15784433403976317, 0.08839282706226738, 0.08839282706226738, 0.08207905370067685, 0.07576528033908632, 0.04419641353113369, 0.07576528033908632, 0.04419641353113369, 0.01894132008477158, 0.5929542992862721, 0.29647714964313604, 0.6248159598341215, 0.6267981693821414, 0.5655699596338579, 0.4753060016867281, 0.17901135128461187, 0.06790085738381829, 0.06172805216710754, 0.049382441733686035, 0.06172805216710754, 0.018518415650132264, 0.055555246950396785, 0.018518415650132264, 0.012345610433421509, 0.3473991957048015, 0.22891536405713742, 0.0770720069941116, 0.07362102160631555, 0.06901970775592083, 0.06671905083072346, 0.04831379542914458, 0.039111167728355135, 0.03105886849016437, 0.02070591232677625, 0.9258522072370076, 0.628162509715528, 0.6254203811338068, 0.6247591040018321, 0.6134325722927411, 0.4918387321304973, 0.43987125334717664, 0.09774916741048369, 0.07331187555786277, 0.040728819754368206, 0.08145763950873641, 0.040728819754368206, 0.10589493136135733, 0.040728819754368206, 0.02443729185262092, 0.04887458370524184, 0.4233870580223138, 0.6248166875970621, 0.4151811934726068, 0.2685529024957169, 0.033469501201246615, 0.03904775140145438, 0.10439296803245968, 0.05578250200207769, 0.02868814388678281, 0.013547179057647438, 0.027891251001038845, 0.014344071943391405, 0.31706953201324867, 0.31706953201324867, 0.44064083879807625, 0.25717116570421533, 0.05566814867377831, 0.06272467456200373, 0.05410003180972822, 0.04939568121757794, 0.0352826294411271, 0.012544934912400748, 0.022737694528726354, 0.00940870118430056, 0.42750555231829485, 0.29381663710534434, 0.20739997913318423, 0.06913332637772808, 0.051849994783296056, 0.06913332637772808, 0.03456666318886404, 0.06913332637772808, 0.0864166579721601, 0.12098332116102413, 0.01728333159443202, 0.5907811024038577, 0.5968979485414789, 0.595800284774587, 0.6590641336824592, 0.4697784381888349, 0.1905704985105651, 0.06647808087577853, 0.06647808087577853, 0.04210278455465973, 0.06647808087577853, 0.02659123235031141, 0.037670912496274495, 0.02659123235031141, 0.00886374411677047, 0.18190144470615546, 0.5457043341184664, 0.09095072235307773, 0.09095072235307773, 0.15547940755058076, 0.19990209542217527, 0.19990209542217527, 0.24432478329376978, 0.04442268787159451, 0.08884537574318901, 0.022211343935797254, 0.06663403180739176, 0.022211343935797254, 0.9267570293044864, 0.65580486328707, 0.3951651435737936, 0.17063949381595633, 0.06286718193219444, 0.035924103961253964, 0.08082923391282142, 0.08082923391282142, 0.053886155941880946, 0.035924103961253964, 0.07184820792250793, 0.017962051980626982, 0.6303934303543725, 0.34404651369045813, 0.34404651369045813, 0.16536418524577842, 0.16536418524577842, 0.6614567409831137, 0.611699396524138, 0.6248513540634809, 0.6591158327808905, 0.3776692368578548, 0.3776692368578548, 0.6925304490781186, 0.10654314601201824, 0.05327157300600912, 0.02663578650300456, 0.07990735950901368, 0.02663578650300456, 0.29232680323028437, 0.22486677171560335, 0.08994670868624134, 0.19113675595826285, 0.06746003151468101, 0.05621669292890084, 0.033730015757340505, 0.033730015757340505, 0.011243338585780168, 0.011243338585780168, 0.4885793368841103, 0.6247477895663663, 0.7378069358264083, 0.22948454112136818, 0.3396371208596249, 0.11015257973825673, 0.07343505315883782, 0.03671752657941891, 0.05507628986912837, 0.045896908224273635, 0.027538144934564183, 0.06425567151398309, 0.018358763289709455, 0.309851190767367, 0.1859107144604202, 0.103283730255789, 0.0413134921023156, 0.11361210328136791, 0.1755823414348413, 0.0206567460511578, 0.030985119076736702, 0.0206567460511578, 0.0206567460511578, 0.6247694463231392, 0.7515989770389242, 0.11031398738032247, 0.19304947791556432, 0.08273549053524185, 0.22062797476064494, 0.027578496845080618, 0.08273549053524185, 0.11031398738032247, 0.055156993690161235, 0.055156993690161235, 0.08273549053524185, 0.24892283837826887, 0.1991382707026151, 0.05689664877217574, 0.09245705425478558, 0.05689664877217574, 0.02844832438608787, 0.07112081096521967, 0.14224162193043935, 0.07823289206174165, 0.014224162193043935, 0.6286842774641117, 0.6248076572874605, 0.4376466662797053, 0.2508303281364281, 0.058788358156975334, 0.058788358156975334, 0.056175542238887544, 0.058788358156975334, 0.03135379101705351, 0.01828971142661455, 0.02090252734470234, 0.009144855713307275, 0.6105138567225437, 0.6324693854230327, 0.6257920261687655, 0.5906927807545982, 0.590854278801761, 0.590891570531516, 0.659077330389304, 0.6280219890343771, 0.23764541644839604, 0.4752908328967921, 0.1523212669859707, 0.1523212669859707, 0.1523212669859707, 0.6092850679438828, 0.21304018233836547, 0.10652009116918273, 0.10652009116918273, 0.10652009116918273, 0.05326004558459137, 0.05326004558459137, 0.10652009116918273, 0.10652009116918273, 0.05326004558459137, 0.10652009116918273, 0.6170388960578579, 0.08566435405985913, 0.08566435405985913, 0.08566435405985913, 0.08566435405985913, 0.2569930621795774, 0.17132870811971826, 0.08566435405985913, 0.4516885615416319, 0.397485563764082, 0.21559842840467994, 0.10779921420233997, 0.10779921420233997, 0.3233976426070199, 0.10779921420233997, 0.10779921420233997, 0.5190476438956001, 0.2581445770486626, 0.2581445770486626, 0.2581445770486626, 0.2897360732598511, 0.21071714418898263, 0.0790189290708685, 0.02633964302362283, 0.0790189290708685, 0.0790189290708685, 0.158037858141737, 0.05267928604724566, 0.02633964302362283, 0.23333807295306488, 0.1711145868322476, 0.15555871530204324, 0.09333522918122596, 0.09333522918122596, 0.015555871530204326, 0.15555871530204324, 0.04666761459061298, 0.03111174306040865, 0.015555871530204326, 0.6285822219060503, 0.44118582118834004, 0.6591391902879851, 0.7887587939413979, 0.6261874315003725, 0.45014430802841654, 0.4296129092095481, 0.4043491544404491, 0.6220251541958268, 0.6815774218665885, 0.7381200958818145, 0.15758038543622208, 0.25212861669795533, 0.06303215417448883, 0.22061253961071092, 0.03151607708724442, 0.06303215417448883, 0.06303215417448883, 0.06303215417448883, 0.03151607708724442, 0.03151607708724442, 0.59682271927093, 0.6253977187974334, 0.27962322749713275, 0.055924645499426544, 0.055924645499426544, 0.055924645499426544, 0.11184929099885309, 0.27962322749713275, 0.11184929099885309, 0.187908170443773, 0.2296655416535003, 0.187908170443773, 0.10439342802431834, 0.062636056814591, 0.020878685604863667, 0.062636056814591, 0.08351474241945467, 0.041757371209727334, 0.020878685604863667, 0.626126175842431, 0.09632518846396161, 0.09632518846396161, 0.19265037692792322, 0.09632518846396161, 0.38530075385584645, 0.09632518846396161, 0.41018581792911774, 0.41018581792911774, 0.6184216003973878, 0.4033577822142566, 0.5886909327464505, 0.29434546637322523, 0.24263510607642697, 0.26817564355815615, 0.06385134370432288, 0.06385134370432288, 0.06385134370432288, 0.03831080622259373, 0.12770268740864577, 0.07662161244518746, 0.06385134370432288, 0.4029475587137034, 0.38763905694470363, 0.2462648126472235, 0.07752781138894073, 0.05472551392160522, 0.07752781138894073, 0.05928597341507232, 0.04560459493467101, 0.022802297467335506, 0.018241837973868406, 0.013681378480401305, 0.8426258108931176, 0.611653279739389, 0.08443142129482252, 0.16886284258964504, 0.08443142129482252, 0.3377256851792901, 0.08443142129482252, 0.08443142129482252, 0.08443142129482252, 0.08443142129482252, 0.6304648099910319, 0.37493390037244595, 0.23250091028682404, 0.060743481065927, 0.07750030342894135, 0.06912189224743417, 0.07750030342894135, 0.04398665870291266, 0.023040630749144725, 0.025135233544521518, 0.014662219567637552, 0.5861605783739177, 0.1386616421959805, 0.025211207671996458, 0.03781681150799469, 0.08193642493398849, 0.06302801917999115, 0.044119613425993805, 0.012605603835998229, 0.012605603835998229, 0.0063028019179991145, 0.35292810625330495, 0.18381672200692964, 0.14337704316540512, 0.06617401992249468, 0.09926102988374201, 0.04779234772180171, 0.04043967884152452, 0.029410675521108744, 0.02205800664083156, 0.02205800664083156, 0.8280574312731527, 0.10350717890914408, 0.6169681931727548, 0.5774236613519443, 0.3621533850811169, 0.2220502507066702, 0.07401675023555673, 0.08987748242889032, 0.08723402706333472, 0.047582196580000756, 0.04493874121444516, 0.023791098290000378, 0.023791098290000378, 0.021147642924444782, 0.1822578574519103, 0.1822578574519103, 0.1822578574519103, 0.3645157149038206, 0.5972088436354819, 0.6115701506346162, 0.6253811648957045, 0.33652160579742596, 0.33652160579742596, 0.6096396027019559, 0.23242523504830326, 0.09297009401932131, 0.09297009401932131, 0.046485047009660656, 0.09297009401932131, 0.2789102820579639, 0.046485047009660656, 0.13945514102898196, 0.046485047009660656, 0.19439149456841168, 0.15551319565472935, 0.03887829891368234, 0.116634896741047, 0.03887829891368234, 0.349904690223141, 0.03887829891368234, 0.03887829891368234, 0.616999404104417, 0.2661032915594544, 0.5322065831189088, 0.23510816379659097, 0.47021632759318194, 0.23510816379659097, 0.36820703857093373, 0.1516146629409727, 0.03248885634449415, 0.14078504415947465, 0.11912580659647855, 0.0216592375629961, 0.0433184751259922, 0.01082961878149805, 0.05414809390749025, 0.0433184751259922, 0.5909028465888085, 0.30534522041570294, 0.42278568980635794, 0.04697618775626199, 0.023488093878130997, 0.023488093878130997, 0.14092856326878597, 0.023488093878130997, 0.023488093878130997, 0.023488093878130997, 0.6168653254061239, 0.30843266270306197, 0.2387698360460684, 0.4775396720921368, 0.6590863827534564, 0.6242584068742902, 0.9256540469968229, 0.6254279161033798, 0.3079222844637904, 0.3079222844637904, 0.6226542523505832, 0.7813872699447774, 0.1642435510455113, 0.1642435510455113, 0.1642435510455113, 0.1642435510455113, 0.1642435510455113, 0.46108488405429165, 0.6169854781450892, 0.6776950560782706, 0.09681357943975294, 0.09681357943975294, 0.09681357943975294, 0.4366300981675774, 0.2346376695760346, 0.053048516599799124, 0.04692753391520692, 0.06120982684592207, 0.05100818903826839, 0.04080655123061471, 0.030604913422961035, 0.024483930738368825, 0.020403275615307356, 0.28371473542469133, 0.14185736771234567, 0.03546434192808642, 0.10639302578425926, 0.03546434192808642, 0.03546434192808642, 0.10639302578425926, 0.10639302578425926, 0.14185736771234567, 0.8613504167581238, 0.04306752083790619, 0.04306752083790619, 0.6247667148967665, 0.7498001417632172, 0.34697016692674143, 0.34697016692674143, 0.5098810734794891, 0.17316715703076987, 0.08177337970897466, 0.06253258448333357, 0.038481590451282195, 0.04810198806410274, 0.019240795225641098, 0.04810198806410274, 0.009620397612820549, 0.014430596419230822, 0.15730285241576772, 0.2035683972439347, 0.26834016000336847, 0.03701243586253358, 0.10178419862196735, 0.12029041655323414, 0.01850621793126679, 0.03701243586253358, 0.027759326896900187, 0.027759326896900187, 0.38688769439363174, 0.38688769439363174, 0.6261045699116925, 0.6313016065464521, 0.3585315365022296, 0.47804204866963945, 0.11951051216740986, 0.31988989076608515, 0.2627666959864271, 0.03427391686779484, 0.10282175060338451, 0.04569855582372645, 0.14852030642711098, 0.03427391686779484, 0.03427391686779484, 0.022849277911863225, 0.011424638955931612, 0.6262259743548214, 0.6015582591230417, 0.4302674904516924, 0.6247502419823106, 0.20230399982115674, 0.20230399982115674, 0.4046079996423135, 0.7617130620256664, 0.2917084530504602, 0.5834169061009205, 0.13368492921674605, 0.4010547876502381, 0.2673698584334921, 0.06684246460837302, 0.06684246460837302, 0.3530836590250197, 0.17654182951250985, 0.17654182951250985, 0.17654182951250985, 0.590704780097058, 0.6591150626573878, 0.6169949665992838, 0.1821025659605244, 0.0910512829802622, 0.0455256414901311, 0.0910512829802622, 0.0910512829802622, 0.0910512829802622, 0.1821025659605244, 0.1821025659605244, 0.6281032930007477, 0.3051674603585932, 0.3051674603585932, 0.8573664734845159, 0.08573664734845159, 0.04286832367422579, 0.04286832367422579, 0.4692313072743095, 0.4692313072743095, 0.6114532480053234, 0.6591216517432495, 0.18943040988003446, 0.3788608197600689, 0.18943040988003446, 0.1204250253735781, 0.1204250253735781, 0.1204250253735781, 0.1204250253735781, 0.2408500507471562, 0.1204250253735781, 0.1204250253735781, 0.27083252426523274, 0.1523432948991934, 0.11848922936603933, 0.08463516383288523, 0.05078109829973114, 0.13541626213261637, 0.11848922936603933, 0.016927032766577046, 0.016927032766577046, 0.016927032766577046, 0.4078810040321528, 0.5922643237925245, 0.29613216189626224, 0.4673940205748835, 0.14916830443879261, 0.10939008992178124, 0.09447325947790199, 0.034805937702384944, 0.0248613840731321, 0.039778214517011364, 0.0497227681462642, 0.02983366088775852, 0.0049722768146264204, 0.08933536650160101, 0.17867073300320202, 0.17867073300320202, 0.17867073300320202, 0.35734146600640404, 0.08933536650160101, 0.3619844007856926, 0.2474963112348689, 0.06229498990265408, 0.06061134152690667, 0.0673459350298963, 0.09091701229036, 0.03872391264219037, 0.023571077260463705, 0.023571077260463705, 0.021887428884716297, 0.597297588839856, 0.2731139423524129, 0.1456607692546202, 0.10014177886255139, 0.1729721634898615, 0.02731139423524129, 0.05462278847048258, 0.09103798078413763, 0.04551899039206882, 0.06372658654889635, 0.018207596156827526, 0.5006681008911921, 0.25033405044559603, 0.07087604704531177, 0.07087604704531177, 0.14175209409062353, 0.07087604704531177, 0.14175209409062353, 0.3543802352265588, 0.07087604704531177, 0.07087604704531177, 0.6275173227851049, 0.5976193284127819, 0.7520619812750278, 0.1960428272209978, 0.4036175854549955, 0.05765965506499935, 0.05765965506499935, 0.03459579303899961, 0.1153193101299987, 0.02306386202599974, 0.06919158607799922, 0.03459579303899961, 0.01153193101299987, 0.12987263275752445, 0.12987263275752445, 0.19480894913628669, 0.12987263275752445, 0.06493631637876222, 0.06493631637876222, 0.2597452655150489, 0.06493631637876222, 0.624787731844805, 0.28951837688147636, 0.13846531068244522, 0.03776326654975779, 0.15105306619903117, 0.0881142886161015, 0.07552653309951558, 0.07552653309951558, 0.05035102206634372, 0.06293877758292965, 0.03776326654975779, 0.4120144325503196, 0.15893069676604332, 0.3365591225633859, 0.037395458062598426, 0.08413978064084647, 0.1495818322503937, 0.037395458062598426, 0.05609318709389764, 0.05609318709389764, 0.06544205160954725, 0.009348864515649606, 0.5921945197850471, 0.29609725989252356, 0.7425660698763503, 0.476204799714647, 0.06349397329528628, 0.0952409599429294, 0.22222890653350194, 0.03174698664764314, 0.03174698664764314, 0.03174698664764314, 0.03174698664764314, 0.03174698664764314, 0.10166461721142514, 0.188805717678361, 0.14523516744489307, 0.29047033488978613, 0.04357055023346792, 0.07261758372244653, 0.029047033488978614, 0.08714110046693584, 0.014523516744489307, 0.37603450607162126, 0.3390008047160828, 0.06552116393672189, 0.045579940129893484, 0.02848746258118343, 0.06836991019484023, 0.014243731290591715, 0.02848746258118343, 0.022789970064946742, 0.00854623877435503, 0.14548137858803217, 0.2135790451611536, 0.09286045441789288, 0.11452789378206789, 0.07119301505371788, 0.04952557568954287, 0.0959558028984893, 0.11143254530147145, 0.08666975745670003, 0.021667439364175006, 0.6261074978925808, 0.6349542008703263, 0.5655495183653273, 0.5942188742510938, 0.21855225653797714, 0.152986579576584, 0.043710451307595426, 0.21855225653797714, 0.13113135392278627, 0.152986579576584, 0.06556567696139314, 0.021855225653797713, 0.043710451307595426, 0.1721133748129979, 0.3442267496259958, 0.3442267496259958, 0.11567598023679838, 0.23135196047359677, 0.11567598023679838, 0.11567598023679838, 0.11567598023679838, 0.11567598023679838, 0.261791387516221, 0.12082679423825586, 0.12082679423825586, 0.18124019135738378, 0.04027559807941862, 0.02013779903970931, 0.10068899519854654, 0.06041339711912793, 0.06041339711912793, 0.02013779903970931, 0.0900023052936932, 0.1800046105873864, 0.1800046105873864, 0.3600092211747728, 0.0900023052936932, 0.6169659896731158, 0.6591307246128342, 0.6247621657799132, 0.40607310681656483, 0.40607310681656483, 0.5907015194018964, 0.6304331169981607, 0.9246127897846541, 0.7245341633036353, 0.506054494676497, 0.33736966311766464, 0.5655755689528181, 0.2870038327176715, 0.574007665435343, 0.6138439123929035, 0.6045577702052843, 0.6248068795439019, 0.15252207667120374, 0.38130519167800936, 0.22878311500680562, 0.07626103833560187, 0.07626103833560187, 0.5682822445202383, 0.2253533038614738, 0.029393909199322672, 0.0685857881317529, 0.019595939466215115, 0.019595939466215115, 0.029393909199322672, 0.019595939466215115, 0.014696954599661336, 0.004898984866553779, 0.5168307477324946, 0.6566337910274382, 0.6214133146258097, 0.4227508485836541, 0.2566701580686471, 0.0377456114806834, 0.06416753951716178, 0.08304034525750348, 0.056618417221025105, 0.045294733776820084, 0.00754912229613668, 0.01509824459227336, 0.01509824459227336, 0.5943532866511435, 0.29717664332557175, 0.624204563725049, 0.6303871610052612, 0.592344336733531, 0.2961721683667655, 0.3067263527719, 0.288545654493618, 0.577091308987236, 0.6256229066087807, 0.645138141160776, 0.8188148004934618, 0.24169704848255297, 0.3260991923970953, 0.13427613804586275, 0.02685522760917255, 0.08056568282751765, 0.04220107195727115, 0.0230187665221479, 0.01150938326107395, 0.057546916305369754, 0.04987399413132045, 0.7979187662825463, 0.09387279603324074, 0.023468199008310184, 0.023468199008310184, 0.023468199008310184, 0.023468199008310184, 0.6169625046395193, 0.5945590269545264, 0.2972795134772632, 0.1828084383353162, 0.5484253150059486, 0.1828084383353162, 0.14175096418068073, 0.14175096418068073, 0.7087548209034036, 0.4030737562839246, 0.7401915082860755, 0.3577133177934085, 0.2364197215301263, 0.06784218096081886, 0.04933976797150462, 0.053451415302463334, 0.09251206494657116, 0.032893178647669746, 0.0555072389679427, 0.039060649644107825, 0.016446589323834873, 0.8372900365389639, 0.27343836621450207, 0.3626030508496658, 0.029721561545054575, 0.07133174770813097, 0.14266349541626194, 0.011888624618021829, 0.029721561545054575, 0.011888624618021829, 0.029721561545054575, 0.035665873854065486, 0.6243231129443991, 0.3744613027698982, 0.09361532569247455, 0.046807662846237275, 0.046807662846237275, 0.23403831423118637, 0.046807662846237275, 0.09361532569247455, 0.046807662846237275, 0.37427613943475385, 0.37427613943475385, 0.12021369191469886, 0.30053422978674715, 0.09016026893602415, 0.12021369191469886, 0.06010684595734943, 0.06010684595734943, 0.09016026893602415, 0.06010684595734943, 0.06010684595734943, 0.06010684595734943, 0.6247491274874669, 0.20918730738814936, 0.1394582049254329, 0.06972910246271645, 0.06972910246271645, 0.34864551231358226, 0.06972910246271645, 0.06972910246271645, 0.6261510723101865, 0.19552193163244652, 0.19552193163244652, 0.39104386326489304, 0.27145994125593, 0.3635624213249062, 0.05332248846098624, 0.09210248006897624, 0.04362749055898874, 0.0678649853139825, 0.014542496852996249, 0.04847498950998749, 0.03393249265699125, 0.014542496852996249, 0.6247943982272541, 0.4968002748954503, 0.1120235913979937, 0.1217647732586888, 0.09741181860695104, 0.014611772791042657, 0.02435295465173776, 0.04383531837312797, 0.04870590930347552, 0.034094136512432864, 0.009741181860695105, 0.20044615742329025, 0.2405353889079483, 0.2806246203926063, 0.04008923148465805, 0.0801784629693161, 0.0801784629693161, 0.04008923148465805, 0.04008923148465805, 0.0801784629693161, 0.04008923148465805, 0.2505590178835874, 0.5011180357671748, 0.06263975447089686, 0.06263975447089686, 0.06263975447089686, 0.18224706813701425, 0.4426000226184632, 0.026035295448144893, 0.13017647724072448, 0.07810588634443469, 0.052070590896289785, 0.026035295448144893, 0.052070590896289785, 0.026035295448144893, 0.46086576811871416, 0.3335400041937403, 0.6247947263337227, 0.4172406370845569, 0.842426317051992, 0.2307052811426775, 0.6921158434280325, 0.6304903187264148, 0.4091953373781738, 0.6590839454849505, 0.7302671112675677, 0.3293123596702241, 0.24982316940499757, 0.045422394437272286, 0.10220038748386265, 0.045422394437272286, 0.13626718331181686, 0.034066795827954216, 0.022711197218636143, 0.011355598609318071, 0.011355598609318071, 0.36020435978368853, 0.16692397160707517, 0.07467651361369153, 0.07906924970861455, 0.08346198580353759, 0.061498305328922434, 0.06589104142384546, 0.04832009704415334, 0.039534624854307275, 0.013178208284769092, 0.23232791161866073, 0.10325684960829366, 0.07744263720622024, 0.07744263720622024, 0.10325684960829366, 0.10325684960829366, 0.1806994868145139, 0.05162842480414683, 0.025814212402073416, 0.025814212402073416, 0.6261538805211223, 0.6262794386542264, 0.31723918344397656, 0.6344783668879531, 0.5332260898993597, 0.3554840599329065, 0.6169603166081983, 0.18028213086428296, 0.19831034395071126, 0.07211285234571319, 0.09014106543214148, 0.05408463925928489, 0.05408463925928489, 0.16225391777785467, 0.05408463925928489, 0.12619749160499807, 0.018028213086428296, 0.30972774439947437, 0.15486387219973718, 0.13550588817477005, 0.07743193609986859, 0.038715968049934296, 0.1935798402496715, 0.038715968049934296, 0.038715968049934296, 0.038715968049934296, 0.019357984024967148, 0.8411573809603483, 0.4402519638222899, 0.09783376973828666, 0.07337532730371499, 0.14675065460742998, 0.04891688486914333, 0.08560454852100083, 0.036687663651857494, 0.012229221217285832, 0.036687663651857494, 0.012229221217285832, 0.30363450428462346, 0.15181725214231173, 0.03795431303557793, 0.03795431303557793, 0.07590862607115587, 0.03795431303557793, 0.30363450428462346, 0.03795431303557793, 0.5908267064245984, 0.5907787368466814, 0.5655664956945482, 0.40076213843149877, 0.23872112939060397, 0.06655255728465323, 0.052084610048859045, 0.06944614673181207, 0.06221217311391497, 0.03761666281306487, 0.033276278642326615, 0.017361536682953017, 0.02170192085369127, 0.7163661437153236, 0.13431865194662315, 0.044772883982207724, 0.044772883982207724, 0.6591059557923081, 0.6261150031158739, 0.6184052307330914, 0.635283193251355, 0.09009573605529354, 0.3003191201843118, 0.1801914721105871, 0.03003191201843118, 0.09009573605529354, 0.1801914721105871, 0.09009573605529354, 0.06006382403686236, 0.3280480604905157, 0.16402403024525786, 0.16402403024525786, 0.3280480604905157, 0.6379797685964332, 0.10632996143273887, 0.07088664095515926, 0.07088664095515926, 0.03544332047757963, 0.03544332047757963, 0.11842490612087576, 0.23684981224175153, 0.11842490612087576, 0.3552747183626273, 0.11842490612087576, 0.7678701636445789, 0.6591300098133488, 0.04066516360605153, 0.1219954908181546, 0.20332581803025768, 0.1219954908181546, 0.40665163606051535, 0.08133032721210307, 0.7222814577969335, 0.0772493537750731, 0.019312338443768274, 0.027037273821275586, 0.06179948302005848, 0.02317480613252193, 0.027037273821275586, 0.027037273821275586, 0.00772493537750731, 0.003862467688753655, 0.6253563592972179, 0.5968750475825824, 0.5173852500833422, 0.5872104118501852, 0.3017501780823861, 0.2011667853882574, 0.1005833926941287, 0.3017501780823861, 0.1005833926941287, 0.6495976688284522, 0.6253987074786835, 0.5377196029890889, 0.11548340466879763, 0.04330627675079911, 0.05774170233439881, 0.05774170233439881, 0.06495941512619866, 0.06135055873029874, 0.028870851167199407, 0.01804428197949963, 0.014435425583599703, 0.4510065141869513, 0.08200118439762752, 0.04100059219881376, 0.04100059219881376, 0.08200118439762752, 0.04100059219881376, 0.04100059219881376, 0.04100059219881376, 0.16400236879525504, 0.6303966892056037, 0.6591971064875177, 0.7386426572085998, 0.15852452500970782, 0.47557357502912345, 0.052841508336569275, 0.10568301667313855, 0.052841508336569275, 0.052841508336569275, 0.2967895374030627, 0.14839476870153134, 0.14839476870153134, 0.2967895374030627, 0.055908769916170324, 0.2795438495808516, 0.11181753983234065, 0.2236350796646813, 0.055908769916170324, 0.055908769916170324, 0.055908769916170324, 0.055908769916170324, 0.11181753983234065, 0.08863332526336272, 0.17726665052672544, 0.17726665052672544, 0.17726665052672544, 0.3545333010534509, 0.08863332526336272, 0.6591043219710795, 0.47878598637828645, 0.180766137714251, 0.07816914063318962, 0.06351242676446657, 0.05374128418531787, 0.04397014160616917, 0.02442785644787176, 0.05374128418531787, 0.009771142579148703, 0.009771142579148703, 0.8110149979298658, 0.47010502839263013, 0.6282643689377764, 0.7539820978998935, 0.8425067356879499, 0.5907677827541321, 0.5669011196050013, 0.6879619934336744, 0.22932066447789146, 0.6253548903338467, 0.6261368536428642, 0.2477275455353508, 0.4954550910707016, 0.21179881233913853, 0.10589940616956926, 0.1588491092543539, 0.10589940616956926, 0.05294970308478463, 0.21179881233913853, 0.05294970308478463, 0.10589940616956926, 0.05294970308478463, 0.3313627581814384, 0.22090850545429228, 0.05522712636357307, 0.05522712636357307, 0.2761356318178653, 0.05522712636357307, 0.05522712636357307, 0.7575031662549895, 0.0988047608158682, 0.01881995444111775, 0.023524943051397188, 0.023524943051397188, 0.009409977220558875, 0.009409977220558875, 0.04234489749251494, 0.009409977220558875, 0.009409977220558875, 0.5907234589864105, 0.12205079487224156, 0.15692245055002485, 0.1394866227111332, 0.1394866227111332, 0.0697433113555666, 0.0348716556777833, 0.052307483516674955, 0.12205079487224156, 0.12205079487224156, 0.01743582783889165, 0.5920702018108144, 0.2960351009054072, 0.7362053825345476, 0.7485441044453801, 0.3965969341541247, 0.3965969341541247, 0.6261464922235543, 0.4713068200103428, 0.4713068200103428, 0.6117544537165932, 0.30041958111646216, 0.16176438983194116, 0.18487358837936133, 0.16176438983194116, 0.011554599273710083, 0.011554599273710083, 0.04621839709484033, 0.09243679418968066, 0.03466379782113025, 0.011554599273710083, 0.7300765378316727, 0.13037081032708442, 0.02607416206541688, 0.02607416206541688, 0.02607416206541688, 0.05214832413083376, 0.02607416206541688, 0.7927730817785834, 0.1585546163557167, 0.6102797829191711, 0.612961726547333, 0.4456511285905236, 0.6005142137547017, 0.10467678955357185, 0.03305582828007532, 0.03305582828007532, 0.09916748484022597, 0.03856513299342121, 0.049583742420112986, 0.02203721885338355, 0.005509304713345887, 0.011018609426691774, 0.611155446231702, 0.5968608659423161, 0.5969179580839354, 0.4525476290620581, 0.8186922700719328, 0.6591910482273518, 0.20782541562265155, 0.1632913979892262, 0.11875738035580088, 0.05937869017790044, 0.10391270781132578, 0.05937869017790044, 0.19298074307817642, 0.04453401763342533, 0.04453401763342533, 0.01484467254447511, 0.2094655826036049, 0.6283967478108147, 0.8136432561216898, 0.13560720935361495, 0.6117178618564438, 0.39969520163892464, 0.08882115591976103, 0.044410577959880515, 0.044410577959880515, 0.22205288979940258, 0.08882115591976103, 0.08882115591976103, 0.044410577959880515, 0.45407457099002935, 0.26288527794159594, 0.043814212990265985, 0.043814212990265985, 0.06970442975724135, 0.05775509894171426, 0.021907106495132993, 0.021907106495132993, 0.01593244108736945, 0.009957775679605907, 0.25105261392101064, 0.25105261392101064, 0.25105261392101064, 0.7123148225534078, 0.09497530967378771, 0.04748765483689386, 0.04748765483689386, 0.04748765483689386, 0.5922022653144005, 0.29610113265720023, 0.07472566333000309, 0.07472566333000309, 0.14945132666000618, 0.2241769899900093, 0.07472566333000309, 0.29890265332001237, 0.07472566333000309, 0.20163194080528432, 0.40326388161056864, 0.3094316238269391, 0.3094316238269391, 0.7274535992240341, 0.3929554097418941, 0.2205073522292643, 0.06784841607054286, 0.08198350275190595, 0.08198350275190595, 0.056540346725452384, 0.03109719069899881, 0.025443156026453573, 0.025443156026453573, 0.019789121353908333, 0.5057250974761739, 0.2711859218350498, 0.029317396955140518, 0.014658698477570259, 0.029317396955140518, 0.051305444671495906, 0.014658698477570259, 0.03664674619392565, 0.02198804771635539, 0.02198804771635539, 0.20179095536755454, 0.4035819107351091, 0.2349057957372833, 0.4698115914745666, 0.10115939380887148, 0.16185503009419439, 0.16185503009419439, 0.18208690885596868, 0.10115939380887148, 0.060695636285322895, 0.12139127257064579, 0.040463757523548596, 0.040463757523548596, 0.040463757523548596, 0.1926639905759007, 0.5779919717277021, 0.12186424749941002, 0.24372849499882004, 0.3655927424982301, 0.12186424749941002, 0.12186424749941002, 0.7910502838075709, 0.3510931813773973, 0.46812424183652973, 0.014628882557391554, 0.014628882557391554, 0.058515530229566216, 0.058515530229566216, 0.014628882557391554, 0.014628882557391554, 0.014628882557391554, 0.48585424198001487, 0.48585424198001487, 0.3359854087297759, 0.15715446537360483, 0.03251471697384928, 0.15715446537360483, 0.13547798739103867, 0.05961031445205701, 0.04335295596513237, 0.010838238991283092, 0.03251471697384928, 0.03251471697384928, 0.1482123715684553, 0.2964247431369106, 0.4446371147053658, 0.1482123715684553, 0.2996380336681399, 0.19975868911209327, 0.07263952331348847, 0.11803922538441874, 0.04539970207093029, 0.0635595828993024, 0.04539970207093029, 0.036319761656744234, 0.08171946372767452, 0.036319761656744234, 0.5930920933913669, 0.29654604669568346, 0.6746555187988904, 0.5655511954291418, 0.34923534942393397, 0.20669030884273643, 0.10334515442136821, 0.10690878043589815, 0.0463271381888892, 0.04989076420341913, 0.06770889427606883, 0.032072634130769447, 0.028509008116239506, 0.010690878043589815, 0.5907810032880874, 0.7462506552477611, 0.6261407800859785, 0.6247548640406999, 0.3198113561581092, 0.12792454246324367, 0.15533694441965304, 0.10964960782563744, 0.018274934637606238, 0.0152291121980052, 0.10355796294643536, 0.10051214050683432, 0.03350404683561144, 0.018274934637606238, 0.7507854928858303, 0.3421958109475774, 0.25664685821068306, 0.048885115849653916, 0.03666383688724044, 0.061106394812067394, 0.13443406858654827, 0.03666383688724044, 0.03666383688724044, 0.024442557924826958, 0.012221278962413479, 0.3566145489456422, 0.3566145489456422, 0.24936336243623172, 0.2947021556064557, 0.07254206907235833, 0.06347431043831353, 0.04533879317022395, 0.12241474155960468, 0.05440655180426874, 0.05440655180426874, 0.040804913853201556, 0.009067758634044791, 0.24656848106322413, 0.3398646630871468, 0.0666401300170876, 0.053312104013670085, 0.03998407801025256, 0.0999601950256314, 0.0333200650085438, 0.04664809101196132, 0.04664809101196132, 0.026656052006835042, 0.3240165518070983, 0.09529898582561715, 0.05717939149537029, 0.09529898582561715, 0.22871756598148116, 0.03811959433024686, 0.01905979716512343, 0.07623918866049371, 0.03811959433024686, 0.01905979716512343, 0.19403604722023973, 0.38807209444047946, 0.19403604722023973, 0.7795803652465375, 0.5907311062109567, 0.624737337470504, 0.5967756582513039, 0.6291918084346344, 0.5655714542782221, 0.710745994028642, 0.11845766567144034, 0.05922883283572017, 0.05922883283572017, 0.18613159535002255, 0.18613159535002255, 0.3722631907000451, 0.18613159535002255, 0.7224221325652849, 0.12040368876088081, 0.02408073775217616, 0.04816147550435232, 0.02408073775217616, 0.04816147550435232, 0.02408073775217616, 0.02408073775217616, 0.5968516915713553, 0.38858763303531696, 0.38858763303531696, 0.7297381613050746, 0.5907149822337973, 0.643487917311506, 0.7925498556048013, 0.6193581698229428, 0.3096790849114714, 0.5958679583346292, 0.6248236992515955, 0.5968454158571791, 0.6257934333276727, 0.6590826095123001, 0.5908056347216291, 0.5969055505655438, 0.6245081886618172, 0.49316892508823634, 0.32877928339215756, 0.5971033345494979, 0.6132336222444407, 0.27016597832603534, 0.31519364138037453, 0.04502766305433922, 0.22513831527169612, 0.09005532610867845, 0.09005532610867845, 0.6172689524858062, 0.19606914396051572, 0.39213828792103145, 0.19606914396051572, 0.5972412463889039, 0.10478920631782779, 0.10478920631782779, 0.10478920631782779, 0.31436761895348336, 0.10478920631782779, 0.10478920631782779, 0.10478920631782779, 0.6261449831198814, 0.5972650663739995, 0.6590484598482682, 0.09048681648813682, 0.6334077154169577, 0.27146044946441045, 0.5929149887585539, 0.29645749437927693, 0.6262228972352433, 0.5716082765652558, 0.1905360921884186, 0.05014107689168911, 0.040112861513351285, 0.010028215378337821, 0.06016929227002693, 0.020056430756675642, 0.040112861513351285, 0.010028215378337821, 0.010028215378337821, 0.39533404733394517, 0.3978960100362882, 0.6108508490702023, 0.65912541026528, 0.635431766740724, 0.5740044681443799, 0.26749722787310903, 0.016718576742069315, 0.039010012398161736, 0.016718576742069315, 0.016718576742069315, 0.027864294570115525, 0.016718576742069315, 0.011145717828046211, 0.27906763106891286, 0.18604508737927525, 0.09302254368963762, 0.27906763106891286, 0.09302254368963762, 0.30905000925572884, 0.11513627795801662, 0.08483725744274909, 0.08483725744274909, 0.09695686564885611, 0.030299020515267533, 0.07271764923664208, 0.12725588616412364, 0.060598041030535066, 0.01817941230916052, 0.5909171751230544, 0.38713268510871257, 0.19574124527968614, 0.1043953308158326, 0.04349805450659692, 0.030448638154617843, 0.13049416351979076, 0.030448638154617843, 0.04349805450659692, 0.02609883270395815, 0.008699610901319384, 0.48726854385162505, 0.16905235194852297, 0.029832767990915818, 0.1491638399545791, 0.03977702398788776, 0.06960979197880357, 0.00994425599697194, 0.00994425599697194, 0.01988851199394388, 0.01988851199394388, 0.5972496657998047, 0.16481997480139907, 0.16481997480139907, 0.16481997480139907, 0.16481997480139907, 0.16481997480139907, 0.6541944202587547, 0.6169879519089021, 0.19385947212040647, 0.5815784163612193, 0.19385947212040647, 0.6258093067244102, 0.6254600391458549, 0.5907187692672963, 0.5908149919690467, 0.31585281420873823, 0.31585281420873823, 0.7576553580438048, 0.8076243575592711, 0.05384162383728474, 0.10768324767456948, 0.2913727470958225, 0.582745494191645, 0.33054202798961857, 0.24059861901285162, 0.07307901979362316, 0.07195472718141357, 0.08994340897676696, 0.08544623852792861, 0.03597736359070679, 0.03372877836628761, 0.017988681795353394, 0.020237267019772565, 0.6104026652440656, 0.5959372158684705, 0.26058406399909195, 0.2372797981129943, 0.10592848130044388, 0.07838707616232847, 0.023304265886097655, 0.014829987382062143, 0.0847427850403551, 0.12711417756053264, 0.044489962146186425, 0.021185696260088774, 0.6340892383856105, 0.21136307946187016, 0.05284076986546754, 0.07926115479820131, 0.1029105013385435, 0.27442800356944935, 0.06860700089236234, 0.17151750223090584, 0.03430350044618117, 0.03430350044618117, 0.205821002677087, 0.06860700089236234, 0.06860700089236234, 0.42108497044264337, 0.12376004131720705, 0.2475200826344141, 0.1031333677643392, 0.06188002065860353, 0.08250669421147137, 0.12376004131720705, 0.12376004131720705, 0.020626673552867843, 0.06188002065860353, 0.06188002065860353, 0.6261627329866035, 0.6590892755543659, 0.659116735222567, 0.2109573142105546, 0.22206033074795223, 0.199854297673157, 0.08882413229918089, 0.05551508268698806, 0.03330904961219283, 0.08882413229918089, 0.044412066149590444, 0.03330904961219283, 0.03330904961219283, 0.3961982202832029, 0.18314823390449944, 0.08970525742261198, 0.059803504948407984, 0.08222981930406098, 0.03737719059275499, 0.06354122400768349, 0.033639471533479494, 0.029901752474203992, 0.029901752474203992, 0.3631954358757644, 0.24381175093511964, 0.0655769536997908, 0.05716965194340737, 0.06725841405106749, 0.09584324002277117, 0.035310667376810434, 0.02522190526915031, 0.02354044491787362, 0.021858984566596934, 0.2836529479666406, 0.2836529479666406, 0.02836529479666406, 0.08509588438999219, 0.05673058959332812, 0.15600912138165232, 0.02836529479666406, 0.02836529479666406, 0.01418264739833203, 0.02836529479666406, 0.3165797584269694, 0.2272880316911575, 0.08929172673581187, 0.07305686732930063, 0.064939437626045, 0.0324697188130225, 0.07305686732930063, 0.0324697188130225, 0.08117429703255626, 0.008117429703255625, 0.6225911191661987, 0.3414738671730612, 0.11382462239102041, 0.11382462239102041, 0.11382462239102041, 0.3414738671730612, 0.5968561005294872], \"Term\": [\"acclaimed\", \"actprivacy\", \"administer\", \"administer\", \"administer\", \"administer\", \"administer\", \"administer\", \"administration\", \"administration\", \"administration\", \"administration\", \"administration\", \"administration\", \"administration\", \"administration\", \"administration\", \"admiral\", \"agencies\", \"air\", \"air\", \"air\", \"air\", \"air\", \"air\", \"air\", \"akagi\", \"akagi\", \"akagi\", \"akagi\", \"akagi\", \"aki\", \"aki\", \"aki\", \"aki\", \"aki\", \"alamosa\", \"alasaka\", \"albuquerque\", \"albuquerque\", \"alexandria\", \"allegations\", \"allowing\", \"along\", \"along\", \"along\", \"along\", \"along\", \"along\", \"along\", \"along\", \"along\", \"already\", \"amendment\", \"american\", \"american\", \"american\", \"american\", \"american\", \"american\", \"american\", \"american\", \"american\", \"american\", \"americans\", \"americans\", \"americans\", \"americans\", \"americans\", \"americans\", \"americans\", \"americans\", \"americans\", \"americans\", \"ammo\", \"angeles\", \"angeles\", \"angeles\", \"angeles\", \"angeles\", \"angeles\", \"angeles\", \"angeles\", \"angeles\", \"angeles\", \"answered\", \"answered\", \"answered\", \"archie\", \"architect\", \"arizona\", \"arizona\", \"arizona\", \"arizona\", \"arizona\", \"arizona\", \"arizona\", \"arizona\", \"arizona\", \"arizona\", \"arkansas\", \"arkansas\", \"arkansas\", \"arkansas\", \"arkansas\", \"arkansas\", \"arkansas\", \"arkansas\", \"arkansas\", \"arlene\", \"arlene\", \"arlene\", \"arlene\", \"arlene\", \"army\", \"army\", \"army\", \"army\", \"army\", \"army\", \"army\", \"army\", \"army\", \"army\", \"article\", \"artists\", \"asher\", \"asian\", \"asian\", \"asian\", \"asian\", \"asian\", \"asian\", \"asian\", \"asian\", \"asian\", \"asian\", \"aspiring\", \"assembly\", \"assembly\", \"assembly\", \"assembly\", \"assembly\", \"assembly\", \"assembly\", \"assembly\", \"assembly\", \"assembly\", \"association\", \"association\", \"association\", \"association\", \"association\", \"association\", \"association\", \"association\", \"association\", \"athletic\", \"athletic\", \"atlanta\", \"attended\", \"attended\", \"attended\", \"attended\", \"attended\", \"attended\", \"attended\", \"attended\", \"attended\", \"attended\", \"aunt\", \"award\", \"award\", \"award\", \"award\", \"award\", \"award\", \"award\", \"award\", \"bainbridge\", \"bainbridge\", \"bainbridge\", \"bainbridge\", \"bainbridge\", \"bainbridge\", \"bainbridge\", \"bainbridge\", \"baptist\", \"baptist\", \"baptist\", \"baptist\", \"battalions\", \"became\", \"became\", \"became\", \"became\", \"became\", \"became\", \"became\", \"became\", \"became\", \"became\", \"behind\", \"behind\", \"ben\", \"bijac\", \"bombers\", \"bombing\", \"bombing\", \"bombing\", \"bombing\", \"bombing\", \"bombing\", \"bombing\", \"bombing\", \"bombing\", \"bombing\", \"born\", \"born\", \"born\", \"born\", \"born\", \"born\", \"born\", \"born\", \"born\", \"born\", \"boyd\", \"brentwood\", \"brethren\", \"brooklyn\", \"bugle\", \"build\", \"business\", \"business\", \"business\", \"business\", \"business\", \"business\", \"business\", \"business\", \"business\", \"business\", \"cabrillo\", \"caledonia\", \"california\", \"california\", \"california\", \"california\", \"california\", \"california\", \"california\", \"california\", \"california\", \"california\", \"camila\", \"camila\", \"camp\", \"camp\", \"camp\", \"camp\", \"camp\", \"camp\", \"camp\", \"camp\", \"camp\", \"camp\", \"caravanned\", \"career\", \"career\", \"career\", \"career\", \"career\", \"career\", \"career\", \"career\", \"career\", \"career\", \"carpenter\", \"cartoon\", \"cartooning\", \"cemetery\", \"center\", \"center\", \"center\", \"center\", \"center\", \"center\", \"center\", \"center\", \"center\", \"center\", \"central\", \"central\", \"central\", \"central\", \"chapter\", \"chapter\", \"chapter\", \"chapter\", \"chapter\", \"chapter\", \"chapter\", \"chapter\", \"chapter\", \"charlie\", \"chatsworth\", \"chicago\", \"chicago\", \"chicago\", \"chicago\", \"chicago\", \"chicago\", \"chicago\", \"chicago\", \"chicago\", \"chicago\", \"chico\", \"chief\", \"chief\", \"chin\", \"chin\", \"chin\", \"chins\", \"chiropractors\", \"chronicle\", \"circuit\", \"circuit\", \"citizenship\", \"citizenship\", \"citizenship\", \"citizenship\", \"citizenship\", \"citizenship\", \"city\", \"city\", \"city\", \"city\", \"city\", \"city\", \"city\", \"city\", \"city\", \"city\", \"claims\", \"clearing\", \"close\", \"college\", \"college\", \"college\", \"college\", \"college\", \"college\", \"college\", \"college\", \"college\", \"college\", \"colorado\", \"colorado\", \"colorado\", \"colorado\", \"colorado\", \"colorado\", \"colorado\", \"colorado\", \"colorado\", \"colorado\", \"command\", \"commissions\", \"committee\", \"committee\", \"committee\", \"committee\", \"committee\", \"committee\", \"committee\", \"committee\", \"committee\", \"committee\", \"community\", \"community\", \"community\", \"community\", \"community\", \"community\", \"community\", \"community\", \"community\", \"community\", \"como\", \"compiled\", \"concentration\", \"concentration\", \"concentration\", \"concentration\", \"concentration\", \"concentration\", \"concentration\", \"concentration\", \"concentration\", \"concentration\", \"concerned\", \"concession\", \"confectionery\", \"congregational\", \"continue\", \"copublisher\", \"cornell\", \"costume\", \"counseling\", \"counseling\", \"couple\", \"couple\", \"couple\", \"couple\", \"court\", \"court\", \"court\", \"court\", \"court\", \"court\", \"court\", \"court\", \"court\", \"court\", \"cuba\", \"cultural\", \"cultural\", \"cultural\", \"cultural\", \"cultural\", \"cultural\", \"cultural\", \"culver\", \"dancer\", \"daughter\", \"daughter\", \"daughter\", \"daughter\", \"daughter\", \"daughter\", \"decisions\", \"denied\", \"denied\", \"denied\", \"denver\", \"denver\", \"denver\", \"denver\", \"denver\", \"denver\", \"denver\", \"denver\", \"denver\", \"department\", \"department\", \"department\", \"department\", \"department\", \"department\", \"department\", \"department\", \"department\", \"department\", \"designer\", \"despite\", \"dietition\", \"disney\", \"diversity\", \"divorced\", \"dobashi\", \"docent\", \"dollars\", \"dominguez\", \"donated\", \"draft\", \"draft\", \"draft\", \"draft\", \"draft\", \"draft\", \"draft\", \"draft\", \"draft\", \"draft\", \"drawings\", \"eagle\", \"editor\", \"editor\", \"editor\", \"editor\", \"editor\", \"editor\", \"editor\", \"education\", \"education\", \"education\", \"education\", \"education\", \"education\", \"education\", \"education\", \"education\", \"education\", \"electrician\", \"eligible\", \"eligible\", \"eligible\", \"eligible\", \"eligible\", \"eligible\", \"emery\", \"emery\", \"engineers\", \"equality\", \"equipment\", \"equipment\", \"established\", \"established\", \"established\", \"established\", \"established\", \"established\", \"established\", \"established\", \"established\", \"evacuate\", \"eventually\", \"eventually\", \"eventually\", \"eventually\", \"eventually\", \"eventually\", \"eventually\", \"eventually\", \"eventually\", \"eventually\", \"ewa\", \"extending\", \"fair\", \"fair\", \"fair\", \"fair\", \"fair\", \"fair\", \"fair\", \"fair\", \"fairview\", \"family\", \"family\", \"family\", \"family\", \"family\", \"family\", \"family\", \"family\", \"family\", \"family\", \"farm\", \"farm\", \"farm\", \"farm\", \"farm\", \"farm\", \"farm\", \"farm\", \"farm\", \"farm\", \"father\", \"father\", \"father\", \"father\", \"father\", \"father\", \"father\", \"father\", \"father\", \"father\", \"fe\", \"fe\", \"felix\", \"feliz\", \"female\", \"female\", \"female\", \"female\", \"female\", \"female\", \"female\", \"female\", \"female\", \"female\", \"filipino\", \"filipino\", \"filipino\", \"filipino\", \"fiscal\", \"fishery\", \"flaco\", \"flew\", \"flew\", \"flowers\", \"force\", \"force\", \"force\", \"force\", \"force\", \"force\", \"force\", \"force\", \"force\", \"fort\", \"fort\", \"fort\", \"fort\", \"fort\", \"fort\", \"fort\", \"fort\", \"fourth\", \"fowler\", \"fowler\", \"fpc\", \"fpc\", \"fpc\", \"francisco\", \"francisco\", \"francisco\", \"francisco\", \"francisco\", \"francisco\", \"francisco\", \"francisco\", \"francisco\", \"francisco\", \"freedoms\", \"fresno\", \"fresno\", \"fresno\", \"fresno\", \"fresno\", \"fresno\", \"fresno\", \"fresno\", \"fresno\", \"gainor\", \"gainor\", \"gallery\", \"gallery\", \"game\", \"gays\", \"gene\", \"georgia\", \"gidra\", \"gidra\", \"gis\", \"gonzaga\", \"gordon\", \"gordon\", \"gordon\", \"gordon\", \"gordon\", \"governmental\", \"grandson\", \"gresham\", \"gresham\", \"gresham\", \"gresham\", \"grew\", \"grew\", \"grew\", \"grew\", \"grew\", \"grew\", \"grew\", \"grew\", \"grew\", \"grew\", \"groups\", \"groups\", \"groups\", \"groups\", \"groups\", \"groups\", \"groups\", \"groups\", \"groups\", \"grove\", \"grove\", \"grove\", \"guadalcanal\", \"guayule\", \"hanapepe\", \"hanapepe\", \"harbor\", \"harbor\", \"harbor\", \"harbor\", \"harbor\", \"harbor\", \"harbor\", \"harbor\", \"harbor\", \"harbor\", \"hawaii\", \"hawaii\", \"hawaii\", \"hawaii\", \"hawaii\", \"hawaii\", \"hawaii\", \"hawaii\", \"hawaii\", \"hawaii\", \"hawaiian\", \"hawaiian\", \"hawaiians\", \"hawthorne\", \"hayasaka\", \"hayasaka\", \"hayasaka\", \"heart\", \"heart\", \"heart\", \"heart\", \"heart\", \"heart\", \"heart\", \"heart\", \"heart\", \"heart\", \"heeia\", \"henry\", \"hero\", \"herzigyoshinaga\", \"hills\", \"hills\", \"hills\", \"hillsboro\", \"hillyard\", \"hillyard\", \"hilo\", \"hilo\", \"hilo\", \"hilo\", \"hilo\", \"hirabayashis\", \"hirabayashis\", \"hirabayashis\", \"hirabayashis\", \"hiraga\", \"hisaye\", \"historic\", \"history\", \"history\", \"history\", \"history\", \"history\", \"history\", \"history\", \"history\", \"holyoke\", \"homes\", \"homes\", \"hood\", \"hood\", \"hood\", \"hood\", \"horiuchi\", \"horiuchi\", \"host\", \"hot\", \"hotels\", \"hotels\", \"hotels\", \"housing\", \"housing\", \"housing\", \"housing\", \"housing\", \"housing\", \"housing\", \"husband\", \"husband\", \"husband\", \"husband\", \"husband\", \"husband\", \"husband\", \"husband\", \"husband\", \"husband\", \"hyeeun\", \"iconic\", \"iconic\", \"idaho\", \"idaho\", \"idaho\", \"idaho\", \"idaho\", \"idaho\", \"idaho\", \"idaho\", \"idaho\", \"idaho\", \"identify\", \"identify\", \"identify\", \"identify\", \"identify\", \"identify\", \"ii\", \"ii\", \"ii\", \"ii\", \"ii\", \"ii\", \"ii\", \"ii\", \"ii\", \"ii\", \"improve\", \"incarcerated\", \"incarcerated\", \"incarcerated\", \"incarcerated\", \"incarcerated\", \"incarcerated\", \"incarcerated\", \"incarcerated\", \"incarcerated\", \"incarcerated\", \"indian\", \"indian\", \"individuals\", \"individuals\", \"individuals\", \"individuals\", \"individuals\", \"individuals\", \"individuals\", \"individuals\", \"infamy\", \"infrastructure\", \"instead\", \"intelligence\", \"intelligence\", \"intelligence\", \"intelligence\", \"intelligence\", \"intelligence\", \"intelligence\", \"intelligence\", \"intelligence\", \"intelligence\", \"international\", \"international\", \"international\", \"international\", \"international\", \"international\", \"international\", \"international\", \"interpreters\", \"involved\", \"involved\", \"involved\", \"involved\", \"involved\", \"involved\", \"involved\", \"involved\", \"involved\", \"involved\", \"iraq\", \"island\", \"island\", \"island\", \"island\", \"island\", \"island\", \"island\", \"island\", \"island\", \"island\", \"islander\", \"islander\", \"isleton\", \"issei\", \"issei\", \"issei\", \"issei\", \"issei\", \"issei\", \"issei\", \"issei\", \"issei\", \"jacl\", \"jacl\", \"jacl\", \"jacl\", \"jacl\", \"jacl\", \"jacl\", \"jacl\", \"jacl\", \"japan\", \"japan\", \"japan\", \"japan\", \"japan\", \"japan\", \"japan\", \"japan\", \"japan\", \"japan\", \"japanese\", \"japanese\", \"japanese\", \"japanese\", \"japanese\", \"japanese\", \"japanese\", \"japanese\", \"japanese\", \"japanese\", \"jara\", \"jewish\", \"jive\", \"jo\", \"jose\", \"jose\", \"jose\", \"jose\", \"jose\", \"jose\", \"jose\", \"jose\", \"jose\", \"joses\", \"joses\", \"joses\", \"judge\", \"judge\", \"judge\", \"judge\", \"judge\", \"judge\", \"justice\", \"justice\", \"justice\", \"justice\", \"justice\", \"justice\", \"justice\", \"justice\", \"justice\", \"justice\", \"justices\", \"justices\", \"justices\", \"justices\", \"justices\", \"kansha\", \"kapaa\", \"kashino\", \"kasuga\", \"kasuga\", \"kealakekua\", \"kelton\", \"ketchikan\", \"kikuno\", \"kip\", \"kip\", \"knowing\", \"kona\", \"kona\", \"koyasan\", \"kubota\", \"kuroki\", \"kurose\", \"kurose\", \"kurose\", \"kurose\", \"kurose\", \"lake\", \"lake\", \"lake\", \"lake\", \"lake\", \"lake\", \"lake\", \"lake\", \"lake\", \"lake\", \"landmark\", \"laying\", \"leagues\", \"leaving\", \"leaving\", \"leaving\", \"leaving\", \"leaving\", \"leaving\", \"leaving\", \"leaving\", \"leaving\", \"leaving\", \"legislator\", \"legislator\", \"lesbians\", \"libby\", \"liberty\", \"liberty\", \"lieutenant\", \"light\", \"light\", \"lithuania\", \"locations\", \"lone\", \"los\", \"los\", \"los\", \"los\", \"los\", \"los\", \"los\", \"los\", \"los\", \"los\", \"loyalty\", \"loyalty\", \"loyalty\", \"loyalty\", \"loyalty\", \"loyalty\", \"lucius\", \"lui\", \"lui\", \"lumber\", \"lumber\", \"lumber\", \"lupton\", \"lupton\", \"lupton\", \"macarthur\", \"madelon\", \"male\", \"male\", \"male\", \"male\", \"male\", \"male\", \"male\", \"male\", \"male\", \"male\", \"manoa\", \"manzanar\", \"manzanar\", \"manzanar\", \"manzanar\", \"manzanar\", \"manzanar\", \"manzanar\", \"manzanar\", \"manzanar\", \"manzanar\", \"mars\", \"mass\", \"mass\", \"mass\", \"mass\", \"mass\", \"mass\", \"mass\", \"mass\", \"mateo\", \"mateo\", \"member\", \"member\", \"member\", \"member\", \"member\", \"member\", \"member\", \"member\", \"member\", \"member\", \"mesa\", \"met\", \"met\", \"met\", \"met\", \"met\", \"met\", \"met\", \"microsoft\", \"mids\", \"mids\", \"mids\", \"military\", \"military\", \"military\", \"military\", \"military\", \"military\", \"military\", \"military\", \"military\", \"military\", \"milpitas\", \"minidoka\", \"minidoka\", \"minidoka\", \"minidoka\", \"minidoka\", \"minidoka\", \"minidoka\", \"minidoka\", \"minidoka\", \"minidoka\", \"minister\", \"minister\", \"minister\", \"minister\", \"minister\", \"minister\", \"minister\", \"minister\", \"minister\", \"minister\", \"minneapolis\", \"minneapolis\", \"minneapolis\", \"minneapolis\", \"minneapolis\", \"minnesota\", \"minnesota\", \"minnesota\", \"minnesota\", \"minnesota\", \"minnesota\", \"minnesota\", \"minnesota\", \"minnesota\", \"misconduct\", \"missions\", \"mitani\", \"mitsuo\", \"miyatake\", \"modern\", \"modern\", \"modesto\", \"monte\", \"monument\", \"morningside\", \"mountain\", \"mountain\", \"mountain\", \"mountain\", \"mountain\", \"mountain\", \"mountain\", \"mountain\", \"mountain\", \"mountain\", \"moved\", \"moved\", \"moved\", \"moved\", \"moved\", \"moved\", \"moved\", \"moved\", \"moved\", \"moved\", \"movement\", \"movement\", \"movement\", \"movement\", \"movement\", \"movement\", \"movement\", \"movement\", \"movement\", \"movement\", \"multimedia\", \"municipal\", \"nakashima\", \"nakashima\", \"nakata\", \"nakata\", \"narte\", \"national\", \"national\", \"national\", \"national\", \"national\", \"national\", \"national\", \"national\", \"national\", \"national\", \"nd\", \"nd\", \"nd\", \"nd\", \"nd\", \"nd\", \"nd\", \"nd\", \"nd\", \"nd\", \"nemah\", \"new\", \"new\", \"new\", \"new\", \"new\", \"new\", \"new\", \"new\", \"new\", \"new\", \"newspaper\", \"newspaper\", \"newspaper\", \"newspaper\", \"newspaper\", \"newspaper\", \"newspaper\", \"newspaper\", \"newspapering\", \"nippon\", \"nippu\", \"nisei\", \"nisei\", \"nisei\", \"nisei\", \"nisei\", \"nisei\", \"nisei\", \"nisei\", \"nisei\", \"nisei\", \"nono\", \"nono\", \"nono\", \"nono\", \"nutrition\", \"oahu\", \"observed\", \"odell\", \"office\", \"office\", \"office\", \"office\", \"office\", \"office\", \"office\", \"office\", \"ogden\", \"ogden\", \"ogden\", \"ogden\", \"ohio\", \"ohio\", \"ohio\", \"ohio\", \"ohio\", \"ohio\", \"oki\", \"oki\", \"oki\", \"oki\", \"oki\", \"omura\", \"onishi\", \"ora\", \"ora\", \"ora\", \"ora\", \"ora\", \"ora\", \"oregon\", \"oregon\", \"oregon\", \"oregon\", \"oregon\", \"oregon\", \"oregon\", \"oregon\", \"oregon\", \"oregon\", \"osco\", \"oversight\", \"overturn\", \"ownership\", \"oyster\", \"oyster\", \"oyster\", \"oyster\", \"oyster\", \"pacifist\", \"packing\", \"parents\", \"parents\", \"parents\", \"parents\", \"parents\", \"parents\", \"parents\", \"parents\", \"parents\", \"parents\", \"park\", \"park\", \"park\", \"park\", \"park\", \"park\", \"park\", \"park\", \"park\", \"parkdale\", \"parker\", \"parks\", \"pasadena\", \"pasadena\", \"pasadena\", \"pasadena\", \"pasadena\", \"pasadena\", \"past\", \"past\", \"past\", \"past\", \"paul\", \"paul\", \"paul\", \"paul\", \"paul\", \"paul\", \"paul\", \"paul\", \"paul\", \"payments\", \"payments\", \"payments\", \"payments\", \"payments\", \"payments\", \"pbs\", \"pearl\", \"pearl\", \"pearl\", \"pearl\", \"pearl\", \"pearl\", \"pearl\", \"pearl\", \"pearl\", \"pearl\", \"penryn\", \"perished\", \"perry\", \"person\", \"petersburg\", \"pharmacology\", \"pierce\", \"pine\", \"pine\", \"pismo\", \"planters\", \"policy\", \"policy\", \"political\", \"political\", \"political\", \"political\", \"political\", \"political\", \"political\", \"political\", \"political\", \"pomona\", \"pomona\", \"pomona\", \"pomona\", \"pomona\", \"pomona\", \"pomona\", \"portland\", \"portland\", \"portland\", \"portland\", \"portland\", \"portland\", \"portland\", \"portland\", \"portland\", \"portland\", \"preacher\", \"president\", \"president\", \"president\", \"president\", \"president\", \"president\", \"president\", \"president\", \"president\", \"president\", \"prime\", \"prime\", \"progressives\", \"proof\", \"protection\", \"protection\", \"proximity\", \"publication\", \"publication\", \"push\", \"puyallup\", \"puyallup\", \"puyallup\", \"puyallup\", \"puyallup\", \"puyallup\", \"puyallup\", \"puyallup\", \"puyallup\", \"puyallup\", \"questionnaire\", \"questionnaire\", \"questionnaire\", \"questionnaire\", \"questionnaire\", \"questionnaire\", \"questionnaire\", \"questions\", \"questions\", \"racetrack\", \"radiologist\", \"rafael\", \"ran\", \"ran\", \"ran\", \"ran\", \"ran\", \"ran\", \"ran\", \"ran\", \"ran\", \"ran\", \"reaffirm\", \"receiving\", \"reconcile\", \"redcap\", \"redlands\", \"redondo\", \"redress\", \"redress\", \"redress\", \"redress\", \"redress\", \"redress\", \"redress\", \"redress\", \"redress\", \"redress\", \"redwood\", \"redwood\", \"regained\", \"regained\", \"remember\", \"removal\", \"removal\", \"removal\", \"removal\", \"removal\", \"removal\", \"removal\", \"removal\", \"removed\", \"removed\", \"removed\", \"removed\", \"removed\", \"removed\", \"removed\", \"removed\", \"removed\", \"removed\", \"reno\", \"reno\", \"reno\", \"renounced\", \"renounced\", \"renounced\", \"renounced\", \"renounced\", \"rep\", \"rep\", \"reparations\", \"reparations\", \"reparations\", \"reparations\", \"reparations\", \"reparations\", \"reparations\", \"represents\", \"represents\", \"researched\", \"researched\", \"reservoir\", \"returned\", \"returned\", \"returned\", \"returned\", \"returned\", \"returned\", \"returned\", \"returned\", \"returned\", \"returned\", \"returning\", \"returning\", \"returning\", \"returning\", \"returning\", \"returning\", \"returning\", \"returning\", \"returning\", \"returning\", \"review\", \"review\", \"richmond\", \"richmond\", \"rights\", \"rights\", \"rights\", \"rights\", \"rights\", \"rights\", \"rights\", \"rights\", \"rights\", \"rights\", \"rocky\", \"rocky\", \"ruthann\", \"ruthann\", \"ruthann\", \"ruthann\", \"ruthann\", \"ryan\", \"sacramento\", \"sacramento\", \"sacramento\", \"sacramento\", \"sacramento\", \"sacramento\", \"sacramento\", \"sacramento\", \"sacramento\", \"sakahara\", \"sakahara\", \"san\", \"san\", \"san\", \"san\", \"san\", \"san\", \"san\", \"san\", \"san\", \"san\", \"sand\", \"sand\", \"sand\", \"sand\", \"sansei\", \"sansei\", \"sansei\", \"sansei\", \"sansei\", \"sansei\", \"sansei\", \"sansei\", \"sansei\", \"sansei\", \"santos\", \"santos\", \"sawtelle\", \"saxophone\", \"school\", \"school\", \"school\", \"school\", \"school\", \"school\", \"school\", \"school\", \"school\", \"school\", \"schoolteacher\", \"schroeder\", \"scottish\", \"scottsbluff\", \"seattle\", \"seattle\", \"seattle\", \"seattle\", \"seattle\", \"seattle\", \"seattle\", \"seattle\", \"seattle\", \"seattle\", \"seeking\", \"sent\", \"sent\", \"sent\", \"sent\", \"sent\", \"sent\", \"sent\", \"sent\", \"sent\", \"sent\", \"serious\", \"serious\", \"served\", \"served\", \"served\", \"served\", \"served\", \"served\", \"served\", \"served\", \"served\", \"served\", \"service\", \"service\", \"service\", \"service\", \"service\", \"service\", \"service\", \"service\", \"service\", \"service\", \"several\", \"several\", \"several\", \"several\", \"several\", \"several\", \"several\", \"several\", \"several\", \"several\", \"seymour\", \"seymour\", \"seymour\", \"sheridan\", \"shipwright\", \"shiro\", \"shizuoka\", \"show\", \"siberia\", \"signed\", \"signed\", \"signed\", \"signed\", \"site\", \"site\", \"site\", \"site\", \"socalled\", \"socalled\", \"socalled\", \"socalled\", \"socalled\", \"socalled\", \"socalled\", \"socalled\", \"sought\", \"sparks\", \"sparks\", \"spend\", \"statehood\", \"steveston\", \"stockade\", \"studio\", \"studio\", \"studios\", \"supportive\", \"suquamish\", \"surgeon\", \"syllables\", \"tailor\", \"takano\", \"task\", \"tatsuo\", \"tatsuo\", \"technology\", \"temples\", \"terminal\", \"terminal\", \"terminal\", \"terminal\", \"terminal\", \"terminal\", \"terrace\", \"theo\", \"theo\", \"theo\", \"threetime\", \"throughout\", \"throughout\", \"throughout\", \"throughout\", \"throughout\", \"throughout\", \"throughout\", \"tinian\", \"tirelessly\", \"titled\", \"tokuda\", \"tokuda\", \"tokuda\", \"tokudas\", \"tokudas\", \"toyo\", \"transferred\", \"transferred\", \"transferred\", \"transferred\", \"transferred\", \"transferred\", \"transferred\", \"transferred\", \"transferred\", \"transferred\", \"transformative\", \"translating\", \"trayvon\", \"tribune\", \"troutdale\", \"tule\", \"tule\", \"tule\", \"tule\", \"tule\", \"tule\", \"tule\", \"tule\", \"tule\", \"uncle\", \"uncle\", \"uncle\", \"uncle\", \"uncle\", \"university\", \"university\", \"university\", \"university\", \"university\", \"university\", \"university\", \"university\", \"university\", \"university\", \"unwavering\", \"us\", \"us\", \"us\", \"us\", \"us\", \"us\", \"us\", \"us\", \"us\", \"us\", \"utah\", \"utah\", \"utah\", \"utah\", \"utah\", \"utah\", \"utah\", \"utah\", \"utah\", \"utah\", \"uw\", \"vacated\", \"vacated\", \"vacated\", \"vacated\", \"vacated\", \"vale\", \"vallejo\", \"vancouver\", \"vancouver\", \"vancouver\", \"vascular\", \"verne\", \"vibrant\", \"vint\", \"virginia\", \"virginia\", \"walerga\", \"walnut\", \"walnut\", \"walnut\", \"wapato\", \"wapato\", \"war\", \"war\", \"war\", \"war\", \"war\", \"war\", \"war\", \"war\", \"war\", \"war\", \"ward\", \"warner\", \"washington\", \"washington\", \"washington\", \"washington\", \"washington\", \"washington\", \"washington\", \"washington\", \"washington\", \"washington\", \"watsonville\", \"watsonville\", \"watsonville\", \"watsonville\", \"well\", \"well\", \"well\", \"well\", \"well\", \"well\", \"well\", \"well\", \"well\", \"wenatchee\", \"white\", \"white\", \"white\", \"white\", \"white\", \"white\", \"white\", \"white\", \"white\", \"white\", \"whitworth\", \"winds\", \"woodward\", \"work\", \"work\", \"work\", \"work\", \"work\", \"work\", \"work\", \"work\", \"work\", \"work\", \"worked\", \"worked\", \"worked\", \"worked\", \"worked\", \"worked\", \"worked\", \"worked\", \"worked\", \"worked\", \"world\", \"world\", \"world\", \"world\", \"world\", \"world\", \"world\", \"world\", \"world\", \"world\", \"wyoming\", \"wyoming\", \"wyoming\", \"wyoming\", \"wyoming\", \"wyoming\", \"wyoming\", \"wyoming\", \"wyoming\", \"wyoming\", \"years\", \"years\", \"years\", \"years\", \"years\", \"years\", \"years\", \"years\", \"years\", \"years\", \"yellow\", \"yonsei\", \"yonsei\", \"yonsei\", \"yonsei\", \"yonsei\", \"yoshino\"]}, \"R\": 30, \"lambda.step\": 0.01, \"plot.opts\": {\"xlab\": \"PC1\", \"ylab\": \"PC2\"}, \"topic.order\": [1, 7, 2, 6, 9, 4, 8, 10, 3, 5]};\n",
              "\n",
              "function LDAvis_load_lib(url, callback){\n",
              "  var s = document.createElement('script');\n",
              "  s.src = url;\n",
              "  s.async = true;\n",
              "  s.onreadystatechange = s.onload = callback;\n",
              "  s.onerror = function(){console.warn(\"failed to load library \" + url);};\n",
              "  document.getElementsByTagName(\"head\")[0].appendChild(s);\n",
              "}\n",
              "\n",
              "if(typeof(LDAvis) !== \"undefined\"){\n",
              "   // already loaded: just create the visualization\n",
              "   !function(LDAvis){\n",
              "       new LDAvis(\"#\" + \"ldavis_el294661365709068883369734431915\", ldavis_el294661365709068883369734431915_data);\n",
              "   }(LDAvis);\n",
              "}else if(typeof define === \"function\" && define.amd){\n",
              "   // require.js is available: use it to load d3/LDAvis\n",
              "   require.config({paths: {d3: \"https://d3js.org/d3.v5\"}});\n",
              "   require([\"d3\"], function(d3){\n",
              "      window.d3 = d3;\n",
              "      LDAvis_load_lib(\"https://cdn.jsdelivr.net/gh/bmabey/pyLDAvis@3.4.0/pyLDAvis/js/ldavis.v3.0.0.js\", function(){\n",
              "        new LDAvis(\"#\" + \"ldavis_el294661365709068883369734431915\", ldavis_el294661365709068883369734431915_data);\n",
              "      });\n",
              "    });\n",
              "}else{\n",
              "    // require.js not available: dynamically load d3 & LDAvis\n",
              "    LDAvis_load_lib(\"https://d3js.org/d3.v5.js\", function(){\n",
              "         LDAvis_load_lib(\"https://cdn.jsdelivr.net/gh/bmabey/pyLDAvis@3.4.0/pyLDAvis/js/ldavis.v3.0.0.js\", function(){\n",
              "                 new LDAvis(\"#\" + \"ldavis_el294661365709068883369734431915\", ldavis_el294661365709068883369734431915_data);\n",
              "            })\n",
              "         });\n",
              "}\n",
              "</script>"
            ]
          },
          "metadata": {},
          "execution_count": 7
        }
      ]
    },
    {
      "cell_type": "markdown",
      "source": [
        "## pyLDAvis Interpretation:\n",
        "*Note: Topic 0 - 9 are represented as 1 - 10 in the visualization above. I will refer to them as they are represented in the code output, topics 0-9.*\n",
        "\n",
        "The Intertopic Distance Map on the left demonstrates how similar or disimilar the topics are with one another based on the distance between them. Each circle represents a topic, and its size indicates the prevalence of the topic in the dataset.\n",
        "\n",
        "The visualization provides an interactive way to explore the relationship between topics and keywords of topics.\n",
        "\n",
        "The map validates the distinctiveness of topics and offers insight into their semantic structure."
      ],
      "metadata": {
        "id": "S21oSRbeMcxf"
      }
    },
    {
      "cell_type": "markdown",
      "source": [
        "## **Summary and description of the topic for each cluster (0 - 9).**\n",
        "\n",
        "\n",
        "**Topic 0**:\n",
        "Summary: This topic focuses on the experiences of individuals in camps located in California, their displacement, and their lives during World War II, with an emphasis on movements and events such as \"being removed\" or \"growing up\" during that time.\n",
        "\n",
        "**Topic 1**:\n",
        "Summary: This topic focuses on personal stories centered on Seattle, Washington, and individuals' family dynamics during the war, including connections to camps and the role of fathers.\n",
        "\n",
        "**Topic 2**:\n",
        "Summary: This topic focuses on Japanese-American identity, focusing on their lives in California and Washington, interactions with American society, and the presence of Japanese culture during the war.\n",
        "\n",
        "**Topic 3**:\n",
        "Summary: This topic focuses on general wartime experiences, including displacement to camps, familial roles, and life in California during World War II, with an emphasis on nisei males and their families.\n",
        "\n",
        "**Topic 4**:\n",
        "Summary: This topic focuses on the lives of individuals in Los Angeles, their experiences during the war, and how their displacement impacted both family and community life, often focusing on nisei individuals.\n",
        "\n",
        "**Topic 5**:\n",
        "Summary: This topic focuses on experiences in camps in California and Washington, focusing on Japanese families and the societal dynamics during the war.\n",
        "\n",
        "**Topic 6**:\n",
        "Summary: This topic focuses on life in California during World War II, including concentration camps, nisei individuals, and broader themes of displacement and resilience.\n",
        "\n",
        "**Topic 7**:\n",
        "Summary: This topic focuses on the lives of individuals in Washington state, with mentions of Seattle, Japanese-American communities, and their wartime experiences.\n",
        "\n",
        "**Topic 8**:\n",
        "Summary: This topic focuses on individuals' experiences in California camps, emphasizing displacement, World War II, and nisei females' stories of resilience and survival.\n",
        "\n",
        "**Topic 9**:\n",
        "Summary: This topic focuses on Japanese-American communities in Washington and Seattle, with a focus on education, local culture, and community-building efforts during the war.\n"
      ],
      "metadata": {
        "id": "uOD6fA5_BhUA"
      }
    },
    {
      "cell_type": "markdown",
      "source": [
        "## Final Notes:\n",
        "LDA provided valuable insights into the dataset by uncovering recurring themes and patterns within the narratives. By analyzing the top 10 clusters, it became evident that topics such as concentration camps, familial roles, Japanese-American identity, and community contributions were central to the dataset. This process helped connect the topics to real-world historical and social contexts, making it easier to interpret the human experiences embedded in the text.\n",
        "\n",
        "For this task, I chose the bag-of-words representation as the feature for topic modeling. This approach is well-suited for identifying patterns and clusters in textual data because it simplifies the representation of documents into a numerical format. While bag-of-words does not capture word order or semantics, it works effectively with LDA to identify co-occurring terms and latent topics. This method was appropriate for the dataset because it allowed for the discovery of broad themes and associations without requiring advanced semantic understanding."
      ],
      "metadata": {
        "id": "VXUnWqBaI2em"
      }
    },
    {
      "cell_type": "markdown",
      "metadata": {
        "id": "AfpMRCrRwN6Z"
      },
      "source": [
        "# **Question 2: Sentiment Analysis**"
      ]
    },
    {
      "cell_type": "markdown",
      "metadata": {
        "id": "1dCQEbDawWCw"
      },
      "source": [
        "(30 points). Sentiment analysis also known as opinion mining is a sub field within Natural Language Processing (NLP) that builds machine learning algorithms to classify a text according to the sentimental polarities of opinions it contains, e.g., positive, negative, neutral. The purpose of this question is to develop a machine learning classifier for sentiment analysis. Based on the dataset from assignment three, write a python program to implement a sentiment classifier and evaluate its performance. Notice: **80% data for training and 20% data for testing**.  \n",
        "\n",
        "1. Select features for the sentiment classification and explain why you select these features. Use a markdown cell to provide your explanation.\n",
        "\n",
        "2. Select two of the supervised learning algorithms/models from scikit-learn library: https://scikit-learn.org/stable/supervised_learning.html#supervised-learning, to build two sentiment classifiers respectively. Note: Cross-validation (5-fold or 10-fold) should be conducted. Here is the reference of cross-validation: https://scikit-learn.org/stable/modules/cross_validation.html.\n",
        "\n",
        "3. Compare the performance over accuracy, precision, recall, and F1 score for the two algorithms you selected. The test set must be used for model evaluation in this step. Here is the reference of how to calculate these metrics: https://towardsdatascience.com/accuracy-precision-recall-or-f1-331fb37c5cb9."
      ]
    },
    {
      "cell_type": "markdown",
      "source": [
        "## ***Imbalance Concern:***\n",
        "\n",
        "I manually labeled 300 / 991 entries using ChatGPT.\n",
        "However, look at how the labels are distributed:\n",
        "\n",
        "negative - 15\n",
        "\n",
        "positive - 82\n",
        "\n",
        "neutral - 204\n",
        "\n",
        "Clearly, the dataset is highly imbalanced."
      ],
      "metadata": {
        "id": "p2001fzTh8Pm"
      }
    },
    {
      "cell_type": "markdown",
      "source": [
        "## **Question 2 Part 1:**\n",
        "\"Select features for the sentiment classification and explain why you select these features. Use a markdown cell to provide your explanation.\"\n",
        "\n",
        "## Response:\n",
        "For sentiment classification, I have selected the TF-IDF (Term Frequency-Inverse Document Frequency) representation of the text data in the clean_text_processed column as the feature.\n",
        "\n",
        "TF-IDF improves upon the Bag-of-Words (BoW) approach by not only considering the presence or absence of words but also weighting words based on their importance in the dataset. Words that appear frequently in many documents (e.g., \"the,\" \"and\") are downweighted, while words that are unique to specific documents (e.g., \"great,\" \"terrible\") are given higher importance.\n",
        "\n",
        "This makes TF-IDF particularly effective for sentiment classification because it emphasizes words that are likely to carry sentiment information, such as \"amazing\" or \"horrible,\" while reducing the impact of common, less informative words."
      ],
      "metadata": {
        "id": "4GwhmzoapyZX"
      }
    },
    {
      "cell_type": "code",
      "execution_count": null,
      "metadata": {
        "id": "vATjQNTY8buA",
        "colab": {
          "base_uri": "https://localhost:8080/"
        },
        "outputId": "2e8abab4-7ed7-477b-b887-4acbd56d8142"
      },
      "outputs": [
        {
          "output_type": "stream",
          "name": "stdout",
          "text": [
            "Training data size: 240\n",
            "Testing data size: 60\n"
          ]
        },
        {
          "output_type": "stream",
          "name": "stderr",
          "text": [
            "/usr/local/lib/python3.10/dist-packages/ipykernel/ipkernel.py:283: DeprecationWarning: `should_run_async` will not call `transform_cell` automatically in the future. Please pass the result to `transformed_cell` argument and any exception that happen during thetransform in `preprocessing_exc_tuple` in IPython 7.17 and above.\n",
            "  and should_run_async(code)\n"
          ]
        }
      ],
      "source": [
        "# Write your code here\n",
        "# I will first split the data into training (80%) and testing (20%).\n",
        "from sklearn.model_selection import train_test_split\n",
        "\n",
        "# Filter out rows where the sentiment label is NaN\n",
        "labeled_data = data.dropna(subset=['sentiment'])\n",
        "\n",
        "# Assuming `clean_text_processed` contains the preprocessed text and `sentiment` is the label\n",
        "X = labeled_data['clean_text_processed']  # Features (text data)\n",
        "y = labeled_data['sentiment']  # Labels (sentiment: positive, negative, neutral)\n",
        "\n",
        "# Split the data: 80% for training, 20% for testing\n",
        "X_train, X_test, y_train, y_test = train_test_split(X, y, test_size=0.2, random_state=42)\n",
        "\n",
        "# Print the sizes to verify\n",
        "print(\"Training data size:\", len(X_train))\n",
        "print(\"Testing data size:\", len(X_test))"
      ]
    },
    {
      "cell_type": "markdown",
      "source": [
        "**Training data size: 240**\n",
        "\n",
        "**Testing data size: 60**\n",
        "\n",
        "That's not a lot of data, but I think cross-validation will help to some extent by making better use of the available labeled data."
      ],
      "metadata": {
        "id": "2EOGRWhl4tRC"
      }
    },
    {
      "cell_type": "markdown",
      "source": [
        "## Question 2 Part 2:\n",
        "\n",
        "SVM and Logistic Regression using 5-fold cross-validation"
      ],
      "metadata": {
        "id": "ddhBFXSv2UQh"
      }
    },
    {
      "cell_type": "code",
      "source": [
        "# SVM\n",
        "\n",
        "# Import necessary libraries\n",
        "from sklearn.feature_extraction.text import TfidfVectorizer\n",
        "from sklearn.svm import SVC\n",
        "from sklearn.pipeline import Pipeline\n",
        "from sklearn.model_selection import cross_val_score\n",
        "from sklearn.metrics import classification_report, accuracy_score\n",
        "\n",
        "# Step 1: Create a pipeline with TF-IDF and SVM Classifier\n",
        "text_clf = Pipeline([\n",
        "    ('tfidf', TfidfVectorizer(stop_words='english', min_df=2)),  # TF-IDF vectorization\n",
        "                                                                 # min_df was adjusted to 2 to retain more features.\n",
        "    ('clf', SVC(kernel='linear', class_weight='balanced', random_state=42)),  # SVM Classifier with a linear kernel\n",
        "])                                                                              # class_weight balanced to help with with\n",
        "                                                                                  # imbalanced dataset mentioned above\n",
        "\n",
        "# Step 2: Perform 10-fold cross-validation on the training set\n",
        "cv_scores = cross_val_score(text_clf, X_train, y_train, cv=10, scoring='accuracy')\n",
        "\n",
        "# Print cross-validation scores\n",
        "print(\"Cross-Validation Scores:\", cv_scores)\n",
        "print(f\"Mean CV Accuracy: {cv_scores.mean()}\")\n",
        "\n",
        "# Step 3: Train the model on the full training set\n",
        "text_clf.fit(X_train, y_train)\n",
        "\n",
        "# Step 4: Make predictions on the test set\n",
        "y_pred = text_clf.predict(X_test)\n",
        "\n",
        "# Step 5: Evaluate the model on the test set\n",
        "# Print the classification report\n",
        "print(\"\\nClassification Report on Test Set:\")\n",
        "print(classification_report(y_test, y_pred))\n",
        "\n",
        "# Print the model accuracy on the test set\n",
        "print(f\"Test Set Accuracy: {accuracy_score(y_test, y_pred)}\")"
      ],
      "metadata": {
        "colab": {
          "base_uri": "https://localhost:8080/"
        },
        "id": "nsYLxCqfxt41",
        "outputId": "cf4769e1-24eb-45c9-971e-6afc68775f2f"
      },
      "execution_count": null,
      "outputs": [
        {
          "output_type": "stream",
          "name": "stderr",
          "text": [
            "/usr/local/lib/python3.10/dist-packages/ipykernel/ipkernel.py:283: DeprecationWarning: `should_run_async` will not call `transform_cell` automatically in the future. Please pass the result to `transformed_cell` argument and any exception that happen during thetransform in `preprocessing_exc_tuple` in IPython 7.17 and above.\n",
            "  and should_run_async(code)\n",
            "/usr/local/lib/python3.10/dist-packages/sklearn/model_selection/_split.py:776: UserWarning: The least populated class in y has only 9 members, which is less than n_splits=10.\n",
            "  warnings.warn(\n"
          ]
        },
        {
          "output_type": "stream",
          "name": "stdout",
          "text": [
            "Cross-Validation Scores: [0.66666667 0.70833333 0.79166667 0.83333333 0.5        0.58333333\n",
            " 0.75       0.83333333 0.79166667 0.625     ]\n",
            "Mean CV Accuracy: 0.7083333333333334\n",
            "\n",
            "Classification Report on Test Set:\n",
            "              precision    recall  f1-score   support\n",
            "\n",
            "    negative       0.00      0.00      0.00         6\n",
            "     neutral       0.67      0.89      0.77        35\n",
            "    positive       0.54      0.37      0.44        19\n",
            "\n",
            "    accuracy                           0.63        60\n",
            "   macro avg       0.40      0.42      0.40        60\n",
            "weighted avg       0.56      0.63      0.59        60\n",
            "\n",
            "Test Set Accuracy: 0.6333333333333333\n"
          ]
        }
      ]
    },
    {
      "cell_type": "markdown",
      "source": [
        "**I researched and tried some ideas. Using SMOTE and an imbalanced pipline didn't help my score in the output above so I removed them. Lets see how Logistic Regression does in comparison.**"
      ],
      "metadata": {
        "id": "m3km1qsX8bpC"
      }
    },
    {
      "cell_type": "code",
      "source": [
        "# Logistic Regression\n",
        "\n",
        "# Import necessary libraries\n",
        "from sklearn.linear_model import LogisticRegression\n",
        "from sklearn.pipeline import Pipeline\n",
        "from sklearn.metrics import classification_report, accuracy_score\n",
        "from sklearn.model_selection import cross_val_score\n",
        "\n",
        "# Step 1: Create a pipeline with TF-IDF and Logistic Regression Classifier\n",
        "logreg_clf = Pipeline([\n",
        "    ('tfidf', TfidfVectorizer(stop_words='english', min_df=2)),  # TF-IDF vectorization\n",
        "    ('clf', LogisticRegression(class_weight='balanced', max_iter=1000, random_state=42)),  # Logistic Regression\n",
        "])\n",
        "\n",
        "# Step 2: Perform 10-fold cross-validation on the training set\n",
        "cv_scores_logreg = cross_val_score(logreg_clf, X_train, y_train, cv=10, scoring='accuracy')\n",
        "\n",
        "# Print cross-validation scores\n",
        "print(\"Cross-Validation Scores (Logistic Regression):\", cv_scores_logreg)\n",
        "print(f\"Mean CV Accuracy (Logistic Regression): {cv_scores_logreg.mean()}\")\n",
        "\n",
        "# Step 3: Train the model on the full training set\n",
        "logreg_clf.fit(X_train, y_train)\n",
        "\n",
        "# Step 4: Make predictions on the test set\n",
        "y_pred_logreg = logreg_clf.predict(X_test)\n",
        "\n",
        "# Step 5: Evaluate the model on the test set\n",
        "# Print the classification report\n",
        "print(\"\\nClassification Report on Test Set (Logistic Regression):\")\n",
        "print(classification_report(y_test, y_pred_logreg))\n",
        "\n",
        "# Print the model accuracy on the test set\n",
        "print(f\"Test Set Accuracy (Logistic Regression): {accuracy_score(y_test, y_pred_logreg)}\")"
      ],
      "metadata": {
        "colab": {
          "base_uri": "https://localhost:8080/"
        },
        "id": "h6dcGKbD6p8k",
        "outputId": "3c46715d-0a2d-4495-df6f-c864ff40efc8"
      },
      "execution_count": null,
      "outputs": [
        {
          "output_type": "stream",
          "name": "stderr",
          "text": [
            "/usr/local/lib/python3.10/dist-packages/ipykernel/ipkernel.py:283: DeprecationWarning: `should_run_async` will not call `transform_cell` automatically in the future. Please pass the result to `transformed_cell` argument and any exception that happen during thetransform in `preprocessing_exc_tuple` in IPython 7.17 and above.\n",
            "  and should_run_async(code)\n",
            "/usr/local/lib/python3.10/dist-packages/sklearn/model_selection/_split.py:776: UserWarning: The least populated class in y has only 9 members, which is less than n_splits=10.\n",
            "  warnings.warn(\n"
          ]
        },
        {
          "output_type": "stream",
          "name": "stdout",
          "text": [
            "Cross-Validation Scores (Logistic Regression): [0.58333333 0.70833333 0.75       0.79166667 0.625      0.58333333\n",
            " 0.66666667 0.83333333 0.625      0.625     ]\n",
            "Mean CV Accuracy (Logistic Regression): 0.6791666666666666\n",
            "\n",
            "Classification Report on Test Set (Logistic Regression):\n",
            "              precision    recall  f1-score   support\n",
            "\n",
            "    negative       0.00      0.00      0.00         6\n",
            "     neutral       0.66      0.77      0.71        35\n",
            "    positive       0.39      0.37      0.38        19\n",
            "\n",
            "    accuracy                           0.57        60\n",
            "   macro avg       0.35      0.38      0.36        60\n",
            "weighted avg       0.51      0.57      0.53        60\n",
            "\n",
            "Test Set Accuracy (Logistic Regression): 0.5666666666666667\n"
          ]
        }
      ]
    },
    {
      "cell_type": "code",
      "source": [
        "\"\"\"\n",
        "Metric\t                SVM\t    Logistic Regression\n",
        "\n",
        "Accuracy\t              0.63\t  0.57\n",
        "\n",
        "Macro Avg Precision\t    0.40\t  0.35\n",
        "\n",
        "Macro Avg Recall\t      0.42\t  0.38\n",
        "\n",
        "Macro Avg F1-Score\t    0.40\t  0.36\n",
        "\n",
        "Weighted Avg Precision\t0.56\t  0.51\n",
        "\n",
        "Weighted Avg Recall\t    0.63\t  0.57\n",
        "\n",
        "Weighted Avg F1-Score\t  0.59\t  0.53\n",
        "\"\"\""
      ],
      "metadata": {
        "id": "apChjhjf_1tb"
      },
      "execution_count": null,
      "outputs": []
    },
    {
      "cell_type": "markdown",
      "source": [
        "**Log Regression and SVM Comparison**\n",
        "\n",
        "The results indicate that Logistic Regression underperforms compared to SVM in sentiment classification on this dataset:\n",
        "\n",
        "Accuracy: Logistic Regression achieved 57% accuracy, lower than SVM's 63%. This demonstrates SVM's better generalization to unseen data.\n",
        "\n",
        "Precision, Recall, and F1-Score: Logistic Regression shows lower precision, recall, and F1-scores across all classes. This suggests it struggles to handle the imbalanced dataset effectively, particularly for the minority classes (negative and positive).\n",
        "\n",
        "Class Distribution Impact: Both models perform better on the neutral class, which dominates the dataset. SVM demonstrates a slight improvement in predicting the positive class compared to Logistic Regression.\n",
        "\n",
        "Dataset Imbalance: The primary challenge is the imbalanced dataset, where the minority class (negative) is severely underrepresented. This limitation stems from issues encountered in a previous assignment, which impacted the labeling process."
      ],
      "metadata": {
        "id": "zziNrqHS-Hif"
      }
    },
    {
      "cell_type": "markdown",
      "metadata": {
        "id": "E5mmYIfN8eYV"
      },
      "source": [
        "# **Question 3: House price prediction**"
      ]
    },
    {
      "cell_type": "markdown",
      "metadata": {
        "id": "hsi2y4z88ngX"
      },
      "source": [
        "(20 points). You are required to build a **regression** model to predict the house price with 79 explanatory variables describing (almost) every aspect of residential homes. The purpose of this question is to practice regression analysis, an supervised learning model. The training data, testing data, and data description files can be download from canvas. Here is an axample for implementation: https://towardsdatascience.com/linear-regression-in-python-predict-the-bay-areas-home-price-5c91c8378878.\n",
        "\n",
        "1. Conduct necessary Exploratory Data Analysis (EDA) and data cleaning steps on the given dataset. Split data for training and testing.\n",
        "2. Based on the EDA results, select a number of features for the regression model. Shortly explain why you select those features.\n",
        "3. Develop a regression model. The train set should be used.\n",
        "4. Evaluate performance of the regression model you developed using appropriate evaluation metrics. The test set should be used."
      ]
    },
    {
      "cell_type": "markdown",
      "source": [
        "## **Inspect Datasets:**"
      ],
      "metadata": {
        "id": "LKlXgNgZmWq7"
      }
    },
    {
      "cell_type": "markdown",
      "source": [
        "*Disclaimer: I am not a real estate agent or broker. I think some of the decisions I make below will be flawed for this reason.*"
      ],
      "metadata": {
        "id": "5nr_oP4Brafg"
      }
    },
    {
      "cell_type": "code",
      "execution_count": 119,
      "metadata": {
        "id": "XfvMKJjIXS5G",
        "colab": {
          "base_uri": "https://localhost:8080/"
        },
        "outputId": "5353f773-0ae9-4948-c66a-dc6ead34835b"
      },
      "outputs": [
        {
          "output_type": "stream",
          "name": "stdout",
          "text": [
            "Train Data:\n",
            "   Id  MSSubClass MSZoning  LotFrontage  LotArea Street Alley LotShape  \\\n",
            "0   1          60       RL         65.0     8450   Pave   NaN      Reg   \n",
            "1   2          20       RL         80.0     9600   Pave   NaN      Reg   \n",
            "2   3          60       RL         68.0    11250   Pave   NaN      IR1   \n",
            "3   4          70       RL         60.0     9550   Pave   NaN      IR1   \n",
            "4   5          60       RL         84.0    14260   Pave   NaN      IR1   \n",
            "\n",
            "  LandContour Utilities  ... PoolArea PoolQC Fence MiscFeature MiscVal MoSold  \\\n",
            "0         Lvl    AllPub  ...        0    NaN   NaN         NaN       0      2   \n",
            "1         Lvl    AllPub  ...        0    NaN   NaN         NaN       0      5   \n",
            "2         Lvl    AllPub  ...        0    NaN   NaN         NaN       0      9   \n",
            "3         Lvl    AllPub  ...        0    NaN   NaN         NaN       0      2   \n",
            "4         Lvl    AllPub  ...        0    NaN   NaN         NaN       0     12   \n",
            "\n",
            "  YrSold  SaleType  SaleCondition  SalePrice  \n",
            "0   2008        WD         Normal     208500  \n",
            "1   2007        WD         Normal     181500  \n",
            "2   2008        WD         Normal     223500  \n",
            "3   2006        WD        Abnorml     140000  \n",
            "4   2008        WD         Normal     250000  \n",
            "\n",
            "[5 rows x 81 columns]\n",
            "\n",
            "Test Data:\n",
            "     Id  MSSubClass MSZoning  LotFrontage  LotArea Street Alley LotShape  \\\n",
            "0  1461          20       RH         80.0    11622   Pave   NaN      Reg   \n",
            "1  1462          20       RL         81.0    14267   Pave   NaN      IR1   \n",
            "2  1463          60       RL         74.0    13830   Pave   NaN      IR1   \n",
            "3  1464          60       RL         78.0     9978   Pave   NaN      IR1   \n",
            "4  1465         120       RL         43.0     5005   Pave   NaN      IR1   \n",
            "\n",
            "  LandContour Utilities  ... ScreenPorch PoolArea PoolQC  Fence MiscFeature  \\\n",
            "0         Lvl    AllPub  ...         120        0    NaN  MnPrv         NaN   \n",
            "1         Lvl    AllPub  ...           0        0    NaN    NaN        Gar2   \n",
            "2         Lvl    AllPub  ...           0        0    NaN  MnPrv         NaN   \n",
            "3         Lvl    AllPub  ...           0        0    NaN    NaN         NaN   \n",
            "4         HLS    AllPub  ...         144        0    NaN    NaN         NaN   \n",
            "\n",
            "  MiscVal MoSold  YrSold  SaleType  SaleCondition  \n",
            "0       0      6    2010        WD         Normal  \n",
            "1   12500      6    2010        WD         Normal  \n",
            "2       0      3    2010        WD         Normal  \n",
            "3       0      6    2010        WD         Normal  \n",
            "4       0      1    2010        WD         Normal  \n",
            "\n",
            "[5 rows x 80 columns]\n"
          ]
        }
      ],
      "source": [
        "# Write your code here\n",
        "import pandas as pd\n",
        "\n",
        "train_data = pd.read_csv('/content/gdrive/MyDrive/Colab Notebooks/INFO 5731/Week 14/assignment4-question3-data/train.csv')\n",
        "test_data = pd.read_csv('/content/gdrive/MyDrive/Colab Notebooks/INFO 5731/Week 14/assignment4-question3-data/test.csv')\n",
        "\n",
        "# Inspect data:\n",
        "print('Train Data:')\n",
        "print(train_data.head())\n",
        "print('\\nTest Data:')\n",
        "print(test_data.head())\n"
      ]
    },
    {
      "cell_type": "markdown",
      "source": [
        "## **Cleaning and Preprocessing**\n",
        "### Handling missing values:\n",
        "\n"
      ],
      "metadata": {
        "id": "4JeGfFzymMKQ"
      }
    },
    {
      "cell_type": "code",
      "source": [
        "import numpy as np\n",
        "from sklearn.impute import SimpleImputer\n",
        "\n",
        "# Drop columns that are mostly missing features, just add noise, and/or don't contribute much to the sells price:\n",
        "    # 'Id' is only dropped from train dataset, not test dataset. It doesn't contribute to the training of a model\n",
        "        # but we need it to identify homes after testing the model.\n",
        "train_data = train_data.drop(columns=['Id', 'Alley', 'Utilities', 'MiscFeature', 'PoolQC', 'Fence', 'Condition2',\n",
        "                                      'MasVnrType', 'FireplaceQu', 'BsmtQual', 'BsmtExposure', 'BsmtFinType1',\n",
        "                                      'BsmtFinType2', 'BsmtFinSF1', 'BsmtFinSF2', 'BsmtUnfSF', 'TotalBsmtSF',\n",
        "                                      'BsmtFullBath', 'BsmtHalfBath', 'GarageType', 'GarageYrBlt', 'GarageFinish',\n",
        "                                      'GarageQual', 'GarageCond', 'GarageArea'])\n",
        "test_data = test_data.drop(columns=['Alley', 'Utilities', 'MiscFeature', 'PoolQC', 'Fence', 'Condition2',\n",
        "                                    'MasVnrType', 'FireplaceQu', 'BsmtQual', 'BsmtExposure', 'BsmtFinType1',\n",
        "                                    'BsmtFinType2', 'BsmtFinSF1', 'BsmtFinSF2', 'BsmtUnfSF', 'TotalBsmtSF', 'BsmtFullBath',\n",
        "                                    'BsmtHalfBath', 'GarageType', 'GarageYrBlt', 'GarageFinish', 'GarageQual', 'GarageCond', 'GarageArea'])\n",
        "\n",
        "# Note for basements and garages:\n",
        "    # I left BsmtCond and GarageCars, but deleted the other features with a lot of missing values for garages and basements.\n",
        "    # These are the most important features related to garages and basements and\n",
        "    # I expect the others to have multicollinearity with BsmtCond or GarageCars anyways.\n",
        "\n",
        "# Imputation for training data\n",
        "# MasVnrArea: Fill missing values with 0\n",
        "train_data['MasVnrArea'] = train_data['MasVnrArea'].fillna(0)\n",
        "\n",
        "# Electrical: Fill missing values with the most frequent value\n",
        "train_data['Electrical'] = train_data['Electrical'].fillna(train_data['Electrical'].mode()[0])\n",
        "\n",
        "# Replace missing values in BsmtCond with 'NA'\n",
        "train_data['BsmtCond'] = train_data['BsmtCond'].fillna('NA')\n",
        "\n",
        "# Imputation for testing data\n",
        "# MSZoning: Fill missing values with the most frequent value\n",
        "test_data['MSZoning'] = test_data['MSZoning'].fillna(train_data['MSZoning'].mode()[0])\n",
        "\n",
        "# Exterior1st: Fill missing values with the most frequent value\n",
        "test_data['Exterior1st'] = test_data['Exterior1st'].fillna(train_data['Exterior1st'].mode()[0])\n",
        "\n",
        "# Exterior2nd: Fill missing values with the most frequent value\n",
        "test_data['Exterior2nd'] = test_data['Exterior2nd'].fillna(train_data['Exterior2nd'].mode()[0])\n",
        "\n",
        "# Replace missing values in BsmtCond with 'NA'\n",
        "test_data['BsmtCond'] = test_data['BsmtCond'].fillna('NA')\n",
        "\n",
        "# MasVnrArea: Fill missing values with 0\n",
        "test_data['MasVnrArea'] = test_data['MasVnrArea'].fillna(0)\n",
        "\n",
        "# KitchenQual: Fill missing values with the most frequent value\n",
        "test_data['KitchenQual'] = test_data['KitchenQual'].fillna(train_data['KitchenQual'].mode()[0])\n",
        "\n",
        "# Functional: Fill missing values with the most frequent value\n",
        "test_data['Functional'] = test_data['Functional'].fillna(train_data['Functional'].mode()[0])\n",
        "\n",
        "# SaleType: Fill missing values with the most frequent value\n",
        "test_data['SaleType'] = test_data['SaleType'].fillna(train_data['SaleType'].mode()[0])\n",
        "\n",
        "# Impute missing values for GarageCars with the mean value\n",
        "test_data['GarageCars'] = test_data['GarageCars'].fillna(train_data['GarageCars'].mean())\n",
        "\n",
        "# Lot frontage will probably contribute to the sells price as it correlates with the size of a lot,\n",
        "    # so we will treat this feature a little different.\n",
        "    # Homes typically have frontage along the connecting street.\n",
        "    # These values are most likely just missing, so we will impute the average for that feature.\n",
        "# First, replace 'NA' strings with NaN\n",
        "train_data['LotFrontage'] = train_data['LotFrontage'].replace('NA', np.nan)\n",
        "test_data['LotFrontage'] = test_data['LotFrontage'].replace('NA', np.nan)\n",
        "\n",
        "# Next, impute the average for LotFrontage into the newly NaN cells\n",
        "train_data['LotFrontage'] = train_data['LotFrontage'].fillna(train_data['LotFrontage'].median())\n",
        "test_data['LotFrontage'] = test_data['LotFrontage'].fillna(train_data['LotFrontage'].median())  # Use training median for consistency\n",
        "\n"
      ],
      "metadata": {
        "id": "jqeH2c7hYcbG"
      },
      "execution_count": 120,
      "outputs": []
    },
    {
      "cell_type": "code",
      "source": [
        "# Check for missing values in the training data\n",
        "missing_values_train = train_data.isnull().sum()\n",
        "print(\"Missing values in training data:\")\n",
        "print(missing_values_train[missing_values_train > 0])\n",
        "\n",
        "# Check for missing values in the testing data\n",
        "missing_values_test = test_data.isnull().sum()\n",
        "print(\"\\nMissing values in testing data:\")\n",
        "print(missing_values_test[missing_values_test > 0])"
      ],
      "metadata": {
        "colab": {
          "base_uri": "https://localhost:8080/"
        },
        "id": "c41L9ebLmkn8",
        "outputId": "8f649710-61cc-4be6-a228-877f11ad61ea"
      },
      "execution_count": 121,
      "outputs": [
        {
          "output_type": "stream",
          "name": "stdout",
          "text": [
            "Missing values in training data:\n",
            "Series([], dtype: int64)\n",
            "\n",
            "Missing values in testing data:\n",
            "Series([], dtype: int64)\n"
          ]
        }
      ]
    },
    {
      "cell_type": "code",
      "source": [
        "print(train_data.head)\n",
        "print(test_data.head)"
      ],
      "metadata": {
        "colab": {
          "base_uri": "https://localhost:8080/"
        },
        "collapsed": true,
        "id": "m01vHSmy45fT",
        "outputId": "5e10be1d-b450-43a8-a478-f6c8a1822773"
      },
      "execution_count": 122,
      "outputs": [
        {
          "output_type": "stream",
          "name": "stdout",
          "text": [
            "<bound method NDFrame.head of       MSSubClass MSZoning  LotFrontage  LotArea Street LotShape LandContour  \\\n",
            "0             60       RL         65.0     8450   Pave      Reg         Lvl   \n",
            "1             20       RL         80.0     9600   Pave      Reg         Lvl   \n",
            "2             60       RL         68.0    11250   Pave      IR1         Lvl   \n",
            "3             70       RL         60.0     9550   Pave      IR1         Lvl   \n",
            "4             60       RL         84.0    14260   Pave      IR1         Lvl   \n",
            "...          ...      ...          ...      ...    ...      ...         ...   \n",
            "1455          60       RL         62.0     7917   Pave      Reg         Lvl   \n",
            "1456          20       RL         85.0    13175   Pave      Reg         Lvl   \n",
            "1457          70       RL         66.0     9042   Pave      Reg         Lvl   \n",
            "1458          20       RL         68.0     9717   Pave      Reg         Lvl   \n",
            "1459          20       RL         75.0     9937   Pave      Reg         Lvl   \n",
            "\n",
            "     LotConfig LandSlope Neighborhood  ... EnclosedPorch 3SsnPorch  \\\n",
            "0       Inside       Gtl      CollgCr  ...             0         0   \n",
            "1          FR2       Gtl      Veenker  ...             0         0   \n",
            "2       Inside       Gtl      CollgCr  ...             0         0   \n",
            "3       Corner       Gtl      Crawfor  ...           272         0   \n",
            "4          FR2       Gtl      NoRidge  ...             0         0   \n",
            "...        ...       ...          ...  ...           ...       ...   \n",
            "1455    Inside       Gtl      Gilbert  ...             0         0   \n",
            "1456    Inside       Gtl       NWAmes  ...             0         0   \n",
            "1457    Inside       Gtl      Crawfor  ...             0         0   \n",
            "1458    Inside       Gtl        NAmes  ...           112         0   \n",
            "1459    Inside       Gtl      Edwards  ...             0         0   \n",
            "\n",
            "     ScreenPorch  PoolArea  MiscVal  MoSold  YrSold SaleType SaleCondition  \\\n",
            "0              0         0        0       2    2008       WD        Normal   \n",
            "1              0         0        0       5    2007       WD        Normal   \n",
            "2              0         0        0       9    2008       WD        Normal   \n",
            "3              0         0        0       2    2006       WD       Abnorml   \n",
            "4              0         0        0      12    2008       WD        Normal   \n",
            "...          ...       ...      ...     ...     ...      ...           ...   \n",
            "1455           0         0        0       8    2007       WD        Normal   \n",
            "1456           0         0        0       2    2010       WD        Normal   \n",
            "1457           0         0     2500       5    2010       WD        Normal   \n",
            "1458           0         0        0       4    2010       WD        Normal   \n",
            "1459           0         0        0       6    2008       WD        Normal   \n",
            "\n",
            "     SalePrice  \n",
            "0       208500  \n",
            "1       181500  \n",
            "2       223500  \n",
            "3       140000  \n",
            "4       250000  \n",
            "...        ...  \n",
            "1455    175000  \n",
            "1456    210000  \n",
            "1457    266500  \n",
            "1458    142125  \n",
            "1459    147500  \n",
            "\n",
            "[1460 rows x 56 columns]>\n",
            "<bound method NDFrame.head of         Id  MSSubClass MSZoning  LotFrontage  LotArea Street LotShape  \\\n",
            "0     1461          20       RH         80.0    11622   Pave      Reg   \n",
            "1     1462          20       RL         81.0    14267   Pave      IR1   \n",
            "2     1463          60       RL         74.0    13830   Pave      IR1   \n",
            "3     1464          60       RL         78.0     9978   Pave      IR1   \n",
            "4     1465         120       RL         43.0     5005   Pave      IR1   \n",
            "...    ...         ...      ...          ...      ...    ...      ...   \n",
            "1454  2915         160       RM         21.0     1936   Pave      Reg   \n",
            "1455  2916         160       RM         21.0     1894   Pave      Reg   \n",
            "1456  2917          20       RL        160.0    20000   Pave      Reg   \n",
            "1457  2918          85       RL         62.0    10441   Pave      Reg   \n",
            "1458  2919          60       RL         74.0     9627   Pave      Reg   \n",
            "\n",
            "     LandContour LotConfig LandSlope  ... OpenPorchSF EnclosedPorch 3SsnPorch  \\\n",
            "0            Lvl    Inside       Gtl  ...           0             0         0   \n",
            "1            Lvl    Corner       Gtl  ...          36             0         0   \n",
            "2            Lvl    Inside       Gtl  ...          34             0         0   \n",
            "3            Lvl    Inside       Gtl  ...          36             0         0   \n",
            "4            HLS    Inside       Gtl  ...          82             0         0   \n",
            "...          ...       ...       ...  ...         ...           ...       ...   \n",
            "1454         Lvl    Inside       Gtl  ...           0             0         0   \n",
            "1455         Lvl    Inside       Gtl  ...          24             0         0   \n",
            "1456         Lvl    Inside       Gtl  ...           0             0         0   \n",
            "1457         Lvl    Inside       Gtl  ...          32             0         0   \n",
            "1458         Lvl    Inside       Mod  ...          48             0         0   \n",
            "\n",
            "     ScreenPorch  PoolArea  MiscVal  MoSold  YrSold SaleType SaleCondition  \n",
            "0            120         0        0       6    2010       WD        Normal  \n",
            "1              0         0    12500       6    2010       WD        Normal  \n",
            "2              0         0        0       3    2010       WD        Normal  \n",
            "3              0         0        0       6    2010       WD        Normal  \n",
            "4            144         0        0       1    2010       WD        Normal  \n",
            "...          ...       ...      ...     ...     ...      ...           ...  \n",
            "1454           0         0        0       6    2006       WD        Normal  \n",
            "1455           0         0        0       4    2006       WD       Abnorml  \n",
            "1456           0         0        0       9    2006       WD       Abnorml  \n",
            "1457           0         0      700       7    2006       WD        Normal  \n",
            "1458           0         0        0      11    2006       WD        Normal  \n",
            "\n",
            "[1459 rows x 56 columns]>\n"
          ]
        }
      ]
    },
    {
      "cell_type": "code",
      "source": [
        "# Categorical vs Numerical Features:\n",
        "categorical_features = train_data.select_dtypes(include=['object']).columns\n",
        "numerical_features = train_data.select_dtypes(include=['int64', 'float64']).columns\n",
        "print(\"Categorical Features:\", categorical_features)\n",
        "print(\"Numerical Features:\", numerical_features)"
      ],
      "metadata": {
        "colab": {
          "base_uri": "https://localhost:8080/"
        },
        "id": "G1EP9EkO6rdl",
        "outputId": "afcba275-6736-471a-f5da-a8d9fe6053b1"
      },
      "execution_count": 123,
      "outputs": [
        {
          "output_type": "stream",
          "name": "stdout",
          "text": [
            "Categorical Features: Index(['MSZoning', 'Street', 'LotShape', 'LandContour', 'LotConfig',\n",
            "       'LandSlope', 'Neighborhood', 'Condition1', 'BldgType', 'HouseStyle',\n",
            "       'RoofStyle', 'RoofMatl', 'Exterior1st', 'Exterior2nd', 'ExterQual',\n",
            "       'ExterCond', 'Foundation', 'BsmtCond', 'Heating', 'HeatingQC',\n",
            "       'CentralAir', 'Electrical', 'KitchenQual', 'Functional', 'PavedDrive',\n",
            "       'SaleType', 'SaleCondition'],\n",
            "      dtype='object')\n",
            "Numerical Features: Index(['MSSubClass', 'LotFrontage', 'LotArea', 'OverallQual', 'OverallCond',\n",
            "       'YearBuilt', 'YearRemodAdd', 'MasVnrArea', '1stFlrSF', '2ndFlrSF',\n",
            "       'LowQualFinSF', 'GrLivArea', 'FullBath', 'HalfBath', 'BedroomAbvGr',\n",
            "       'KitchenAbvGr', 'TotRmsAbvGrd', 'Fireplaces', 'GarageCars',\n",
            "       'WoodDeckSF', 'OpenPorchSF', 'EnclosedPorch', '3SsnPorch',\n",
            "       'ScreenPorch', 'PoolArea', 'MiscVal', 'MoSold', 'YrSold', 'SalePrice'],\n",
            "      dtype='object')\n"
          ]
        }
      ]
    },
    {
      "cell_type": "markdown",
      "source": [
        "Encoding:"
      ],
      "metadata": {
        "id": "skEcd6UV4ZgF"
      }
    },
    {
      "cell_type": "code",
      "source": [
        "# Using One-hot encoding to convert categorical data to numerical data:\n",
        "from sklearn.compose import ColumnTransformer\n",
        "from sklearn.preprocessing import OneHotEncoder\n",
        "from sklearn.model_selection import train_test_split\n",
        "\n",
        "# Step 1: Separate features and target\n",
        "X_train = train_data.drop(columns=['SalePrice'])  # All features except the target\n",
        "y_train = train_data['SalePrice']  # Target variable\n",
        "\n",
        "# Step 2: Identify categorical and numerical columns\n",
        "categorical_features = list(X_train.select_dtypes(include=['object']).columns)\n",
        "numerical_features = list(X_train.select_dtypes(include=['int64', 'float64']).columns)\n",
        "\n",
        "# Step 3: Create ColumnTransformer to handle categorical encoding\n",
        "preprocessor = ColumnTransformer(\n",
        "    transformers=[\n",
        "        ('cat', OneHotEncoder(handle_unknown='ignore', sparse_output=False), categorical_features),\n",
        "        ('num', 'passthrough', numerical_features)\n",
        "    ]\n",
        ")\n",
        "\n",
        "# Step 4: Transform the data\n",
        "X_train_transformed = preprocessor.fit_transform(X_train)  # Apply the transformations to the training data\n",
        "X_test_transformed = preprocessor.transform(test_data)  # Apply the same transformations to the test data\n",
        "\n",
        "# Step 5: Check the shapes of the transformed data\n",
        "print(f\"Training Data Shape: {X_train_transformed.shape}\")\n",
        "print(f\"Test Data Shape: {X_test_transformed.shape}\")\n"
      ],
      "metadata": {
        "colab": {
          "base_uri": "https://localhost:8080/"
        },
        "id": "riTD_Zza4ZBT",
        "outputId": "e6b1bcfd-57a4-4298-feda-e666e3f453ec"
      },
      "execution_count": 124,
      "outputs": [
        {
          "output_type": "stream",
          "name": "stdout",
          "text": [
            "Training Data Shape: (1460, 210)\n",
            "Test Data Shape: (1459, 210)\n"
          ]
        }
      ]
    },
    {
      "cell_type": "code",
      "source": [
        "import seaborn as sns\n",
        "import matplotlib.pyplot as plt\n",
        "\n",
        "# Filter numerical columns\n",
        "numerical_columns = train_data.select_dtypes(include=['int64', 'float64']).columns\n",
        "\n",
        "# Correlation matrix for numerical features\n",
        "correlation_matrix = train_data[numerical_columns].corr()\n",
        "\n",
        "# Create a mask for the upper triangle\n",
        "mask = np.triu(np.ones_like(correlation_matrix, dtype=bool))\n",
        "\n",
        "# Plot the heatmap with the mask\n",
        "plt.figure(figsize=(12, 8))\n",
        "sns.heatmap(correlation_matrix, mask=mask, annot=True, fmt=\".2f\", cmap='coolwarm', linewidths=0.5)\n",
        "\n",
        "# Display the plot\n",
        "plt.title(\"Correlation Matrix for Numerical Features (Masked)\")\n",
        "plt.show()"
      ],
      "metadata": {
        "colab": {
          "base_uri": "https://localhost:8080/",
          "height": 791
        },
        "id": "sxwOF1zoLOxc",
        "outputId": "00e01f50-a746-4560-8b40-950b55c26258"
      },
      "execution_count": 125,
      "outputs": [
        {
          "output_type": "display_data",
          "data": {
            "text/plain": [
              "<Figure size 1200x800 with 2 Axes>"
            ],
            "image/png": "[encoded data removed]"
          },
          "metadata": {}
        }
      ]
    },
    {
      "cell_type": "markdown",
      "source": [
        "### **10 Features selected based on correlation or knowledge of real estate:**\n",
        "\n",
        "**Highly Correlated Features:** We can now easily identify features with strong correlations to the target variable SalePrice.\n",
        "\n",
        "OverallQual (0.79) - The strongest positive correlation; measures overall material and finish quality.\n",
        "\n",
        "GrLivArea (0.71) - Total above-ground living area; highly correlated with house price.\n",
        "\n",
        "GarageCars (0.64) - Number of cars that can fit in the garage; an important practical feature.\n",
        "\n",
        "1stFlrSF (0.61) - Size of the first floor; contributes to the total living space.\n",
        "\n",
        "FullBath (0.56) - Number of full bathrooms; important for usability.\n",
        "\n",
        "TotRmsAbvGrd (0.53) - Total rooms above ground level; reflects house size and layout.\n",
        "\n",
        "YearBuilt (0.52) - The year the house was built; newer homes tend to have higher prices.\n",
        "\n",
        "**Intuition and knowledge regarding real estate and some of the categorical features:** I chose to include these categorical features due to their importance in real estate.\n",
        "\n",
        "Neighborhood - Location, essential in real estate\n",
        "\n",
        "ExterQual - External quality likely impacts price\n",
        "\n",
        "KitchenQual - Kitchen quality is important for buyers"
      ],
      "metadata": {
        "id": "5ECYJoixOKaj"
      }
    },
    {
      "cell_type": "markdown",
      "source": [
        "### **Rationale for Feature Selection**\n",
        "**High Correlation:** Features like OverallQual and GrLivArea were selected due to their strong positive correlation with SalePrice, making them reliable predictors.\n",
        "\n",
        "**Practical Importance:** Categorical features like Neighborhood and KitchenQual were chosen based on their known significance in real estate valuation.\n",
        "\n",
        "**Diverse Representation:** A mix of numerical and categorical features ensures the model captures various aspects of home valuation.\n",
        "\n",
        "**Avoiding Multicollinearity:** Features with redundant information (e.g., GarageArea) were excluded to avoid overfitting."
      ],
      "metadata": {
        "id": "05JSJTBVVArS"
      }
    },
    {
      "cell_type": "markdown",
      "source": [
        "## Part 3:"
      ],
      "metadata": {
        "id": "9TiT9tERVdKp"
      }
    },
    {
      "cell_type": "code",
      "source": [
        "# Selected features (from Part 2)\n",
        "selected_features = [\n",
        "    'OverallQual', 'GrLivArea', 'GarageCars', '1stFlrSF', 'FullBath',\n",
        "    'TotRmsAbvGrd', 'YearBuilt', 'Neighborhood', 'ExterQual', 'KitchenQual'\n",
        "]\n",
        "\n",
        "# Identify the one-hot encoded columns for categorical features\n",
        "encoded_columns = preprocessor.named_transformers_['cat'].get_feature_names_out(categorical_features)\n",
        "\n",
        "# Combine numerical and one-hot encoded feature names\n",
        "transformed_feature_names = list(encoded_columns) + numerical_features\n",
        "\n",
        "# Identify indices of the selected features in the transformed dataset\n",
        "# (Match both numerical and one-hot encoded categorical features)\n",
        "selected_feature_indices = [\n",
        "    i for i, col in enumerate(transformed_feature_names)\n",
        "    if col in selected_features or any(feature in col for feature in selected_features)\n",
        "]\n",
        "\n",
        "# Filter transformed training and testing data\n",
        "X_train_selected = X_train_transformed[:, selected_feature_indices]\n",
        "X_test_selected = X_test_transformed[:, selected_feature_indices]\n",
        "\n",
        "# Check shapes to confirm filtering\n",
        "print(f\"Selected Training Data Shape: {X_train_selected.shape}\")\n",
        "print(f\"Selected Test Data Shape: {X_test_selected.shape}\")"
      ],
      "metadata": {
        "colab": {
          "base_uri": "https://localhost:8080/"
        },
        "id": "GscuKDMkbnc1",
        "outputId": "3b810c90-b849-41ec-90df-b0399861f5a0"
      },
      "execution_count": 126,
      "outputs": [
        {
          "output_type": "stream",
          "name": "stdout",
          "text": [
            "Selected Training Data Shape: (1460, 40)\n",
            "Selected Test Data Shape: (1459, 40)\n"
          ]
        }
      ]
    },
    {
      "cell_type": "markdown",
      "source": [
        "*This output indicates that the feature selection process was successful and that only the 40 columns corresponding to the 10 selected features (including their one-hot encoded categories) are being used. This aligns with our intention to include only the most relevant features in the regression model.*"
      ],
      "metadata": {
        "id": "p9ZuHj5NcKaT"
      }
    },
    {
      "cell_type": "code",
      "source": [
        "# Linear Regression Model\n",
        "\n",
        "from sklearn.linear_model import LinearRegression\n",
        "from sklearn.model_selection import cross_val_score\n",
        "from sklearn.metrics import mean_squared_error, r2_score\n",
        "\n",
        "# Initialize the model\n",
        "model = LinearRegression()\n",
        "\n",
        "# Perform cross-validation on the selected training data\n",
        "cv_rmse = np.sqrt(-cross_val_score(model, X_train_selected, y_train, cv=10, scoring='neg_mean_squared_error'))\n",
        "print(f\"Cross-Validation RMSE: {cv_rmse.mean()}\")\n",
        "\n",
        "# Train the model on the selected training data\n",
        "model.fit(X_train_selected, y_train)\n",
        "\n",
        "# Evaluate the model on the training set\n",
        "y_train_pred = model.predict(X_train_selected)  # Use X_train_selected here\n",
        "train_rmse = mean_squared_error(y_train, y_train_pred, squared=False)\n",
        "train_r2 = r2_score(y_train, y_train_pred)\n",
        "print(f\"Training RMSE: {train_rmse}\")\n",
        "print(f\"Training R^2 Score: {train_r2}\")"
      ],
      "metadata": {
        "colab": {
          "base_uri": "https://localhost:8080/"
        },
        "id": "BA4YkjrOWCmS",
        "outputId": "c8ee0397-38b6-4b2b-8198-093039bf9568"
      },
      "execution_count": 127,
      "outputs": [
        {
          "output_type": "stream",
          "name": "stdout",
          "text": [
            "Cross-Validation RMSE: 33470.17471170908\n",
            "Training RMSE: 32912.97151367163\n",
            "Training R^2 Score: 0.8282384641248024\n"
          ]
        },
        {
          "output_type": "stream",
          "name": "stderr",
          "text": [
            "/usr/local/lib/python3.10/dist-packages/sklearn/metrics/_regression.py:492: FutureWarning: 'squared' is deprecated in version 1.4 and will be removed in 1.6. To calculate the root mean squared error, use the function'root_mean_squared_error'.\n",
            "  warnings.warn(\n"
          ]
        }
      ]
    },
    {
      "cell_type": "code",
      "source": [
        "from sklearn.metrics import mean_squared_error, r2_score\n",
        "\n",
        "# Predict house prices for the test set\n",
        "test_predictions = model.predict(X_test_selected)\n",
        "\n",
        "# Save the predictions to a DataFrame for easy viewing\n",
        "output = pd.DataFrame({'Id': test_data['Id'], 'SalePrice': test_predictions})\n",
        "\n",
        "# Display a preview of the predictions\n",
        "print(output.head())\n",
        "\n",
        "# Save to a CSV file\n",
        "output.to_csv('house_price_predictions.csv', index=False)"
      ],
      "metadata": {
        "colab": {
          "base_uri": "https://localhost:8080/"
        },
        "id": "JYmH8pNTgnY_",
        "outputId": "6493056e-8fc3-4a28-f6b8-4986f0bbc96c"
      },
      "execution_count": 130,
      "outputs": [
        {
          "output_type": "stream",
          "name": "stdout",
          "text": [
            "     Id  SalePrice\n",
            "0  1461  109971.25\n",
            "1  1462  157901.00\n",
            "2  1463  164574.00\n",
            "3  1464  184961.00\n",
            "4  1465  252859.50\n"
          ]
        }
      ]
    },
    {
      "cell_type": "markdown",
      "source": [
        "**I can't figure out how to evaluate the model on the test set since it doesn't  have a sales price. I am out of time and will come back to this on another date. I am sorry I did not finish the assignment.**"
      ],
      "metadata": {
        "id": "uPpzuUHLiTBg"
      }
    },
    {
      "cell_type": "markdown",
      "metadata": {
        "id": "_BbswDvnEX-k"
      },
      "source": [
        "# **Question 4: Using Pre-trained LLMs**"
      ]
    },
    {
      "cell_type": "markdown",
      "metadata": {
        "id": "xKwKTnW1EX-k"
      },
      "source": [
        "(20 points)\n",
        "Utilize a **Pre-trained Language Model (PLM) from the Hugging Face Repository** for predicting sentiment polarities on the data you collected in Assignment 3.\n",
        "\n",
        "Then, choose a relevant LLM from their repository, such as GPT-3, BERT, or RoBERTa or any other related models.\n",
        "1. (5 points) Provide a brief description of the PLM you selected, including its original pretraining data sources,  number of parameters, and any task-specific fine-tuning if applied.\n",
        "2. (10 points) Use the selected PLM to perform the sentiment analysis on the data collected in Assignment 3. Only use the model in the **zero-shot** setting, NO finetuning is required. Evaluate performance of the model by comparing with the groundtruths (labels you annotated) on Accuracy, Precision, Recall, and F1 metrics.\n",
        "3. (5 points) Discuss the advantages and disadvantages of the selected PLM, and any challenges encountered during the implementation. This will enable a comprehensive understanding of the chosen LLM's applicability and effectiveness for the given task.\n"
      ]
    },
    {
      "cell_type": "markdown",
      "source": [
        "## **Part 1:**\n",
        "\n",
        "**Model Chosen:** RoBERTa (Robustly Optimized BERT Pretraining Approach)\n",
        "\n",
        "For this assignment, I chose RoBERTa because it is a robust and widely-used PLM that has been proven to perform well on various NLP tasks, including sentiment analysis.\n",
        "\n",
        "Pretraining Data: RoBERTa was trained on a huge amount of text data, which makes it powerful for understanding and processing natural language. The main datasets it was trained on include:\n",
        "\n",
        "BooksCorpus: A dataset with around 800 million words.\n",
        "English Wikipedia: Contains 2.5 billion words.\n",
        "OpenWebText: About 38GB of web content similar to Reddit discussions.\n",
        "CC-News: A collection of 63 million English news articles.\n",
        "Common Crawl Stories: Another 31GB of text from online stories.\n",
        "Number of Parameters: RoBERTa has different versions depending on the size of the model:\n",
        "\n",
        "RoBERTa-base: 125 million parameters.\n",
        "RoBERTa-large: 355 million parameters. For this task, I'll be using RoBERTa-base because it's computationally efficient and works well for zero-shot tasks like sentiment analysis.\n",
        "Fine-Tuning: RoBERTa isn't fine-tuned for specific tasks during its pretraining phase. However, there are versions available that are fine-tuned for tasks like sentiment analysis. For this assignment, I will use RoBERTa in a zero-shot setting, which means I'll use it directly without training it on my specific dataset."
      ],
      "metadata": {
        "id": "UZGjx-DenCfS"
      }
    },
    {
      "cell_type": "markdown",
      "source": [
        "## **Part 2:**"
      ],
      "metadata": {
        "id": "sP6Qk7dWqIY6"
      }
    },
    {
      "cell_type": "code",
      "execution_count": null,
      "metadata": {
        "id": "BJgHWnOhFm-C",
        "colab": {
          "base_uri": "https://localhost:8080/",
          "height": 333,
          "referenced_widgets": [
            "72cd6acc64c64e829972b0e60ffa4840",
            "d3af733064514c48ac8c2db1cb229219",
            "68391dad389948dd91ded859ae0f1dc9",
            "30f19585e4cc431b9ef1ac365f1d175a",
            "94f36d470fdd44c4a403c8a0e6e0ab93",
            "4c8b980302194766a5e020a7cf990599",
            "214b4f55f2db437e9c57d9d296a73426",
            "789d4190ad154e95b4830c1471256fef",
            "b8c9056cc0b145cf8414d1464af2bf15",
            "15430e56177740c8a9b07e38c8243c39",
            "7bb389ee1f4e46bda7c10eefc75cd0d9",
            "19eb663567374bd5a8833a527319b0ef",
            "95d58217da754aeb933af6eee9fa40d7",
            "aa4f7a7a7b6a429b8f63d160d1d466aa",
            "f28e35734fb342f089dd2298116468bc",
            "1ab54ac3e2db45aea64b00626e86b2dd",
            "a095887abd444a63be2643126ac765c4",
            "5eced03296bc4b0194aa6b185b4e01c2",
            "7405447cbf0f414c827253b751d66002",
            "8ac502735fd646c3bf3ebc55f60194b6",
            "1d3a60cda2e14bfc99c7b60ca8cae23b",
            "69eb87f82a454d9e8c47e3a62992ffc0",
            "0cc561a0d32f40ef9fa3402ae27e0eef",
            "192f0dfcb57f4694bc75208467b3b0de",
            "7ca327c311014d7cad671ad3baf4e120",
            "2b074a6e7e8242069757f2535581ae08",
            "c3d8f0e13c9b4c8eaa8aaca5a6e2820a",
            "674989b85fed40a896e9bfff9a0f03b0",
            "d28cdfadea0a40c4855be8002c5a8626",
            "cd1109e8d0ad4644b58ad8c2e876354a",
            "e15f80d3a9a34001830a3d11f881ed4b",
            "6e62c49340d04e2c81c2862b5659b5a1",
            "80e29aecc4f5442bb2be06627b3695ad",
            "3b28192ad9db470abe064a20f066ee7e",
            "e92a18c35d9146db8dd180aa5fe89415",
            "d3cd3a0d4ac94092b58d1006bb1d39fc",
            "61b6a22245d34574bd76218595c768fa",
            "9fd1f5edae1b423ba2fa86788f706868",
            "e460c5738fde4f6894869b77356d81ea",
            "1a24096691fb497b9072d1c801391bf7",
            "e9090c9c74f74d16a6d0b76fffeb4762",
            "77f25f7b19cb4f54862159e748af0a82",
            "0caaf9b4baad4120bf1e2473b19931d5",
            "0db2139291ef4da1a7c035cf547b93bb",
            "49234515c1cc4d3bab176d718e88e688",
            "0feb8b77de854601a082665db1950e0f",
            "55dc3fc146c44a1190ceeb45e48d2e30",
            "0c7289f8f2114b559bc63cceab160e84",
            "9a008cbed83b45e0b4b3d75f59c9cdf2",
            "33acc3a50e5a46e7888ebbefec699714",
            "1f45ba0fa0e54bd9b3e0e37c47f39f19",
            "4f06e93c123749fc87742fec63a0d619",
            "7ff84d7de86742cf92eaf4c839c959b1",
            "aa49efcfced341f599d124b01717ce4a",
            "74584d7f6e80422a81ef80e5c477c094",
            "e8d1b343231545ce9d6d1312ea10b761",
            "f2eb1d5a088442519d4548931b4cd66e",
            "26054758d0ca41a28380ae6887b427e2",
            "be20893d329440428864b73185d5d640",
            "ad15c33cce324d1a81ddd02c581b0882",
            "b68ccb36360a4c00bd23fb538eb38509",
            "6a01661fa68742c2965ebc4659299bad",
            "6eb6e097459446d0abc3e96738fc1b75",
            "2e2e2dc66bd5439192d0f2480cfadd5c",
            "5260136b59d44fa5a88027e9a4787362",
            "ac9b8fd2129a4bbdb37df6eb81518159"
          ]
        },
        "outputId": "f3b519c4-6d0e-4398-9bda-3e429df128ab"
      },
      "outputs": [
        {
          "output_type": "stream",
          "name": "stderr",
          "text": [
            "/usr/local/lib/python3.10/dist-packages/huggingface_hub/utils/_auth.py:94: UserWarning: \n",
            "The secret `HF_TOKEN` does not exist in your Colab secrets.\n",
            "To authenticate with the Hugging Face Hub, create a token in your settings tab (https://huggingface.co/settings/tokens), set it as secret in your Google Colab and restart your session.\n",
            "You will be able to reuse this secret in all of your notebooks.\n",
            "Please note that authentication is recommended but still optional to access public models or datasets.\n",
            "  warnings.warn(\n"
          ]
        },
        {
          "output_type": "display_data",
          "data": {
            "text/plain": [
              "config.json:   0%|          | 0.00/1.15k [00:00<?, ?B/s]"
            ],
            "application/vnd.jupyter.widget-view+json": {
              "version_major": 2,
              "version_minor": 0,
              "model_id": "72cd6acc64c64e829972b0e60ffa4840"
            }
          },
          "metadata": {}
        },
        {
          "output_type": "display_data",
          "data": {
            "text/plain": [
              "model.safetensors:   0%|          | 0.00/1.63G [00:00<?, ?B/s]"
            ],
            "application/vnd.jupyter.widget-view+json": {
              "version_major": 2,
              "version_minor": 0,
              "model_id": "19eb663567374bd5a8833a527319b0ef"
            }
          },
          "metadata": {}
        },
        {
          "output_type": "display_data",
          "data": {
            "text/plain": [
              "tokenizer_config.json:   0%|          | 0.00/26.0 [00:00<?, ?B/s]"
            ],
            "application/vnd.jupyter.widget-view+json": {
              "version_major": 2,
              "version_minor": 0,
              "model_id": "0cc561a0d32f40ef9fa3402ae27e0eef"
            }
          },
          "metadata": {}
        },
        {
          "output_type": "display_data",
          "data": {
            "text/plain": [
              "vocab.json:   0%|          | 0.00/899k [00:00<?, ?B/s]"
            ],
            "application/vnd.jupyter.widget-view+json": {
              "version_major": 2,
              "version_minor": 0,
              "model_id": "3b28192ad9db470abe064a20f066ee7e"
            }
          },
          "metadata": {}
        },
        {
          "output_type": "display_data",
          "data": {
            "text/plain": [
              "merges.txt:   0%|          | 0.00/456k [00:00<?, ?B/s]"
            ],
            "application/vnd.jupyter.widget-view+json": {
              "version_major": 2,
              "version_minor": 0,
              "model_id": "49234515c1cc4d3bab176d718e88e688"
            }
          },
          "metadata": {}
        },
        {
          "output_type": "display_data",
          "data": {
            "text/plain": [
              "tokenizer.json:   0%|          | 0.00/1.36M [00:00<?, ?B/s]"
            ],
            "application/vnd.jupyter.widget-view+json": {
              "version_major": 2,
              "version_minor": 0,
              "model_id": "e8d1b343231545ce9d6d1312ea10b761"
            }
          },
          "metadata": {}
        }
      ],
      "source": [
        "# Write your code here\n",
        "\n",
        "# Import necessary libraries\n",
        "from transformers import pipeline\n",
        "from sklearn.metrics import accuracy_score, precision_score, recall_score, f1_score\n",
        "import pandas as pd\n",
        "\n",
        "# Load the dataset\n",
        "dataset_path = '/content/gdrive/MyDrive/Colab Notebooks/INFO 5731/Week 11/sentiment_data.csv'\n",
        "data = pd.read_csv(dataset_path)\n",
        "\n",
        "# Prepare the data\n",
        "texts = data['clean_text'].tolist()\n",
        "ground_truths = data['sentiment'].tolist()\n",
        "\n",
        "# Initialize the zero-shot classification pipeline using RoBERTa\n",
        "classifier = pipeline(\"zero-shot-classification\", model=\"facebook/bart-large-mnli\")\n",
        "\n",
        "# Define candidate labels for sentiment\n",
        "candidate_labels = [\"positive\", \"neutral\", \"negative\"]\n",
        "\n",
        "# Perform zero-shot classification\n",
        "predictions = []\n",
        "for text in texts:\n",
        "    result = classifier(text, candidate_labels)\n",
        "    predicted_label = result['labels'][0]  # The top predicted label\n",
        "    predictions.append(predicted_label)\n",
        "\n",
        "# Map predictions and ground truths to numerical values for evaluation\n",
        "label_mapping = {\"positive\": 1, \"neutral\": 0, \"negative\": -1}\n",
        "\n",
        "# Convert labels to numerical values\n",
        "predictions_numeric = [label_mapping[label] for label in predictions]\n",
        "ground_truths_numeric = [label_mapping[label] for label in ground_truths]\n",
        "\n",
        "# Evaluate performance\n",
        "accuracy = accuracy_score(ground_truths_numeric, predictions_numeric)\n",
        "precision = precision_score(ground_truths_numeric, predictions_numeric, average='weighted', zero_division=0)\n",
        "recall = recall_score(ground_truths_numeric, predictions_numeric, average='weighted', zero_division=0)\n",
        "f1 = f1_score(ground_truths_numeric, predictions_numeric, average='weighted', zero_division=0)\n",
        "\n",
        "# Print evaluation metrics\n",
        "print(\"Evaluation Metrics:\")\n",
        "print(f\"Accuracy: {accuracy:.4f}\")\n",
        "print(f\"Precision: {precision:.4f}\")\n",
        "print(f\"Recall: {recall:.4f}\")\n",
        "print(f\"F1 Score: {f1:.4f}\")"
      ]
    },
    {
      "cell_type": "markdown",
      "source": [
        "## **Part 3: Advantages, Disadvantages, and Challenges of Using RoBERTa**\n",
        "\n",
        "RoBERTa offers several advantages for sentiment analysis tasks. Its pretraining on large and diverse datasets enables strong generalization across various NLP tasks, including zero-shot classification. This eliminates the need for additional fine-tuning, saving time and resources while maintaining reasonable performance. Additionally, its integration with Hugging Face's transformers library makes it easy to implement, even for users with minimal experience.\n",
        "\n",
        "However, RoBERTa has its limitations. Its large size and computational intensity can make it challenging to use on large datasets or without access to powerful hardware, such as GPUs. Zero-shot classification, while convenient, often falls short of the accuracy achieved by fine-tuned models, especially on domain-specific datasets. RoBERTa is also sensitive to input formatting, requiring careful preprocessing to achieve consistent results.\n",
        "\n",
        "During implementation, several challenges arose. Running the model on 500+ entries was time-intensive, highlighting its computational demands. I chose to submit the assigment while the code was running.\n",
        "\n",
        "Overall, RoBERTa is a robust choice for zero-shot sentiment analysis when fine-tuning is not an option and time is no concern. While it is computationally demanding and less accurate for domain-specific tasks, it is an excellent tool for exploratory analysis and general sentiment classification."
      ],
      "metadata": {
        "id": "BGafJSDWqOC6"
      }
    }
  ],
  "metadata": {
    "colab": {
      "provenance": [],
      "include_colab_link": true
    },
    "kernelspec": {
      "display_name": "Python 3 (ipykernel)",
      "language": "python",
      "name": "python3"
    },
    "language_info": {
      "codemirror_mode": {
        "name": "ipython",
        "version": 3
      },
      "file_extension": ".py",
      "mimetype": "text/x-python",
      "name": "python",
      "nbconvert_exporter": "python",
      "pygments_lexer": "ipython3",
      "version": "3.9.12"
    },
    "widgets": {
      "application/vnd.jupyter.widget-state+json": {
        "72cd6acc64c64e829972b0e60ffa4840": {
          "model_module": "@jupyter-widgets/controls",
          "model_name": "HBoxModel",
          "model_module_version": "1.5.0",
          "state": {
            "_dom_classes": [],
            "_model_module": "@jupyter-widgets/controls",
            "_model_module_version": "1.5.0",
            "_model_name": "HBoxModel",
            "_view_count": null,
            "_view_module": "@jupyter-widgets/controls",
            "_view_module_version": "1.5.0",
            "_view_name": "HBoxView",
            "box_style": "",
            "children": [
              "IPY_MODEL_d3af733064514c48ac8c2db1cb229219",
              "IPY_MODEL_68391dad389948dd91ded859ae0f1dc9",
              "IPY_MODEL_30f19585e4cc431b9ef1ac365f1d175a"
            ],
            "layout": "IPY_MODEL_94f36d470fdd44c4a403c8a0e6e0ab93"
          }
        },
        "d3af733064514c48ac8c2db1cb229219": {
          "model_module": "@jupyter-widgets/controls",
          "model_name": "HTMLModel",
          "model_module_version": "1.5.0",
          "state": {
            "_dom_classes": [],
            "_model_module": "@jupyter-widgets/controls",
            "_model_module_version": "1.5.0",
            "_model_name": "HTMLModel",
            "_view_count": null,
            "_view_module": "@jupyter-widgets/controls",
            "_view_module_version": "1.5.0",
            "_view_name": "HTMLView",
            "description": "",
            "description_tooltip": null,
            "layout": "IPY_MODEL_4c8b980302194766a5e020a7cf990599",
            "placeholder": "​",
            "style": "IPY_MODEL_214b4f55f2db437e9c57d9d296a73426",
            "value": "config.json: 100%"
          }
        },
        "68391dad389948dd91ded859ae0f1dc9": {
          "model_module": "@jupyter-widgets/controls",
          "model_name": "FloatProgressModel",
          "model_module_version": "1.5.0",
          "state": {
            "_dom_classes": [],
            "_model_module": "@jupyter-widgets/controls",
            "_model_module_version": "1.5.0",
            "_model_name": "FloatProgressModel",
            "_view_count": null,
            "_view_module": "@jupyter-widgets/controls",
            "_view_module_version": "1.5.0",
            "_view_name": "ProgressView",
            "bar_style": "success",
            "description": "",
            "description_tooltip": null,
            "layout": "IPY_MODEL_789d4190ad154e95b4830c1471256fef",
            "max": 1154,
            "min": 0,
            "orientation": "horizontal",
            "style": "IPY_MODEL_b8c9056cc0b145cf8414d1464af2bf15",
            "value": 1154
          }
        },
        "30f19585e4cc431b9ef1ac365f1d175a": {
          "model_module": "@jupyter-widgets/controls",
          "model_name": "HTMLModel",
          "model_module_version": "1.5.0",
          "state": {
            "_dom_classes": [],
            "_model_module": "@jupyter-widgets/controls",
            "_model_module_version": "1.5.0",
            "_model_name": "HTMLModel",
            "_view_count": null,
            "_view_module": "@jupyter-widgets/controls",
            "_view_module_version": "1.5.0",
            "_view_name": "HTMLView",
            "description": "",
            "description_tooltip": null,
            "layout": "IPY_MODEL_15430e56177740c8a9b07e38c8243c39",
            "placeholder": "​",
            "style": "IPY_MODEL_7bb389ee1f4e46bda7c10eefc75cd0d9",
            "value": " 1.15k/1.15k [00:00&lt;00:00, 50.7kB/s]"
          }
        },
        "94f36d470fdd44c4a403c8a0e6e0ab93": {
          "model_module": "@jupyter-widgets/base",
          "model_name": "LayoutModel",
          "model_module_version": "1.2.0",
          "state": {
            "_model_module": "@jupyter-widgets/base",
            "_model_module_version": "1.2.0",
            "_model_name": "LayoutModel",
            "_view_count": null,
            "_view_module": "@jupyter-widgets/base",
            "_view_module_version": "1.2.0",
            "_view_name": "LayoutView",
            "align_content": null,
            "align_items": null,
            "align_self": null,
            "border": null,
            "bottom": null,
            "display": null,
            "flex": null,
            "flex_flow": null,
            "grid_area": null,
            "grid_auto_columns": null,
            "grid_auto_flow": null,
            "grid_auto_rows": null,
            "grid_column": null,
            "grid_gap": null,
            "grid_row": null,
            "grid_template_areas": null,
            "grid_template_columns": null,
            "grid_template_rows": null,
            "height": null,
            "justify_content": null,
            "justify_items": null,
            "left": null,
            "margin": null,
            "max_height": null,
            "max_width": null,
            "min_height": null,
            "min_width": null,
            "object_fit": null,
            "object_position": null,
            "order": null,
            "overflow": null,
            "overflow_x": null,
            "overflow_y": null,
            "padding": null,
            "right": null,
            "top": null,
            "visibility": null,
            "width": null
          }
        },
        "4c8b980302194766a5e020a7cf990599": {
          "model_module": "@jupyter-widgets/base",
          "model_name": "LayoutModel",
          "model_module_version": "1.2.0",
          "state": {
            "_model_module": "@jupyter-widgets/base",
            "_model_module_version": "1.2.0",
            "_model_name": "LayoutModel",
            "_view_count": null,
            "_view_module": "@jupyter-widgets/base",
            "_view_module_version": "1.2.0",
            "_view_name": "LayoutView",
            "align_content": null,
            "align_items": null,
            "align_self": null,
            "border": null,
            "bottom": null,
            "display": null,
            "flex": null,
            "flex_flow": null,
            "grid_area": null,
            "grid_auto_columns": null,
            "grid_auto_flow": null,
            "grid_auto_rows": null,
            "grid_column": null,
            "grid_gap": null,
            "grid_row": null,
            "grid_template_areas": null,
            "grid_template_columns": null,
            "grid_template_rows": null,
            "height": null,
            "justify_content": null,
            "justify_items": null,
            "left": null,
            "margin": null,
            "max_height": null,
            "max_width": null,
            "min_height": null,
            "min_width": null,
            "object_fit": null,
            "object_position": null,
            "order": null,
            "overflow": null,
            "overflow_x": null,
            "overflow_y": null,
            "padding": null,
            "right": null,
            "top": null,
            "visibility": null,
            "width": null
          }
        },
        "214b4f55f2db437e9c57d9d296a73426": {
          "model_module": "@jupyter-widgets/controls",
          "model_name": "DescriptionStyleModel",
          "model_module_version": "1.5.0",
          "state": {
            "_model_module": "@jupyter-widgets/controls",
            "_model_module_version": "1.5.0",
            "_model_name": "DescriptionStyleModel",
            "_view_count": null,
            "_view_module": "@jupyter-widgets/base",
            "_view_module_version": "1.2.0",
            "_view_name": "StyleView",
            "description_width": ""
          }
        },
        "789d4190ad154e95b4830c1471256fef": {
          "model_module": "@jupyter-widgets/base",
          "model_name": "LayoutModel",
          "model_module_version": "1.2.0",
          "state": {
            "_model_module": "@jupyter-widgets/base",
            "_model_module_version": "1.2.0",
            "_model_name": "LayoutModel",
            "_view_count": null,
            "_view_module": "@jupyter-widgets/base",
            "_view_module_version": "1.2.0",
            "_view_name": "LayoutView",
            "align_content": null,
            "align_items": null,
            "align_self": null,
            "border": null,
            "bottom": null,
            "display": null,
            "flex": null,
            "flex_flow": null,
            "grid_area": null,
            "grid_auto_columns": null,
            "grid_auto_flow": null,
            "grid_auto_rows": null,
            "grid_column": null,
            "grid_gap": null,
            "grid_row": null,
            "grid_template_areas": null,
            "grid_template_columns": null,
            "grid_template_rows": null,
            "height": null,
            "justify_content": null,
            "justify_items": null,
            "left": null,
            "margin": null,
            "max_height": null,
            "max_width": null,
            "min_height": null,
            "min_width": null,
            "object_fit": null,
            "object_position": null,
            "order": null,
            "overflow": null,
            "overflow_x": null,
            "overflow_y": null,
            "padding": null,
            "right": null,
            "top": null,
            "visibility": null,
            "width": null
          }
        },
        "b8c9056cc0b145cf8414d1464af2bf15": {
          "model_module": "@jupyter-widgets/controls",
          "model_name": "ProgressStyleModel",
          "model_module_version": "1.5.0",
          "state": {
            "_model_module": "@jupyter-widgets/controls",
            "_model_module_version": "1.5.0",
            "_model_name": "ProgressStyleModel",
            "_view_count": null,
            "_view_module": "@jupyter-widgets/base",
            "_view_module_version": "1.2.0",
            "_view_name": "StyleView",
            "bar_color": null,
            "description_width": ""
          }
        },
        "15430e56177740c8a9b07e38c8243c39": {
          "model_module": "@jupyter-widgets/base",
          "model_name": "LayoutModel",
          "model_module_version": "1.2.0",
          "state": {
            "_model_module": "@jupyter-widgets/base",
            "_model_module_version": "1.2.0",
            "_model_name": "LayoutModel",
            "_view_count": null,
            "_view_module": "@jupyter-widgets/base",
            "_view_module_version": "1.2.0",
            "_view_name": "LayoutView",
            "align_content": null,
            "align_items": null,
            "align_self": null,
            "border": null,
            "bottom": null,
            "display": null,
            "flex": null,
            "flex_flow": null,
            "grid_area": null,
            "grid_auto_columns": null,
            "grid_auto_flow": null,
            "grid_auto_rows": null,
            "grid_column": null,
            "grid_gap": null,
            "grid_row": null,
            "grid_template_areas": null,
            "grid_template_columns": null,
            "grid_template_rows": null,
            "height": null,
            "justify_content": null,
            "justify_items": null,
            "left": null,
            "margin": null,
            "max_height": null,
            "max_width": null,
            "min_height": null,
            "min_width": null,
            "object_fit": null,
            "object_position": null,
            "order": null,
            "overflow": null,
            "overflow_x": null,
            "overflow_y": null,
            "padding": null,
            "right": null,
            "top": null,
            "visibility": null,
            "width": null
          }
        },
        "7bb389ee1f4e46bda7c10eefc75cd0d9": {
          "model_module": "@jupyter-widgets/controls",
          "model_name": "DescriptionStyleModel",
          "model_module_version": "1.5.0",
          "state": {
            "_model_module": "@jupyter-widgets/controls",
            "_model_module_version": "1.5.0",
            "_model_name": "DescriptionStyleModel",
            "_view_count": null,
            "_view_module": "@jupyter-widgets/base",
            "_view_module_version": "1.2.0",
            "_view_name": "StyleView",
            "description_width": ""
          }
        },
        "19eb663567374bd5a8833a527319b0ef": {
          "model_module": "@jupyter-widgets/controls",
          "model_name": "HBoxModel",
          "model_module_version": "1.5.0",
          "state": {
            "_dom_classes": [],
            "_model_module": "@jupyter-widgets/controls",
            "_model_module_version": "1.5.0",
            "_model_name": "HBoxModel",
            "_view_count": null,
            "_view_module": "@jupyter-widgets/controls",
            "_view_module_version": "1.5.0",
            "_view_name": "HBoxView",
            "box_style": "",
            "children": [
              "IPY_MODEL_95d58217da754aeb933af6eee9fa40d7",
              "IPY_MODEL_aa4f7a7a7b6a429b8f63d160d1d466aa",
              "IPY_MODEL_f28e35734fb342f089dd2298116468bc"
            ],
            "layout": "IPY_MODEL_1ab54ac3e2db45aea64b00626e86b2dd"
          }
        },
        "95d58217da754aeb933af6eee9fa40d7": {
          "model_module": "@jupyter-widgets/controls",
          "model_name": "HTMLModel",
          "model_module_version": "1.5.0",
          "state": {
            "_dom_classes": [],
            "_model_module": "@jupyter-widgets/controls",
            "_model_module_version": "1.5.0",
            "_model_name": "HTMLModel",
            "_view_count": null,
            "_view_module": "@jupyter-widgets/controls",
            "_view_module_version": "1.5.0",
            "_view_name": "HTMLView",
            "description": "",
            "description_tooltip": null,
            "layout": "IPY_MODEL_a095887abd444a63be2643126ac765c4",
            "placeholder": "​",
            "style": "IPY_MODEL_5eced03296bc4b0194aa6b185b4e01c2",
            "value": "model.safetensors: 100%"
          }
        },
        "aa4f7a7a7b6a429b8f63d160d1d466aa": {
          "model_module": "@jupyter-widgets/controls",
          "model_name": "FloatProgressModel",
          "model_module_version": "1.5.0",
          "state": {
            "_dom_classes": [],
            "_model_module": "@jupyter-widgets/controls",
            "_model_module_version": "1.5.0",
            "_model_name": "FloatProgressModel",
            "_view_count": null,
            "_view_module": "@jupyter-widgets/controls",
            "_view_module_version": "1.5.0",
            "_view_name": "ProgressView",
            "bar_style": "success",
            "description": "",
            "description_tooltip": null,
            "layout": "IPY_MODEL_7405447cbf0f414c827253b751d66002",
            "max": 1629437147,
            "min": 0,
            "orientation": "horizontal",
            "style": "IPY_MODEL_8ac502735fd646c3bf3ebc55f60194b6",
            "value": 1629437147
          }
        },
        "f28e35734fb342f089dd2298116468bc": {
          "model_module": "@jupyter-widgets/controls",
          "model_name": "HTMLModel",
          "model_module_version": "1.5.0",
          "state": {
            "_dom_classes": [],
            "_model_module": "@jupyter-widgets/controls",
            "_model_module_version": "1.5.0",
            "_model_name": "HTMLModel",
            "_view_count": null,
            "_view_module": "@jupyter-widgets/controls",
            "_view_module_version": "1.5.0",
            "_view_name": "HTMLView",
            "description": "",
            "description_tooltip": null,
            "layout": "IPY_MODEL_1d3a60cda2e14bfc99c7b60ca8cae23b",
            "placeholder": "​",
            "style": "IPY_MODEL_69eb87f82a454d9e8c47e3a62992ffc0",
            "value": " 1.63G/1.63G [00:16&lt;00:00, 135MB/s]"
          }
        },
        "1ab54ac3e2db45aea64b00626e86b2dd": {
          "model_module": "@jupyter-widgets/base",
          "model_name": "LayoutModel",
          "model_module_version": "1.2.0",
          "state": {
            "_model_module": "@jupyter-widgets/base",
            "_model_module_version": "1.2.0",
            "_model_name": "LayoutModel",
            "_view_count": null,
            "_view_module": "@jupyter-widgets/base",
            "_view_module_version": "1.2.0",
            "_view_name": "LayoutView",
            "align_content": null,
            "align_items": null,
            "align_self": null,
            "border": null,
            "bottom": null,
            "display": null,
            "flex": null,
            "flex_flow": null,
            "grid_area": null,
            "grid_auto_columns": null,
            "grid_auto_flow": null,
            "grid_auto_rows": null,
            "grid_column": null,
            "grid_gap": null,
            "grid_row": null,
            "grid_template_areas": null,
            "grid_template_columns": null,
            "grid_template_rows": null,
            "height": null,
            "justify_content": null,
            "justify_items": null,
            "left": null,
            "margin": null,
            "max_height": null,
            "max_width": null,
            "min_height": null,
            "min_width": null,
            "object_fit": null,
            "object_position": null,
            "order": null,
            "overflow": null,
            "overflow_x": null,
            "overflow_y": null,
            "padding": null,
            "right": null,
            "top": null,
            "visibility": null,
            "width": null
          }
        },
        "a095887abd444a63be2643126ac765c4": {
          "model_module": "@jupyter-widgets/base",
          "model_name": "LayoutModel",
          "model_module_version": "1.2.0",
          "state": {
            "_model_module": "@jupyter-widgets/base",
            "_model_module_version": "1.2.0",
            "_model_name": "LayoutModel",
            "_view_count": null,
            "_view_module": "@jupyter-widgets/base",
            "_view_module_version": "1.2.0",
            "_view_name": "LayoutView",
            "align_content": null,
            "align_items": null,
            "align_self": null,
            "border": null,
            "bottom": null,
            "display": null,
            "flex": null,
            "flex_flow": null,
            "grid_area": null,
            "grid_auto_columns": null,
            "grid_auto_flow": null,
            "grid_auto_rows": null,
            "grid_column": null,
            "grid_gap": null,
            "grid_row": null,
            "grid_template_areas": null,
            "grid_template_columns": null,
            "grid_template_rows": null,
            "height": null,
            "justify_content": null,
            "justify_items": null,
            "left": null,
            "margin": null,
            "max_height": null,
            "max_width": null,
            "min_height": null,
            "min_width": null,
            "object_fit": null,
            "object_position": null,
            "order": null,
            "overflow": null,
            "overflow_x": null,
            "overflow_y": null,
            "padding": null,
            "right": null,
            "top": null,
            "visibility": null,
            "width": null
          }
        },
        "5eced03296bc4b0194aa6b185b4e01c2": {
          "model_module": "@jupyter-widgets/controls",
          "model_name": "DescriptionStyleModel",
          "model_module_version": "1.5.0",
          "state": {
            "_model_module": "@jupyter-widgets/controls",
            "_model_module_version": "1.5.0",
            "_model_name": "DescriptionStyleModel",
            "_view_count": null,
            "_view_module": "@jupyter-widgets/base",
            "_view_module_version": "1.2.0",
            "_view_name": "StyleView",
            "description_width": ""
          }
        },
        "7405447cbf0f414c827253b751d66002": {
          "model_module": "@jupyter-widgets/base",
          "model_name": "LayoutModel",
          "model_module_version": "1.2.0",
          "state": {
            "_model_module": "@jupyter-widgets/base",
            "_model_module_version": "1.2.0",
            "_model_name": "LayoutModel",
            "_view_count": null,
            "_view_module": "@jupyter-widgets/base",
            "_view_module_version": "1.2.0",
            "_view_name": "LayoutView",
            "align_content": null,
            "align_items": null,
            "align_self": null,
            "border": null,
            "bottom": null,
            "display": null,
            "flex": null,
            "flex_flow": null,
            "grid_area": null,
            "grid_auto_columns": null,
            "grid_auto_flow": null,
            "grid_auto_rows": null,
            "grid_column": null,
            "grid_gap": null,
            "grid_row": null,
            "grid_template_areas": null,
            "grid_template_columns": null,
            "grid_template_rows": null,
            "height": null,
            "justify_content": null,
            "justify_items": null,
            "left": null,
            "margin": null,
            "max_height": null,
            "max_width": null,
            "min_height": null,
            "min_width": null,
            "object_fit": null,
            "object_position": null,
            "order": null,
            "overflow": null,
            "overflow_x": null,
            "overflow_y": null,
            "padding": null,
            "right": null,
            "top": null,
            "visibility": null,
            "width": null
          }
        },
        "8ac502735fd646c3bf3ebc55f60194b6": {
          "model_module": "@jupyter-widgets/controls",
          "model_name": "ProgressStyleModel",
          "model_module_version": "1.5.0",
          "state": {
            "_model_module": "@jupyter-widgets/controls",
            "_model_module_version": "1.5.0",
            "_model_name": "ProgressStyleModel",
            "_view_count": null,
            "_view_module": "@jupyter-widgets/base",
            "_view_module_version": "1.2.0",
            "_view_name": "StyleView",
            "bar_color": null,
            "description_width": ""
          }
        },
        "1d3a60cda2e14bfc99c7b60ca8cae23b": {
          "model_module": "@jupyter-widgets/base",
          "model_name": "LayoutModel",
          "model_module_version": "1.2.0",
          "state": {
            "_model_module": "@jupyter-widgets/base",
            "_model_module_version": "1.2.0",
            "_model_name": "LayoutModel",
            "_view_count": null,
            "_view_module": "@jupyter-widgets/base",
            "_view_module_version": "1.2.0",
            "_view_name": "LayoutView",
            "align_content": null,
            "align_items": null,
            "align_self": null,
            "border": null,
            "bottom": null,
            "display": null,
            "flex": null,
            "flex_flow": null,
            "grid_area": null,
            "grid_auto_columns": null,
            "grid_auto_flow": null,
            "grid_auto_rows": null,
            "grid_column": null,
            "grid_gap": null,
            "grid_row": null,
            "grid_template_areas": null,
            "grid_template_columns": null,
            "grid_template_rows": null,
            "height": null,
            "justify_content": null,
            "justify_items": null,
            "left": null,
            "margin": null,
            "max_height": null,
            "max_width": null,
            "min_height": null,
            "min_width": null,
            "object_fit": null,
            "object_position": null,
            "order": null,
            "overflow": null,
            "overflow_x": null,
            "overflow_y": null,
            "padding": null,
            "right": null,
            "top": null,
            "visibility": null,
            "width": null
          }
        },
        "69eb87f82a454d9e8c47e3a62992ffc0": {
          "model_module": "@jupyter-widgets/controls",
          "model_name": "DescriptionStyleModel",
          "model_module_version": "1.5.0",
          "state": {
            "_model_module": "@jupyter-widgets/controls",
            "_model_module_version": "1.5.0",
            "_model_name": "DescriptionStyleModel",
            "_view_count": null,
            "_view_module": "@jupyter-widgets/base",
            "_view_module_version": "1.2.0",
            "_view_name": "StyleView",
            "description_width": ""
          }
        },
        "0cc561a0d32f40ef9fa3402ae27e0eef": {
          "model_module": "@jupyter-widgets/controls",
          "model_name": "HBoxModel",
          "model_module_version": "1.5.0",
          "state": {
            "_dom_classes": [],
            "_model_module": "@jupyter-widgets/controls",
            "_model_module_version": "1.5.0",
            "_model_name": "HBoxModel",
            "_view_count": null,
            "_view_module": "@jupyter-widgets/controls",
            "_view_module_version": "1.5.0",
            "_view_name": "HBoxView",
            "box_style": "",
            "children": [
              "IPY_MODEL_192f0dfcb57f4694bc75208467b3b0de",
              "IPY_MODEL_7ca327c311014d7cad671ad3baf4e120",
              "IPY_MODEL_2b074a6e7e8242069757f2535581ae08"
            ],
            "layout": "IPY_MODEL_c3d8f0e13c9b4c8eaa8aaca5a6e2820a"
          }
        },
        "192f0dfcb57f4694bc75208467b3b0de": {
          "model_module": "@jupyter-widgets/controls",
          "model_name": "HTMLModel",
          "model_module_version": "1.5.0",
          "state": {
            "_dom_classes": [],
            "_model_module": "@jupyter-widgets/controls",
            "_model_module_version": "1.5.0",
            "_model_name": "HTMLModel",
            "_view_count": null,
            "_view_module": "@jupyter-widgets/controls",
            "_view_module_version": "1.5.0",
            "_view_name": "HTMLView",
            "description": "",
            "description_tooltip": null,
            "layout": "IPY_MODEL_674989b85fed40a896e9bfff9a0f03b0",
            "placeholder": "​",
            "style": "IPY_MODEL_d28cdfadea0a40c4855be8002c5a8626",
            "value": "tokenizer_config.json: 100%"
          }
        },
        "7ca327c311014d7cad671ad3baf4e120": {
          "model_module": "@jupyter-widgets/controls",
          "model_name": "FloatProgressModel",
          "model_module_version": "1.5.0",
          "state": {
            "_dom_classes": [],
            "_model_module": "@jupyter-widgets/controls",
            "_model_module_version": "1.5.0",
            "_model_name": "FloatProgressModel",
            "_view_count": null,
            "_view_module": "@jupyter-widgets/controls",
            "_view_module_version": "1.5.0",
            "_view_name": "ProgressView",
            "bar_style": "success",
            "description": "",
            "description_tooltip": null,
            "layout": "IPY_MODEL_cd1109e8d0ad4644b58ad8c2e876354a",
            "max": 26,
            "min": 0,
            "orientation": "horizontal",
            "style": "IPY_MODEL_e15f80d3a9a34001830a3d11f881ed4b",
            "value": 26
          }
        },
        "2b074a6e7e8242069757f2535581ae08": {
          "model_module": "@jupyter-widgets/controls",
          "model_name": "HTMLModel",
          "model_module_version": "1.5.0",
          "state": {
            "_dom_classes": [],
            "_model_module": "@jupyter-widgets/controls",
            "_model_module_version": "1.5.0",
            "_model_name": "HTMLModel",
            "_view_count": null,
            "_view_module": "@jupyter-widgets/controls",
            "_view_module_version": "1.5.0",
            "_view_name": "HTMLView",
            "description": "",
            "description_tooltip": null,
            "layout": "IPY_MODEL_6e62c49340d04e2c81c2862b5659b5a1",
            "placeholder": "​",
            "style": "IPY_MODEL_80e29aecc4f5442bb2be06627b3695ad",
            "value": " 26.0/26.0 [00:00&lt;00:00, 1.30kB/s]"
          }
        },
        "c3d8f0e13c9b4c8eaa8aaca5a6e2820a": {
          "model_module": "@jupyter-widgets/base",
          "model_name": "LayoutModel",
          "model_module_version": "1.2.0",
          "state": {
            "_model_module": "@jupyter-widgets/base",
            "_model_module_version": "1.2.0",
            "_model_name": "LayoutModel",
            "_view_count": null,
            "_view_module": "@jupyter-widgets/base",
            "_view_module_version": "1.2.0",
            "_view_name": "LayoutView",
            "align_content": null,
            "align_items": null,
            "align_self": null,
            "border": null,
            "bottom": null,
            "display": null,
            "flex": null,
            "flex_flow": null,
            "grid_area": null,
            "grid_auto_columns": null,
            "grid_auto_flow": null,
            "grid_auto_rows": null,
            "grid_column": null,
            "grid_gap": null,
            "grid_row": null,
            "grid_template_areas": null,
            "grid_template_columns": null,
            "grid_template_rows": null,
            "height": null,
            "justify_content": null,
            "justify_items": null,
            "left": null,
            "margin": null,
            "max_height": null,
            "max_width": null,
            "min_height": null,
            "min_width": null,
            "object_fit": null,
            "object_position": null,
            "order": null,
            "overflow": null,
            "overflow_x": null,
            "overflow_y": null,
            "padding": null,
            "right": null,
            "top": null,
            "visibility": null,
            "width": null
          }
        },
        "674989b85fed40a896e9bfff9a0f03b0": {
          "model_module": "@jupyter-widgets/base",
          "model_name": "LayoutModel",
          "model_module_version": "1.2.0",
          "state": {
            "_model_module": "@jupyter-widgets/base",
            "_model_module_version": "1.2.0",
            "_model_name": "LayoutModel",
            "_view_count": null,
            "_view_module": "@jupyter-widgets/base",
            "_view_module_version": "1.2.0",
            "_view_name": "LayoutView",
            "align_content": null,
            "align_items": null,
            "align_self": null,
            "border": null,
            "bottom": null,
            "display": null,
            "flex": null,
            "flex_flow": null,
            "grid_area": null,
            "grid_auto_columns": null,
            "grid_auto_flow": null,
            "grid_auto_rows": null,
            "grid_column": null,
            "grid_gap": null,
            "grid_row": null,
            "grid_template_areas": null,
            "grid_template_columns": null,
            "grid_template_rows": null,
            "height": null,
            "justify_content": null,
            "justify_items": null,
            "left": null,
            "margin": null,
            "max_height": null,
            "max_width": null,
            "min_height": null,
            "min_width": null,
            "object_fit": null,
            "object_position": null,
            "order": null,
            "overflow": null,
            "overflow_x": null,
            "overflow_y": null,
            "padding": null,
            "right": null,
            "top": null,
            "visibility": null,
            "width": null
          }
        },
        "d28cdfadea0a40c4855be8002c5a8626": {
          "model_module": "@jupyter-widgets/controls",
          "model_name": "DescriptionStyleModel",
          "model_module_version": "1.5.0",
          "state": {
            "_model_module": "@jupyter-widgets/controls",
            "_model_module_version": "1.5.0",
            "_model_name": "DescriptionStyleModel",
            "_view_count": null,
            "_view_module": "@jupyter-widgets/base",
            "_view_module_version": "1.2.0",
            "_view_name": "StyleView",
            "description_width": ""
          }
        },
        "cd1109e8d0ad4644b58ad8c2e876354a": {
          "model_module": "@jupyter-widgets/base",
          "model_name": "LayoutModel",
          "model_module_version": "1.2.0",
          "state": {
            "_model_module": "@jupyter-widgets/base",
            "_model_module_version": "1.2.0",
            "_model_name": "LayoutModel",
            "_view_count": null,
            "_view_module": "@jupyter-widgets/base",
            "_view_module_version": "1.2.0",
            "_view_name": "LayoutView",
            "align_content": null,
            "align_items": null,
            "align_self": null,
            "border": null,
            "bottom": null,
            "display": null,
            "flex": null,
            "flex_flow": null,
            "grid_area": null,
            "grid_auto_columns": null,
            "grid_auto_flow": null,
            "grid_auto_rows": null,
            "grid_column": null,
            "grid_gap": null,
            "grid_row": null,
            "grid_template_areas": null,
            "grid_template_columns": null,
            "grid_template_rows": null,
            "height": null,
            "justify_content": null,
            "justify_items": null,
            "left": null,
            "margin": null,
            "max_height": null,
            "max_width": null,
            "min_height": null,
            "min_width": null,
            "object_fit": null,
            "object_position": null,
            "order": null,
            "overflow": null,
            "overflow_x": null,
            "overflow_y": null,
            "padding": null,
            "right": null,
            "top": null,
            "visibility": null,
            "width": null
          }
        },
        "e15f80d3a9a34001830a3d11f881ed4b": {
          "model_module": "@jupyter-widgets/controls",
          "model_name": "ProgressStyleModel",
          "model_module_version": "1.5.0",
          "state": {
            "_model_module": "@jupyter-widgets/controls",
            "_model_module_version": "1.5.0",
            "_model_name": "ProgressStyleModel",
            "_view_count": null,
            "_view_module": "@jupyter-widgets/base",
            "_view_module_version": "1.2.0",
            "_view_name": "StyleView",
            "bar_color": null,
            "description_width": ""
          }
        },
        "6e62c49340d04e2c81c2862b5659b5a1": {
          "model_module": "@jupyter-widgets/base",
          "model_name": "LayoutModel",
          "model_module_version": "1.2.0",
          "state": {
            "_model_module": "@jupyter-widgets/base",
            "_model_module_version": "1.2.0",
            "_model_name": "LayoutModel",
            "_view_count": null,
            "_view_module": "@jupyter-widgets/base",
            "_view_module_version": "1.2.0",
            "_view_name": "LayoutView",
            "align_content": null,
            "align_items": null,
            "align_self": null,
            "border": null,
            "bottom": null,
            "display": null,
            "flex": null,
            "flex_flow": null,
            "grid_area": null,
            "grid_auto_columns": null,
            "grid_auto_flow": null,
            "grid_auto_rows": null,
            "grid_column": null,
            "grid_gap": null,
            "grid_row": null,
            "grid_template_areas": null,
            "grid_template_columns": null,
            "grid_template_rows": null,
            "height": null,
            "justify_content": null,
            "justify_items": null,
            "left": null,
            "margin": null,
            "max_height": null,
            "max_width": null,
            "min_height": null,
            "min_width": null,
            "object_fit": null,
            "object_position": null,
            "order": null,
            "overflow": null,
            "overflow_x": null,
            "overflow_y": null,
            "padding": null,
            "right": null,
            "top": null,
            "visibility": null,
            "width": null
          }
        },
        "80e29aecc4f5442bb2be06627b3695ad": {
          "model_module": "@jupyter-widgets/controls",
          "model_name": "DescriptionStyleModel",
          "model_module_version": "1.5.0",
          "state": {
            "_model_module": "@jupyter-widgets/controls",
            "_model_module_version": "1.5.0",
            "_model_name": "DescriptionStyleModel",
            "_view_count": null,
            "_view_module": "@jupyter-widgets/base",
            "_view_module_version": "1.2.0",
            "_view_name": "StyleView",
            "description_width": ""
          }
        },
        "3b28192ad9db470abe064a20f066ee7e": {
          "model_module": "@jupyter-widgets/controls",
          "model_name": "HBoxModel",
          "model_module_version": "1.5.0",
          "state": {
            "_dom_classes": [],
            "_model_module": "@jupyter-widgets/controls",
            "_model_module_version": "1.5.0",
            "_model_name": "HBoxModel",
            "_view_count": null,
            "_view_module": "@jupyter-widgets/controls",
            "_view_module_version": "1.5.0",
            "_view_name": "HBoxView",
            "box_style": "",
            "children": [
              "IPY_MODEL_e92a18c35d9146db8dd180aa5fe89415",
              "IPY_MODEL_d3cd3a0d4ac94092b58d1006bb1d39fc",
              "IPY_MODEL_61b6a22245d34574bd76218595c768fa"
            ],
            "layout": "IPY_MODEL_9fd1f5edae1b423ba2fa86788f706868"
          }
        },
        "e92a18c35d9146db8dd180aa5fe89415": {
          "model_module": "@jupyter-widgets/controls",
          "model_name": "HTMLModel",
          "model_module_version": "1.5.0",
          "state": {
            "_dom_classes": [],
            "_model_module": "@jupyter-widgets/controls",
            "_model_module_version": "1.5.0",
            "_model_name": "HTMLModel",
            "_view_count": null,
            "_view_module": "@jupyter-widgets/controls",
            "_view_module_version": "1.5.0",
            "_view_name": "HTMLView",
            "description": "",
            "description_tooltip": null,
            "layout": "IPY_MODEL_e460c5738fde4f6894869b77356d81ea",
            "placeholder": "​",
            "style": "IPY_MODEL_1a24096691fb497b9072d1c801391bf7",
            "value": "vocab.json: 100%"
          }
        },
        "d3cd3a0d4ac94092b58d1006bb1d39fc": {
          "model_module": "@jupyter-widgets/controls",
          "model_name": "FloatProgressModel",
          "model_module_version": "1.5.0",
          "state": {
            "_dom_classes": [],
            "_model_module": "@jupyter-widgets/controls",
            "_model_module_version": "1.5.0",
            "_model_name": "FloatProgressModel",
            "_view_count": null,
            "_view_module": "@jupyter-widgets/controls",
            "_view_module_version": "1.5.0",
            "_view_name": "ProgressView",
            "bar_style": "success",
            "description": "",
            "description_tooltip": null,
            "layout": "IPY_MODEL_e9090c9c74f74d16a6d0b76fffeb4762",
            "max": 898822,
            "min": 0,
            "orientation": "horizontal",
            "style": "IPY_MODEL_77f25f7b19cb4f54862159e748af0a82",
            "value": 898822
          }
        },
        "61b6a22245d34574bd76218595c768fa": {
          "model_module": "@jupyter-widgets/controls",
          "model_name": "HTMLModel",
          "model_module_version": "1.5.0",
          "state": {
            "_dom_classes": [],
            "_model_module": "@jupyter-widgets/controls",
            "_model_module_version": "1.5.0",
            "_model_name": "HTMLModel",
            "_view_count": null,
            "_view_module": "@jupyter-widgets/controls",
            "_view_module_version": "1.5.0",
            "_view_name": "HTMLView",
            "description": "",
            "description_tooltip": null,
            "layout": "IPY_MODEL_0caaf9b4baad4120bf1e2473b19931d5",
            "placeholder": "​",
            "style": "IPY_MODEL_0db2139291ef4da1a7c035cf547b93bb",
            "value": " 899k/899k [00:00&lt;00:00, 6.82MB/s]"
          }
        },
        "9fd1f5edae1b423ba2fa86788f706868": {
          "model_module": "@jupyter-widgets/base",
          "model_name": "LayoutModel",
          "model_module_version": "1.2.0",
          "state": {
            "_model_module": "@jupyter-widgets/base",
            "_model_module_version": "1.2.0",
            "_model_name": "LayoutModel",
            "_view_count": null,
            "_view_module": "@jupyter-widgets/base",
            "_view_module_version": "1.2.0",
            "_view_name": "LayoutView",
            "align_content": null,
            "align_items": null,
            "align_self": null,
            "border": null,
            "bottom": null,
            "display": null,
            "flex": null,
            "flex_flow": null,
            "grid_area": null,
            "grid_auto_columns": null,
            "grid_auto_flow": null,
            "grid_auto_rows": null,
            "grid_column": null,
            "grid_gap": null,
            "grid_row": null,
            "grid_template_areas": null,
            "grid_template_columns": null,
            "grid_template_rows": null,
            "height": null,
            "justify_content": null,
            "justify_items": null,
            "left": null,
            "margin": null,
            "max_height": null,
            "max_width": null,
            "min_height": null,
            "min_width": null,
            "object_fit": null,
            "object_position": null,
            "order": null,
            "overflow": null,
            "overflow_x": null,
            "overflow_y": null,
            "padding": null,
            "right": null,
            "top": null,
            "visibility": null,
            "width": null
          }
        },
        "e460c5738fde4f6894869b77356d81ea": {
          "model_module": "@jupyter-widgets/base",
          "model_name": "LayoutModel",
          "model_module_version": "1.2.0",
          "state": {
            "_model_module": "@jupyter-widgets/base",
            "_model_module_version": "1.2.0",
            "_model_name": "LayoutModel",
            "_view_count": null,
            "_view_module": "@jupyter-widgets/base",
            "_view_module_version": "1.2.0",
            "_view_name": "LayoutView",
            "align_content": null,
            "align_items": null,
            "align_self": null,
            "border": null,
            "bottom": null,
            "display": null,
            "flex": null,
            "flex_flow": null,
            "grid_area": null,
            "grid_auto_columns": null,
            "grid_auto_flow": null,
            "grid_auto_rows": null,
            "grid_column": null,
            "grid_gap": null,
            "grid_row": null,
            "grid_template_areas": null,
            "grid_template_columns": null,
            "grid_template_rows": null,
            "height": null,
            "justify_content": null,
            "justify_items": null,
            "left": null,
            "margin": null,
            "max_height": null,
            "max_width": null,
            "min_height": null,
            "min_width": null,
            "object_fit": null,
            "object_position": null,
            "order": null,
            "overflow": null,
            "overflow_x": null,
            "overflow_y": null,
            "padding": null,
            "right": null,
            "top": null,
            "visibility": null,
            "width": null
          }
        },
        "1a24096691fb497b9072d1c801391bf7": {
          "model_module": "@jupyter-widgets/controls",
          "model_name": "DescriptionStyleModel",
          "model_module_version": "1.5.0",
          "state": {
            "_model_module": "@jupyter-widgets/controls",
            "_model_module_version": "1.5.0",
            "_model_name": "DescriptionStyleModel",
            "_view_count": null,
            "_view_module": "@jupyter-widgets/base",
            "_view_module_version": "1.2.0",
            "_view_name": "StyleView",
            "description_width": ""
          }
        },
        "e9090c9c74f74d16a6d0b76fffeb4762": {
          "model_module": "@jupyter-widgets/base",
          "model_name": "LayoutModel",
          "model_module_version": "1.2.0",
          "state": {
            "_model_module": "@jupyter-widgets/base",
            "_model_module_version": "1.2.0",
            "_model_name": "LayoutModel",
            "_view_count": null,
            "_view_module": "@jupyter-widgets/base",
            "_view_module_version": "1.2.0",
            "_view_name": "LayoutView",
            "align_content": null,
            "align_items": null,
            "align_self": null,
            "border": null,
            "bottom": null,
            "display": null,
            "flex": null,
            "flex_flow": null,
            "grid_area": null,
            "grid_auto_columns": null,
            "grid_auto_flow": null,
            "grid_auto_rows": null,
            "grid_column": null,
            "grid_gap": null,
            "grid_row": null,
            "grid_template_areas": null,
            "grid_template_columns": null,
            "grid_template_rows": null,
            "height": null,
            "justify_content": null,
            "justify_items": null,
            "left": null,
            "margin": null,
            "max_height": null,
            "max_width": null,
            "min_height": null,
            "min_width": null,
            "object_fit": null,
            "object_position": null,
            "order": null,
            "overflow": null,
            "overflow_x": null,
            "overflow_y": null,
            "padding": null,
            "right": null,
            "top": null,
            "visibility": null,
            "width": null
          }
        },
        "77f25f7b19cb4f54862159e748af0a82": {
          "model_module": "@jupyter-widgets/controls",
          "model_name": "ProgressStyleModel",
          "model_module_version": "1.5.0",
          "state": {
            "_model_module": "@jupyter-widgets/controls",
            "_model_module_version": "1.5.0",
            "_model_name": "ProgressStyleModel",
            "_view_count": null,
            "_view_module": "@jupyter-widgets/base",
            "_view_module_version": "1.2.0",
            "_view_name": "StyleView",
            "bar_color": null,
            "description_width": ""
          }
        },
        "0caaf9b4baad4120bf1e2473b19931d5": {
          "model_module": "@jupyter-widgets/base",
          "model_name": "LayoutModel",
          "model_module_version": "1.2.0",
          "state": {
            "_model_module": "@jupyter-widgets/base",
            "_model_module_version": "1.2.0",
            "_model_name": "LayoutModel",
            "_view_count": null,
            "_view_module": "@jupyter-widgets/base",
            "_view_module_version": "1.2.0",
            "_view_name": "LayoutView",
            "align_content": null,
            "align_items": null,
            "align_self": null,
            "border": null,
            "bottom": null,
            "display": null,
            "flex": null,
            "flex_flow": null,
            "grid_area": null,
            "grid_auto_columns": null,
            "grid_auto_flow": null,
            "grid_auto_rows": null,
            "grid_column": null,
            "grid_gap": null,
            "grid_row": null,
            "grid_template_areas": null,
            "grid_template_columns": null,
            "grid_template_rows": null,
            "height": null,
            "justify_content": null,
            "justify_items": null,
            "left": null,
            "margin": null,
            "max_height": null,
            "max_width": null,
            "min_height": null,
            "min_width": null,
            "object_fit": null,
            "object_position": null,
            "order": null,
            "overflow": null,
            "overflow_x": null,
            "overflow_y": null,
            "padding": null,
            "right": null,
            "top": null,
            "visibility": null,
            "width": null
          }
        },
        "0db2139291ef4da1a7c035cf547b93bb": {
          "model_module": "@jupyter-widgets/controls",
          "model_name": "DescriptionStyleModel",
          "model_module_version": "1.5.0",
          "state": {
            "_model_module": "@jupyter-widgets/controls",
            "_model_module_version": "1.5.0",
            "_model_name": "DescriptionStyleModel",
            "_view_count": null,
            "_view_module": "@jupyter-widgets/base",
            "_view_module_version": "1.2.0",
            "_view_name": "StyleView",
            "description_width": ""
          }
        },
        "49234515c1cc4d3bab176d718e88e688": {
          "model_module": "@jupyter-widgets/controls",
          "model_name": "HBoxModel",
          "model_module_version": "1.5.0",
          "state": {
            "_dom_classes": [],
            "_model_module": "@jupyter-widgets/controls",
            "_model_module_version": "1.5.0",
            "_model_name": "HBoxModel",
            "_view_count": null,
            "_view_module": "@jupyter-widgets/controls",
            "_view_module_version": "1.5.0",
            "_view_name": "HBoxView",
            "box_style": "",
            "children": [
              "IPY_MODEL_0feb8b77de854601a082665db1950e0f",
              "IPY_MODEL_55dc3fc146c44a1190ceeb45e48d2e30",
              "IPY_MODEL_0c7289f8f2114b559bc63cceab160e84"
            ],
            "layout": "IPY_MODEL_9a008cbed83b45e0b4b3d75f59c9cdf2"
          }
        },
        "0feb8b77de854601a082665db1950e0f": {
          "model_module": "@jupyter-widgets/controls",
          "model_name": "HTMLModel",
          "model_module_version": "1.5.0",
          "state": {
            "_dom_classes": [],
            "_model_module": "@jupyter-widgets/controls",
            "_model_module_version": "1.5.0",
            "_model_name": "HTMLModel",
            "_view_count": null,
            "_view_module": "@jupyter-widgets/controls",
            "_view_module_version": "1.5.0",
            "_view_name": "HTMLView",
            "description": "",
            "description_tooltip": null,
            "layout": "IPY_MODEL_33acc3a50e5a46e7888ebbefec699714",
            "placeholder": "​",
            "style": "IPY_MODEL_1f45ba0fa0e54bd9b3e0e37c47f39f19",
            "value": "merges.txt: 100%"
          }
        },
        "55dc3fc146c44a1190ceeb45e48d2e30": {
          "model_module": "@jupyter-widgets/controls",
          "model_name": "FloatProgressModel",
          "model_module_version": "1.5.0",
          "state": {
            "_dom_classes": [],
            "_model_module": "@jupyter-widgets/controls",
            "_model_module_version": "1.5.0",
            "_model_name": "FloatProgressModel",
            "_view_count": null,
            "_view_module": "@jupyter-widgets/controls",
            "_view_module_version": "1.5.0",
            "_view_name": "ProgressView",
            "bar_style": "success",
            "description": "",
            "description_tooltip": null,
            "layout": "IPY_MODEL_4f06e93c123749fc87742fec63a0d619",
            "max": 456318,
            "min": 0,
            "orientation": "horizontal",
            "style": "IPY_MODEL_7ff84d7de86742cf92eaf4c839c959b1",
            "value": 456318
          }
        },
        "0c7289f8f2114b559bc63cceab160e84": {
          "model_module": "@jupyter-widgets/controls",
          "model_name": "HTMLModel",
          "model_module_version": "1.5.0",
          "state": {
            "_dom_classes": [],
            "_model_module": "@jupyter-widgets/controls",
            "_model_module_version": "1.5.0",
            "_model_name": "HTMLModel",
            "_view_count": null,
            "_view_module": "@jupyter-widgets/controls",
            "_view_module_version": "1.5.0",
            "_view_name": "HTMLView",
            "description": "",
            "description_tooltip": null,
            "layout": "IPY_MODEL_aa49efcfced341f599d124b01717ce4a",
            "placeholder": "​",
            "style": "IPY_MODEL_74584d7f6e80422a81ef80e5c477c094",
            "value": " 456k/456k [00:00&lt;00:00, 20.0MB/s]"
          }
        },
        "9a008cbed83b45e0b4b3d75f59c9cdf2": {
          "model_module": "@jupyter-widgets/base",
          "model_name": "LayoutModel",
          "model_module_version": "1.2.0",
          "state": {
            "_model_module": "@jupyter-widgets/base",
            "_model_module_version": "1.2.0",
            "_model_name": "LayoutModel",
            "_view_count": null,
            "_view_module": "@jupyter-widgets/base",
            "_view_module_version": "1.2.0",
            "_view_name": "LayoutView",
            "align_content": null,
            "align_items": null,
            "align_self": null,
            "border": null,
            "bottom": null,
            "display": null,
            "flex": null,
            "flex_flow": null,
            "grid_area": null,
            "grid_auto_columns": null,
            "grid_auto_flow": null,
            "grid_auto_rows": null,
            "grid_column": null,
            "grid_gap": null,
            "grid_row": null,
            "grid_template_areas": null,
            "grid_template_columns": null,
            "grid_template_rows": null,
            "height": null,
            "justify_content": null,
            "justify_items": null,
            "left": null,
            "margin": null,
            "max_height": null,
            "max_width": null,
            "min_height": null,
            "min_width": null,
            "object_fit": null,
            "object_position": null,
            "order": null,
            "overflow": null,
            "overflow_x": null,
            "overflow_y": null,
            "padding": null,
            "right": null,
            "top": null,
            "visibility": null,
            "width": null
          }
        },
        "33acc3a50e5a46e7888ebbefec699714": {
          "model_module": "@jupyter-widgets/base",
          "model_name": "LayoutModel",
          "model_module_version": "1.2.0",
          "state": {
            "_model_module": "@jupyter-widgets/base",
            "_model_module_version": "1.2.0",
            "_model_name": "LayoutModel",
            "_view_count": null,
            "_view_module": "@jupyter-widgets/base",
            "_view_module_version": "1.2.0",
            "_view_name": "LayoutView",
            "align_content": null,
            "align_items": null,
            "align_self": null,
            "border": null,
            "bottom": null,
            "display": null,
            "flex": null,
            "flex_flow": null,
            "grid_area": null,
            "grid_auto_columns": null,
            "grid_auto_flow": null,
            "grid_auto_rows": null,
            "grid_column": null,
            "grid_gap": null,
            "grid_row": null,
            "grid_template_areas": null,
            "grid_template_columns": null,
            "grid_template_rows": null,
            "height": null,
            "justify_content": null,
            "justify_items": null,
            "left": null,
            "margin": null,
            "max_height": null,
            "max_width": null,
            "min_height": null,
            "min_width": null,
            "object_fit": null,
            "object_position": null,
            "order": null,
            "overflow": null,
            "overflow_x": null,
            "overflow_y": null,
            "padding": null,
            "right": null,
            "top": null,
            "visibility": null,
            "width": null
          }
        },
        "1f45ba0fa0e54bd9b3e0e37c47f39f19": {
          "model_module": "@jupyter-widgets/controls",
          "model_name": "DescriptionStyleModel",
          "model_module_version": "1.5.0",
          "state": {
            "_model_module": "@jupyter-widgets/controls",
            "_model_module_version": "1.5.0",
            "_model_name": "DescriptionStyleModel",
            "_view_count": null,
            "_view_module": "@jupyter-widgets/base",
            "_view_module_version": "1.2.0",
            "_view_name": "StyleView",
            "description_width": ""
          }
        },
        "4f06e93c123749fc87742fec63a0d619": {
          "model_module": "@jupyter-widgets/base",
          "model_name": "LayoutModel",
          "model_module_version": "1.2.0",
          "state": {
            "_model_module": "@jupyter-widgets/base",
            "_model_module_version": "1.2.0",
            "_model_name": "LayoutModel",
            "_view_count": null,
            "_view_module": "@jupyter-widgets/base",
            "_view_module_version": "1.2.0",
            "_view_name": "LayoutView",
            "align_content": null,
            "align_items": null,
            "align_self": null,
            "border": null,
            "bottom": null,
            "display": null,
            "flex": null,
            "flex_flow": null,
            "grid_area": null,
            "grid_auto_columns": null,
            "grid_auto_flow": null,
            "grid_auto_rows": null,
            "grid_column": null,
            "grid_gap": null,
            "grid_row": null,
            "grid_template_areas": null,
            "grid_template_columns": null,
            "grid_template_rows": null,
            "height": null,
            "justify_content": null,
            "justify_items": null,
            "left": null,
            "margin": null,
            "max_height": null,
            "max_width": null,
            "min_height": null,
            "min_width": null,
            "object_fit": null,
            "object_position": null,
            "order": null,
            "overflow": null,
            "overflow_x": null,
            "overflow_y": null,
            "padding": null,
            "right": null,
            "top": null,
            "visibility": null,
            "width": null
          }
        },
        "7ff84d7de86742cf92eaf4c839c959b1": {
          "model_module": "@jupyter-widgets/controls",
          "model_name": "ProgressStyleModel",
          "model_module_version": "1.5.0",
          "state": {
            "_model_module": "@jupyter-widgets/controls",
            "_model_module_version": "1.5.0",
            "_model_name": "ProgressStyleModel",
            "_view_count": null,
            "_view_module": "@jupyter-widgets/base",
            "_view_module_version": "1.2.0",
            "_view_name": "StyleView",
            "bar_color": null,
            "description_width": ""
          }
        },
        "aa49efcfced341f599d124b01717ce4a": {
          "model_module": "@jupyter-widgets/base",
          "model_name": "LayoutModel",
          "model_module_version": "1.2.0",
          "state": {
            "_model_module": "@jupyter-widgets/base",
            "_model_module_version": "1.2.0",
            "_model_name": "LayoutModel",
            "_view_count": null,
            "_view_module": "@jupyter-widgets/base",
            "_view_module_version": "1.2.0",
            "_view_name": "LayoutView",
            "align_content": null,
            "align_items": null,
            "align_self": null,
            "border": null,
            "bottom": null,
            "display": null,
            "flex": null,
            "flex_flow": null,
            "grid_area": null,
            "grid_auto_columns": null,
            "grid_auto_flow": null,
            "grid_auto_rows": null,
            "grid_column": null,
            "grid_gap": null,
            "grid_row": null,
            "grid_template_areas": null,
            "grid_template_columns": null,
            "grid_template_rows": null,
            "height": null,
            "justify_content": null,
            "justify_items": null,
            "left": null,
            "margin": null,
            "max_height": null,
            "max_width": null,
            "min_height": null,
            "min_width": null,
            "object_fit": null,
            "object_position": null,
            "order": null,
            "overflow": null,
            "overflow_x": null,
            "overflow_y": null,
            "padding": null,
            "right": null,
            "top": null,
            "visibility": null,
            "width": null
          }
        },
        "74584d7f6e80422a81ef80e5c477c094": {
          "model_module": "@jupyter-widgets/controls",
          "model_name": "DescriptionStyleModel",
          "model_module_version": "1.5.0",
          "state": {
            "_model_module": "@jupyter-widgets/controls",
            "_model_module_version": "1.5.0",
            "_model_name": "DescriptionStyleModel",
            "_view_count": null,
            "_view_module": "@jupyter-widgets/base",
            "_view_module_version": "1.2.0",
            "_view_name": "StyleView",
            "description_width": ""
          }
        },
        "e8d1b343231545ce9d6d1312ea10b761": {
          "model_module": "@jupyter-widgets/controls",
          "model_name": "HBoxModel",
          "model_module_version": "1.5.0",
          "state": {
            "_dom_classes": [],
            "_model_module": "@jupyter-widgets/controls",
            "_model_module_version": "1.5.0",
            "_model_name": "HBoxModel",
            "_view_count": null,
            "_view_module": "@jupyter-widgets/controls",
            "_view_module_version": "1.5.0",
            "_view_name": "HBoxView",
            "box_style": "",
            "children": [
              "IPY_MODEL_f2eb1d5a088442519d4548931b4cd66e",
              "IPY_MODEL_26054758d0ca41a28380ae6887b427e2",
              "IPY_MODEL_be20893d329440428864b73185d5d640"
            ],
            "layout": "IPY_MODEL_ad15c33cce324d1a81ddd02c581b0882"
          }
        },
        "f2eb1d5a088442519d4548931b4cd66e": {
          "model_module": "@jupyter-widgets/controls",
          "model_name": "HTMLModel",
          "model_module_version": "1.5.0",
          "state": {
            "_dom_classes": [],
            "_model_module": "@jupyter-widgets/controls",
            "_model_module_version": "1.5.0",
            "_model_name": "HTMLModel",
            "_view_count": null,
            "_view_module": "@jupyter-widgets/controls",
            "_view_module_version": "1.5.0",
            "_view_name": "HTMLView",
            "description": "",
            "description_tooltip": null,
            "layout": "IPY_MODEL_b68ccb36360a4c00bd23fb538eb38509",
            "placeholder": "​",
            "style": "IPY_MODEL_6a01661fa68742c2965ebc4659299bad",
            "value": "tokenizer.json: 100%"
          }
        },
        "26054758d0ca41a28380ae6887b427e2": {
          "model_module": "@jupyter-widgets/controls",
          "model_name": "FloatProgressModel",
          "model_module_version": "1.5.0",
          "state": {
            "_dom_classes": [],
            "_model_module": "@jupyter-widgets/controls",
            "_model_module_version": "1.5.0",
            "_model_name": "FloatProgressModel",
            "_view_count": null,
            "_view_module": "@jupyter-widgets/controls",
            "_view_module_version": "1.5.0",
            "_view_name": "ProgressView",
            "bar_style": "success",
            "description": "",
            "description_tooltip": null,
            "layout": "IPY_MODEL_6eb6e097459446d0abc3e96738fc1b75",
            "max": 1355863,
            "min": 0,
            "orientation": "horizontal",
            "style": "IPY_MODEL_2e2e2dc66bd5439192d0f2480cfadd5c",
            "value": 1355863
          }
        },
        "be20893d329440428864b73185d5d640": {
          "model_module": "@jupyter-widgets/controls",
          "model_name": "HTMLModel",
          "model_module_version": "1.5.0",
          "state": {
            "_dom_classes": [],
            "_model_module": "@jupyter-widgets/controls",
            "_model_module_version": "1.5.0",
            "_model_name": "HTMLModel",
            "_view_count": null,
            "_view_module": "@jupyter-widgets/controls",
            "_view_module_version": "1.5.0",
            "_view_name": "HTMLView",
            "description": "",
            "description_tooltip": null,
            "layout": "IPY_MODEL_5260136b59d44fa5a88027e9a4787362",
            "placeholder": "​",
            "style": "IPY_MODEL_ac9b8fd2129a4bbdb37df6eb81518159",
            "value": " 1.36M/1.36M [00:00&lt;00:00, 6.27MB/s]"
          }
        },
        "ad15c33cce324d1a81ddd02c581b0882": {
          "model_module": "@jupyter-widgets/base",
          "model_name": "LayoutModel",
          "model_module_version": "1.2.0",
          "state": {
            "_model_module": "@jupyter-widgets/base",
            "_model_module_version": "1.2.0",
            "_model_name": "LayoutModel",
            "_view_count": null,
            "_view_module": "@jupyter-widgets/base",
            "_view_module_version": "1.2.0",
            "_view_name": "LayoutView",
            "align_content": null,
            "align_items": null,
            "align_self": null,
            "border": null,
            "bottom": null,
            "display": null,
            "flex": null,
            "flex_flow": null,
            "grid_area": null,
            "grid_auto_columns": null,
            "grid_auto_flow": null,
            "grid_auto_rows": null,
            "grid_column": null,
            "grid_gap": null,
            "grid_row": null,
            "grid_template_areas": null,
            "grid_template_columns": null,
            "grid_template_rows": null,
            "height": null,
            "justify_content": null,
            "justify_items": null,
            "left": null,
            "margin": null,
            "max_height": null,
            "max_width": null,
            "min_height": null,
            "min_width": null,
            "object_fit": null,
            "object_position": null,
            "order": null,
            "overflow": null,
            "overflow_x": null,
            "overflow_y": null,
            "padding": null,
            "right": null,
            "top": null,
            "visibility": null,
            "width": null
          }
        },
        "b68ccb36360a4c00bd23fb538eb38509": {
          "model_module": "@jupyter-widgets/base",
          "model_name": "LayoutModel",
          "model_module_version": "1.2.0",
          "state": {
            "_model_module": "@jupyter-widgets/base",
            "_model_module_version": "1.2.0",
            "_model_name": "LayoutModel",
            "_view_count": null,
            "_view_module": "@jupyter-widgets/base",
            "_view_module_version": "1.2.0",
            "_view_name": "LayoutView",
            "align_content": null,
            "align_items": null,
            "align_self": null,
            "border": null,
            "bottom": null,
            "display": null,
            "flex": null,
            "flex_flow": null,
            "grid_area": null,
            "grid_auto_columns": null,
            "grid_auto_flow": null,
            "grid_auto_rows": null,
            "grid_column": null,
            "grid_gap": null,
            "grid_row": null,
            "grid_template_areas": null,
            "grid_template_columns": null,
            "grid_template_rows": null,
            "height": null,
            "justify_content": null,
            "justify_items": null,
            "left": null,
            "margin": null,
            "max_height": null,
            "max_width": null,
            "min_height": null,
            "min_width": null,
            "object_fit": null,
            "object_position": null,
            "order": null,
            "overflow": null,
            "overflow_x": null,
            "overflow_y": null,
            "padding": null,
            "right": null,
            "top": null,
            "visibility": null,
            "width": null
          }
        },
        "6a01661fa68742c2965ebc4659299bad": {
          "model_module": "@jupyter-widgets/controls",
          "model_name": "DescriptionStyleModel",
          "model_module_version": "1.5.0",
          "state": {
            "_model_module": "@jupyter-widgets/controls",
            "_model_module_version": "1.5.0",
            "_model_name": "DescriptionStyleModel",
            "_view_count": null,
            "_view_module": "@jupyter-widgets/base",
            "_view_module_version": "1.2.0",
            "_view_name": "StyleView",
            "description_width": ""
          }
        },
        "6eb6e097459446d0abc3e96738fc1b75": {
          "model_module": "@jupyter-widgets/base",
          "model_name": "LayoutModel",
          "model_module_version": "1.2.0",
          "state": {
            "_model_module": "@jupyter-widgets/base",
            "_model_module_version": "1.2.0",
            "_model_name": "LayoutModel",
            "_view_count": null,
            "_view_module": "@jupyter-widgets/base",
            "_view_module_version": "1.2.0",
            "_view_name": "LayoutView",
            "align_content": null,
            "align_items": null,
            "align_self": null,
            "border": null,
            "bottom": null,
            "display": null,
            "flex": null,
            "flex_flow": null,
            "grid_area": null,
            "grid_auto_columns": null,
            "grid_auto_flow": null,
            "grid_auto_rows": null,
            "grid_column": null,
            "grid_gap": null,
            "grid_row": null,
            "grid_template_areas": null,
            "grid_template_columns": null,
            "grid_template_rows": null,
            "height": null,
            "justify_content": null,
            "justify_items": null,
            "left": null,
            "margin": null,
            "max_height": null,
            "max_width": null,
            "min_height": null,
            "min_width": null,
            "object_fit": null,
            "object_position": null,
            "order": null,
            "overflow": null,
            "overflow_x": null,
            "overflow_y": null,
            "padding": null,
            "right": null,
            "top": null,
            "visibility": null,
            "width": null
          }
        },
        "2e2e2dc66bd5439192d0f2480cfadd5c": {
          "model_module": "@jupyter-widgets/controls",
          "model_name": "ProgressStyleModel",
          "model_module_version": "1.5.0",
          "state": {
            "_model_module": "@jupyter-widgets/controls",
            "_model_module_version": "1.5.0",
            "_model_name": "ProgressStyleModel",
            "_view_count": null,
            "_view_module": "@jupyter-widgets/base",
            "_view_module_version": "1.2.0",
            "_view_name": "StyleView",
            "bar_color": null,
            "description_width": ""
          }
        },
        "5260136b59d44fa5a88027e9a4787362": {
          "model_module": "@jupyter-widgets/base",
          "model_name": "LayoutModel",
          "model_module_version": "1.2.0",
          "state": {
            "_model_module": "@jupyter-widgets/base",
            "_model_module_version": "1.2.0",
            "_model_name": "LayoutModel",
            "_view_count": null,
            "_view_module": "@jupyter-widgets/base",
            "_view_module_version": "1.2.0",
            "_view_name": "LayoutView",
            "align_content": null,
            "align_items": null,
            "align_self": null,
            "border": null,
            "bottom": null,
            "display": null,
            "flex": null,
            "flex_flow": null,
            "grid_area": null,
            "grid_auto_columns": null,
            "grid_auto_flow": null,
            "grid_auto_rows": null,
            "grid_column": null,
            "grid_gap": null,
            "grid_row": null,
            "grid_template_areas": null,
            "grid_template_columns": null,
            "grid_template_rows": null,
            "height": null,
            "justify_content": null,
            "justify_items": null,
            "left": null,
            "margin": null,
            "max_height": null,
            "max_width": null,
            "min_height": null,
            "min_width": null,
            "object_fit": null,
            "object_position": null,
            "order": null,
            "overflow": null,
            "overflow_x": null,
            "overflow_y": null,
            "padding": null,
            "right": null,
            "top": null,
            "visibility": null,
            "width": null
          }
        },
        "ac9b8fd2129a4bbdb37df6eb81518159": {
          "model_module": "@jupyter-widgets/controls",
          "model_name": "DescriptionStyleModel",
          "model_module_version": "1.5.0",
          "state": {
            "_model_module": "@jupyter-widgets/controls",
            "_model_module_version": "1.5.0",
            "_model_name": "DescriptionStyleModel",
            "_view_count": null,
            "_view_module": "@jupyter-widgets/base",
            "_view_module_version": "1.2.0",
            "_view_name": "StyleView",
            "description_width": ""
          }
        }
      }
    }
  },
  "nbformat": 4,
  "nbformat_minor": 0
}