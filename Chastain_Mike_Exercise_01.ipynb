{
  "cells": [
    {
      "cell_type": "markdown",
      "metadata": {
        "id": "view-in-github",
        "colab_type": "text"
      },
      "source": [
        "<a href=\"https://colab.research.google.com/github/MikeChastain84/Mike_INFO5731_Fall2024/blob/main/Chastain_Mike_Exercise_01.ipynb\" target=\"_parent\"><img src=\"https://colab.research.google.com/assets/colab-badge.svg\" alt=\"Open In Colab\"/></a>"
      ]
    },
    {
      "cell_type": "markdown",
      "metadata": {
        "id": "DymRJbxDBCnf"
      },
      "source": [
        "# **INFO5731 Exercise 1**\n",
        "\n",
        "This exercise covers a variety of fundamental concepts in Python and is designed to help students improve their coding skills and problem-solving abilities.\n",
        "\n",
        "**Expectations**:\n",
        "*   Students are expected to complete the exercise during lecture period to meet the active participation criteria of the course.\n",
        "*   Use the provided .*ipynb* document to write your code & respond to the questions. Avoid generating a new file.\n",
        "*   Write complete answers and run all the cells before submission.\n",
        "*   Make sure the submission is \"clean\"; *i.e.*, no unnecessary code cells.\n",
        "*   Once finished, allow shared rights from top right corner (*see Canvas for details*).\n",
        "\n",
        "**Total points**: 40\n",
        "\n",
        "**Deadline**: This in-class exercise is due at the end of the day tomorrow, at 11:59 PM.\n",
        "\n",
        "**Late submissions cannot be considered, and no requests will be answered. Manage your time accordingly.**\n"
      ]
    },
    {
      "cell_type": "markdown",
      "source": [
        "## Question 1\n",
        "Write a Python program that  prompts the user to input the length and width of a rectangle, and then calculates and displays the area of the rectangle."
      ],
      "metadata": {
        "id": "FBKvD6O_TY6e"
      }
    },
    {
      "cell_type": "code",
      "source": [
        "\"\"\"\n",
        "This is a program that asks a user to define the\n",
        "length and width of a rectangle. It then uses these\n",
        "values to calculate the area of the rectangle.\n",
        "\"\"\"\n",
        "\n",
        "print('Hello, I can help you calculate the area of a rectangle.') #introduces the program\n",
        "\n",
        "print('What is the width?') #prompts the user for the rectangles width\n",
        "Width = input() #users answer is saved as the Width which is then converted to a int\n",
        "\n",
        "print('What is the length?') #prompts the user for the rectangles length\n",
        "Length = input() #the users answer is saved as the Length which is then converted to an int\n",
        "\n",
        "\"\"\"\n",
        "Below, the program converts the width and length to integers\n",
        "and multiplies them together to determine Area. Finally, it\n",
        "prints \"The area is: X\", where X is Area converted to a string.\n",
        "\"\"\"\n",
        "\n",
        "Area = float(Width) * float(Length)\n",
        "print('The area is: ' + str(Area))"
      ],
      "metadata": {
        "id": "cikVKDXdTbzE",
        "colab": {
          "base_uri": "https://localhost:8080/"
        },
        "outputId": "4f7b8f7e-745b-42bb-83cf-d4b6c86776ed"
      },
      "execution_count": 3,
      "outputs": [
        {
          "output_type": "stream",
          "name": "stdout",
          "text": [
            "Hello, I can help you calculate the area of a rectangle.\n",
            "What is the width?\n",
            "3.2\n",
            "What is the length?\n",
            "3.3\n",
            "The area is: 10.56\n"
          ]
        }
      ]
    },
    {
      "cell_type": "markdown",
      "source": [
        "## Question 2\n",
        "Create a Python program that interactively takes two numerical inputs from the user and swaps their values without utilizing an extra variable."
      ],
      "metadata": {
        "id": "E9RqrlwdTfvl"
      }
    },
    {
      "cell_type": "code",
      "source": [
        "\"\"\"\n",
        "This is a program that interactively takes two numerical inputs from\n",
        "the user and swaps their values without utilizing an extra variable.\n",
        "\"\"\"\n",
        "print('What is the first number?') #prompts user for the first number\n",
        "num1 = float(input()) #saves the users input as a float named num1\n",
        "\n",
        "print('What is the second number?') #prompts user for the second number\n",
        "num2 = float(input()) #saves the users input as a float named num2\n",
        "\n",
        "num1 = num1 + num2 #Adds these values to create a new value without introducing a new variable\n",
        "\n",
        "num2 = num1 - num2 #Uses subtraction to turn num2 into the original num1\n",
        "\n",
        "num1 = num1 - num2 #Uses subtraction to turn num1 into the original num2\n",
        "\n",
        "\"\"\"\n",
        "In the last line of code, I kept running into an issue where I would get inaccurate answers when the user inputs floats.\n",
        "I formatted num1 and num2 for up to decimal places. This solves the issue unless the user enters more than two decimal places.\n",
        "I have not been able to solve this where any number of decimal places can be used. I hope we cover this in class.\n",
        "\"\"\"\n",
        "\n",
        "#Swaps the values and prints their results up to two decimal places.\n",
        "print('After swapping their values, num1 = {:.2f} and num2 = {:.2f}'.format(num1, num2))\n"
      ],
      "metadata": {
        "id": "4XvRknixTh1g",
        "colab": {
          "base_uri": "https://localhost:8080/"
        },
        "outputId": "a76c2acc-874a-4493-a9f2-18d32c7f164a"
      },
      "execution_count": 11,
      "outputs": [
        {
          "output_type": "stream",
          "name": "stdout",
          "text": [
            "What is the first number?\n",
            "3.44\n",
            "What is the second number?\n",
            "4.33\n",
            "After swapping their values, num1 = 4.33 and num2 = 3.44\n"
          ]
        }
      ]
    },
    {
      "cell_type": "markdown",
      "metadata": {
        "id": "03jb4GZsBkBS"
      },
      "source": [
        "## Question 3\n",
        "Write a Python script to determine and print the length of a user-input string."
      ]
    },
    {
      "cell_type": "code",
      "execution_count": null,
      "metadata": {
        "id": "YaGLbSHHB8Ej"
      },
      "outputs": [],
      "source": [
        "#This is a program that determines and prints the length of a user-input string.\n",
        "\n",
        "print('Please type a word or phrase.')  #prompts user to enter a string (word or phrase)\n",
        "word = input()           #defines the user input as \"word\"\n",
        "word_length = len(word)  #uses the length function to count the characters in word and defines the value as word_length\n",
        "\n",
        "#prints the final output informing the user how many characters were in their word or phrase.\n",
        "print('The length of that word or phrase is: ' + str(word_length))\n",
        "\n"
      ]
    },
    {
      "cell_type": "markdown",
      "metadata": {
        "id": "jJDe71iLB616"
      },
      "source": [
        "## Question 4\n",
        "Construct a Python program that counts and displays the occurrences of each character in a given string.\n",
        "\n",
        "Sample String: 'openai.ai',\n",
        "\n",
        "Expected Result: {'a': 2, 'i': 2, '.': 1, 'o': 1, 'p': 1, 'e': 1, 'n': 1}"
      ]
    },
    {
      "cell_type": "code",
      "execution_count": 13,
      "metadata": {
        "id": "MtKskTzbCLaU",
        "colab": {
          "base_uri": "https://localhost:8080/"
        },
        "outputId": "45f4787c-32c9-4017-ba69-644bc92b3f45"
      },
      "outputs": [
        {
          "output_type": "stream",
          "name": "stdout",
          "text": [
            "{'f': 1, 'l': 1, 'a': 2, 'p': 1, 'j': 1, 'c': 1, 'k': 1, 's': 1}\n"
          ]
        }
      ],
      "source": [
        "#This is a program that counts and displays the occurrences of each character in a given string.\n",
        "\n",
        "sample_string = 'openai.ai' #defines the sample string\n",
        "\n",
        "char_count = {} #creates an empty dictionary to store character counts\n",
        "\n",
        "# Loop through each character in the string\n",
        "for char in sample_string:\n",
        "    # If the character is already in the dictionary, increment its count\n",
        "    if char in char_count:\n",
        "        char_count[char] += 1\n",
        "    # If the character is not in the dictionary, add it with a count of 1\n",
        "    else:\n",
        "        char_count[char] = 1\n",
        "\n",
        "print(char_count) # Display the character count dictionary"
      ]
    },
    {
      "cell_type": "markdown",
      "metadata": {
        "id": "55W9AMdXCSpV"
      },
      "source": [
        "## Question 5\n",
        "Design a Python code to calculate the sum of all elements in a user-provided list."
      ]
    },
    {
      "cell_type": "code",
      "execution_count": null,
      "metadata": {
        "id": "I57NXsauCec2"
      },
      "outputs": [],
      "source": [
        "#This is a program to calculate the sum of all elements in a user-provided list.\n",
        "\n",
        "#prompt the user to provide a list of numbers separated by spaces:\n",
        "user_list = input('Provide a list of numbers separated by spaces: ').split()\n",
        "\n",
        "#convert the input strings to integers\n",
        "integers = [int(num) for num in user_list]\n",
        "\n",
        "#use the sum function to determine the total of all numbers in the list\n",
        "total = sum(integers)\n",
        "\n",
        "#print the result\n",
        "print(f\"The sum of all elements in the list is: {total}!\")\n"
      ]
    },
    {
      "cell_type": "markdown",
      "metadata": {
        "id": "4ulBZ6yhCi9F"
      },
      "source": [
        "## Question 6\n",
        "Write a Python program that modifies a given string by replacing all occurrences of its first character with '$', excluding the first character itself.\n",
        "\n",
        "\n",
        "Sample String : 'restart‘\n",
        "Expected Result : 'resta\\$t'"
      ]
    },
    {
      "cell_type": "code",
      "execution_count": 17,
      "metadata": {
        "id": "Fj0XhwbBCw2o",
        "colab": {
          "base_uri": "https://localhost:8080/"
        },
        "outputId": "cbc0cb29-4b1b-41bf-9794-bb3ab8696253"
      },
      "outputs": [
        {
          "output_type": "stream",
          "name": "stdout",
          "text": [
            "Result:  super$onic $peed\n"
          ]
        }
      ],
      "source": [
        "#Write a Python program that modifies a given string by replacing all occurrences of its first character with '$', excluding the first character itself.\n",
        "#Sample String : 'restart‘ Expected Result : 'resta$t'\n",
        "\n",
        "#This is a program hat modifies a given string by replacing all occorrences of its first character with '$', excluding the first character itself.\n",
        "\n",
        "#Define the input string\n",
        "input_string = 'supersonic speed'\n",
        "\n",
        "#Verify the input string is not empty:\n",
        "if len(input_string)>0:\n",
        "\n",
        "    #Identify the first character in the input string\n",
        "    first_char = input_string[0]\n",
        "\n",
        "    #Replace all occurences of first_char with \"$\" and save the new modified string\n",
        "    modified_string = first_char + input_string[1:].replace(first_char, '$')\n",
        "\n",
        "    #Display the results:\n",
        "    print('Result: ', modified_string)\n",
        "\n",
        "else:\n",
        "    print('The input was empty.')\n"
      ]
    },
    {
      "cell_type": "markdown",
      "source": [
        "## Question 7\n",
        "Write a Python program using a while loop to compute the factorial of a user-supplied number."
      ],
      "metadata": {
        "id": "qVXA3q7ET5JI"
      }
    },
    {
      "cell_type": "code",
      "source": [
        "#A python program that uses a while loop to compute the factorial of a user-supplied number.\n",
        "\n",
        "#First, you define the function \"factorial\" that accepts one parameter, \"n\"\n",
        "def factorial(n):\n",
        "    if n < 0:               #This handles negatives; factorial of a negative is not defined.\n",
        "        return 0\n",
        "    elif n == 0 or n == 1:  #Factorial of 0 and 1 are 1 by definition. This takes care of that.\n",
        "        return 1\n",
        "    else:\n",
        "        fact = 1            #creates the variable fact to store your results.\n",
        "        while(n > 1):       #initiates the while loop for n > 1\n",
        "            fact *= n       #multiplies current variable (fact=1) by n\n",
        "            n -= 1          #decreases n by 1 with each iteration of the loop\n",
        "        return fact\n",
        "\n",
        "#Prompts the user for a number, converts it to an integer, an saves it as num:\n",
        "num = int(input('Enter a number to learn its factorial: '))\n",
        "\n",
        "\"\"\"\n",
        "Prints the result by using the user input 'num' in the 'factorial' function\n",
        "and combining these in a print statement for the user to interpret:\n",
        "\"\"\"\n",
        "print(\"Factorial of\", num,\"is\", factorial(num))\n"
      ],
      "metadata": {
        "id": "Lbt7R6UkT7BA",
        "colab": {
          "base_uri": "https://localhost:8080/"
        },
        "outputId": "7d3a3025-7401-4943-8605-b3b48b45efaa"
      },
      "execution_count": 18,
      "outputs": [
        {
          "output_type": "stream",
          "name": "stdout",
          "text": [
            "Enter a number to learn its factorial: 4\n",
            "Factorial of 4 is 24\n"
          ]
        }
      ]
    },
    {
      "cell_type": "markdown",
      "source": [
        "## Question 8\n",
        "Create a program that accepts a list of numbers as input and outputs a new list containing only the even numbers."
      ],
      "metadata": {
        "id": "6YfbzXMNT--R"
      }
    },
    {
      "cell_type": "code",
      "source": [
        "\"\"\"\n",
        "A program that accepts a list of numbers as input and outputs a new list\n",
        "containing only the even numbers.\n",
        "\"\"\"\n",
        "\n",
        "#First, we define a function we can call on to filter out even numbers from user-input lists.\n",
        "\n",
        "def filter_even_numbers():\n",
        "    # Prompt the user to enter a list of numbers separated by spaces. User input is saved as the variable \"input_string\".\n",
        "    input_string = input(\"Enter a list of numbers separated by spaces: \")\n",
        "\n",
        "    # Creates an empty list to store numbers.\n",
        "    numbers = []\n",
        "\n",
        "    # Creates an empty string to build each number\n",
        "    current_number = \"\"\n",
        "\n",
        "    # Initiates a for loop to iterate over each character in the input string\n",
        "    for char in input_string:\n",
        "        #If a space is encountered...\n",
        "        if char == \" \":\n",
        "            #convert the current number to an integer and add it to the list:\n",
        "            if current_number:\n",
        "                numbers.append(int(current_number))\n",
        "                current_number = \"\"\n",
        "        else:\n",
        "            # Otherwise, add the character to the current number\n",
        "            current_number += char\n",
        "\n",
        "    # Add the last number to the list if there is one\n",
        "    if current_number:\n",
        "        numbers.append(int(current_number))\n",
        "\n",
        "    # Filter out the even numbers and exclude 0, since it isn't an even number.\n",
        "    even_numbers = [num for num in numbers if num % 2 == 0 and num != 0]\n",
        "\n",
        "    # Display the result\n",
        "    print(f\"The even numbers in the list are: {even_numbers}\")\n",
        "\n",
        "# Example usage. Allows you to run the code.\n",
        "filter_even_numbers()\n"
      ],
      "metadata": {
        "id": "54q7wMQPUAKu",
        "colab": {
          "base_uri": "https://localhost:8080/"
        },
        "outputId": "e2d8f84c-6c4a-4e58-8df1-dd62c9374176"
      },
      "execution_count": 19,
      "outputs": [
        {
          "output_type": "stream",
          "name": "stdout",
          "text": [
            "Enter a list of numbers separated by spaces: 5 6 7 6 55 4432 0 9\n",
            "The even numbers in the list are: [6, 6, 4432]\n"
          ]
        }
      ]
    },
    {
      "cell_type": "markdown",
      "metadata": {
        "id": "_bIP7s1MCzue"
      },
      "source": [
        "## Question 9\n",
        "Design a Python function to check if a number is prime.\n"
      ]
    },
    {
      "cell_type": "code",
      "execution_count": 20,
      "metadata": {
        "id": "w79QilHXD3Mg",
        "colab": {
          "base_uri": "https://localhost:8080/"
        },
        "outputId": "b9e8b87a-9b0b-4f00-eba8-523dcd1a0f2e"
      },
      "outputs": [
        {
          "output_type": "stream",
          "name": "stdout",
          "text": [
            "Enter a number: \n",
            "33\n",
            "33 is not a prime number.\n"
          ]
        }
      ],
      "source": [
        "# A Python function that checks if a number is prime.\n",
        "\n",
        "def prime_check(n):\n",
        "\n",
        "    #check to see if the number is 1 or less:\n",
        "    if n <= 1:\n",
        "        return False\n",
        "\n",
        "    #check for factors from 2 to the square root of n\n",
        "    for i in range(2, int(n**0.5) + 1):\n",
        "        if n % i == 0:\n",
        "            return False\n",
        "\n",
        "    return True\n",
        "\n",
        "#Example\n",
        "\n",
        "print(\"Enter a number: \") #prompts the user to enter a number\n",
        "\n",
        "number = input()        #saves user input as variable \"number\"\n",
        "\n",
        "number = int(number)    #convert number from string data type to integer\n",
        "\n",
        "if prime_check(number): #if True condition is met print statement follows:\n",
        "    print(f'{number} is a prime number.')\n",
        "\n",
        "else:                   #if True condition is not met this print statement follows:\n",
        "    print(f'{number} is not a prime number.')\n"
      ]
    },
    {
      "cell_type": "markdown",
      "metadata": {
        "id": "xCa2bK9aD4Q3"
      },
      "source": [
        "## Question 10\n",
        "Write a Python program to concatenate following dictionaries to create a new one.\n",
        "\n",
        "Sample Dictionary : dic1={1:10, 2:20}, dic2={3:30, 4:40}, dic3={5:50,6:60},\n",
        "\n",
        "Expected Result : {1: 10, 2: 20, 3: 30, 4: 40, 5: 50, 6: 60}\n"
      ]
    },
    {
      "cell_type": "code",
      "execution_count": 21,
      "metadata": {
        "id": "_z4aLqAbEET1",
        "colab": {
          "base_uri": "https://localhost:8080/"
        },
        "outputId": "db683331-3d7f-49fa-bd9e-e97c4ed5e0bd"
      },
      "outputs": [
        {
          "output_type": "stream",
          "name": "stdout",
          "text": [
            "{1: 10, 2: 20, 3: 30, 4: 40, 5: 50, 6: 60}\n"
          ]
        }
      ],
      "source": [
        "# A Python program to concatenate following dictionaries to create a new one.\n",
        "# Sample Dictionary : dic1={1:10, 2:20}, dic2={3:30, 4:40}, dic3={5:50,6:60},\n",
        "# Expected Result : {1: 10, 2: 20, 3: 30, 4: 40, 5: 50, 6: 60}\n",
        "\n",
        "#First, create the three dictionaries:\n",
        "\n",
        "dic1 = {1: 10, 2: 20}\n",
        "dic2 = {3: 30, 4: 40}\n",
        "dic3 = {5: 50, 6: 60}\n",
        "\n",
        "# Creating a new dictionary\n",
        "combined = {}\n",
        "\n",
        "# Updating the combined dictionary with each dictionary\n",
        "combined.update(dic1)\n",
        "combined.update(dic2)\n",
        "combined.update(dic3)\n",
        "\n",
        "# Printing the result\n",
        "print(combined)"
      ]
    },
    {
      "cell_type": "markdown",
      "source": [
        "## Question 11\n",
        "Design a Python function that takes a tuple of integers as input and returns the largest and smallest elements."
      ],
      "metadata": {
        "id": "bkyZ2xSZUOst"
      }
    },
    {
      "cell_type": "code",
      "source": [
        "\"\"\"\n",
        "A Python function that takes a tuple of integers as input\n",
        "and returns both the largest and smallest elements.\n",
        "\"\"\"\n",
        "\n",
        "def find_small_large(numbers):  # defines the function find_small_large)\n",
        "    if not numbers:             # eliminates the chance for an empty tuple\n",
        "        return None, None\n",
        "\n",
        "    smallest = min(numbers) #uses min() function to find smallest element and saves it as variable, smallest\n",
        "    largest = max(numbers)  #uses max() function to find largest element and saves it as variable, largest\n",
        "\n",
        "    return smallest, largest\n",
        "\n",
        "#Example:\n",
        "sample_tuple = (3, 6, 3, 1, 6, 9, 31)\n",
        "smallest, largest = find_small_large(sample_tuple)\n",
        "print(f'The smallest element is: {smallest}')\n",
        "print(f'The largest element is: {largest}')"
      ],
      "metadata": {
        "id": "3FdLRBKOUQEd",
        "colab": {
          "base_uri": "https://localhost:8080/"
        },
        "outputId": "6df7b77f-dfd0-42dd-c851-4f11d2cf1a43"
      },
      "execution_count": 22,
      "outputs": [
        {
          "output_type": "stream",
          "name": "stdout",
          "text": [
            "The smallest element is: 1\n",
            "The largest element is: 31\n"
          ]
        }
      ]
    },
    {
      "cell_type": "markdown",
      "source": [
        "## Question 12\n",
        "Write a Python program that counts the frequency of each character in a given string and stores it in a dictionary."
      ],
      "metadata": {
        "id": "O0TVi3gKUTpp"
      }
    },
    {
      "cell_type": "code",
      "source": [
        "\"\"\"\n",
        "Write a Python program that counts the frequency of each\n",
        "character in a given string and stores it in a dictionary.\n",
        "\"\"\"\n",
        "\n",
        "#Create a function to count the frequency of each character\n",
        "\n",
        "def count_char_freq(input_string):\n",
        "    #create an empty dictionary to store character frequencies\n",
        "    freq_dict = {}\n",
        "\n",
        "    #use a for loop to iterate over characters in the input string\n",
        "    for char in input_string:\n",
        "\n",
        "        #if the character is already in the dictionary, increment its count\n",
        "        if char in freq_dict:\n",
        "            freq_dict[char] += 1\n",
        "\n",
        "        #if the character is not in the dictionary, add it with a count of 1\n",
        "        else:\n",
        "            freq_dict[char] = 1\n",
        "\n",
        "\n",
        "    return freq_dict\n",
        "\n",
        "#Example:\n",
        "sample_string = \"goodbye galaxy\"\n",
        "frequency = count_char_freq(sample_string)\n",
        "print(frequency)\n"
      ],
      "metadata": {
        "id": "lAtfSfZXUU-h"
      },
      "execution_count": null,
      "outputs": []
    },
    {
      "cell_type": "markdown",
      "metadata": {
        "id": "0v48Vqa7FrQh"
      },
      "source": [
        "## Question 13\n",
        "Implement a Python script to identify duplicate elements in a provided array of integers. Return -1 if there are no duplicates."
      ]
    },
    {
      "cell_type": "code",
      "execution_count": null,
      "metadata": {
        "id": "7WEmgq-DF2P1"
      },
      "outputs": [],
      "source": [
        "\"\"\"\n",
        "Implement a Python script to identify duplicate elements in a\n",
        "provided array of integers. Return -1 if there are no duplicates.\n",
        "\"\"\"\n",
        "\n",
        "#create the function that accepts a single parameter and will be used to find duplicates:\n",
        "def find_duplicates(arr):\n",
        "    #creates an empty set to track seen numbers\n",
        "    seen = set()\n",
        "    #creates an empty list to store duplicate numbers\n",
        "    duplicates = []\n",
        "\n",
        "    #uses a for loop to iterate through each number in the array\n",
        "    for num in arr:\n",
        "        #If statement to identify numbers already in the seen set\n",
        "        if num in seen:\n",
        "            duplicates.append(num)  #numbers are appended to duplicates if in seen set\n",
        "        else:\n",
        "            # Otherwise, add the number to the set\n",
        "            seen.add(num)\n",
        "\n",
        "    # Return the list of duplicates if found, otherwise return -1\n",
        "    if duplicates:\n",
        "        return duplicates\n",
        "    else:\n",
        "        return -1\n",
        "\n",
        "# Example usage\n",
        "input_array = [1, 2, 3, 4, 5, 6, 7, 6, 5]\n",
        "result = find_duplicates(input_array)\n",
        "print(result)\n"
      ]
    },
    {
      "cell_type": "markdown",
      "metadata": {
        "id": "vD5PYLMuGga_"
      },
      "source": [
        "## Question 14\n",
        "Write a Python script to find the common elements between two lists."
      ]
    },
    {
      "cell_type": "code",
      "execution_count": null,
      "metadata": {
        "id": "t0D5kdJUGjjw"
      },
      "outputs": [],
      "source": [
        "# A Python script to find the common elements between two lists.\n",
        "\n",
        "#define a new function to find common elements between two parameters:\n",
        "\n",
        "def find_common_elements(list1, list2):\n",
        "\n",
        "    # Convert both lists to sets and use the intersection function\n",
        "    common_elements = set(list1).intersection(set(list2))\n",
        "    return list(common_elements)\n",
        "\n",
        "# Example usage\n",
        "list1 = [1, 2, 3, 4, 5]\n",
        "list2 = [4, 5, 6, 7, 8]\n",
        "common = find_common_elements(list1, list2)\n",
        "print(f\"Common elements: {common}\")\n"
      ]
    },
    {
      "cell_type": "markdown",
      "metadata": {
        "id": "uHkd-y5VhVWC"
      },
      "source": [
        "## Question 15\n",
        "Write a Python program to randomly divide the students in this class into maximum of eight groups for term projects, each group should have at least 4 students but no more than 6 students (including 6).\n",
        "\n",
        "Here is the students list:\n",
        "\n",
        "student_list_spring_2024=[rb0846,\n",
        "ac1964,\n",
        "hc0612,\n",
        "md0912,\n",
        "ad1198,\n",
        "md0894,\n",
        "md0825,\n",
        "vg0598,\n",
        "vg0433,\n",
        "mh1068,\n",
        "yj0173,\n",
        "pk0553,\n",
        "tk0411,\n",
        "srk0204,\n",
        "sk2922,\n",
        "sk2936,\n",
        "mk1302,\n",
        "mk1317,\n",
        "tk0412,\n",
        "vk0656,\n",
        "sm2985,\n",
        "mm2372,\n",
        "un0045,\n",
        "an0892,\n",
        "sn0913,\n",
        "gp0252,\n",
        "ap1484,\n",
        "mr1765,\n",
        "sr1385,\n",
        "sr1335,\n",
        "hs0665,\n",
        "ms2060,\n",
        "gt0217,\n",
        "nt0385,\n",
        "tv0186,\n",
        "sv1394,\n",
        "sv1752,\n",
        "sv1555,\n",
        "sy0594\n",
        "]\n"
      ]
    },
    {
      "cell_type": "code",
      "execution_count": null,
      "metadata": {
        "id": "3iGbmcOBhTwy"
      },
      "outputs": [],
      "source": [
        "\"\"\"\n",
        "Write a Python program to randomly divide the students in this class into\n",
        "maximum of eight groups for term projects, each group should have at least\n",
        "4 students but no more than 6 students (including 6).\n",
        "\n",
        "Here is the students list:\n",
        "\n",
        "student_list_spring_2024=[rb0846, ac1964, hc0612, md0912, ad1198, md0894,\n",
        "md0825, vg0598, vg0433, mh1068, yj0173, pk0553, tk0411, srk0204, sk2922,\n",
        "sk2936, mk1302, mk1317, tk0412, vk0656, sm2985, mm2372, un0045, an0892,\n",
        "sn0913, gp0252, ap1484, mr1765, sr1385, sr1335, hs0665, ms2060, gt0217,\n",
        "nt0385, tv0186,sv1394, sv1752, sv1555, sy0594]\n",
        "\"\"\"\n",
        "\n",
        "import random\n",
        "\n",
        "# Provided list of students:\n",
        "student_list_spring_2024 = ['rb0846', 'ac1964', 'hc0612', 'md0912', 'ad1198',\n",
        "                            'md0894', 'md0825', 'vg0598', 'vg0433', 'mh1068',\n",
        "                            'yj0173', 'pk0553', 'tk0411', 'srk0204', 'sk2922',\n",
        "                            'sk2936', 'mk1302', 'mk1317', 'tk0412', 'vk0656',\n",
        "                            'sm2985', 'mm2372', 'un0045', 'an0892','sn0913',\n",
        "                            'gp0252', 'ap1484', 'mr1765', 'sr1385', 'sr1335',\n",
        "                            'hs0665', 'ms2060', 'gt0217', 'nt0385', 'tv0186',\n",
        "                            'sv1394', 'sv1752', 'sv1555', 'sy0594']\n",
        "\n",
        "# shuffle the list to ensure randomness\n",
        "random.shuffle(student_list_spring_2024)\n",
        "\n",
        "#create an empty list to store groups:\n",
        "groups = []\n",
        "\n",
        "#counts the number of students:\n",
        "total_students = len(student_list_spring_2024)\n",
        "\n",
        "#defines minimum and maximum group sizes:\n",
        "min_group_size = 4\n",
        "max_group_size = 6\n",
        "\n",
        "#create groups\n",
        "start = 0\n",
        "\n",
        "while start < total_students:\n",
        "    remaining_students = total_students - start\n",
        "    #determine group size\n",
        "    if remaining_students >= min_group_size:\n",
        "        if remaining_students <= max_group_size or len(groups) == 7:\n",
        "            group_size = remaining_students\n",
        "        else:\n",
        "            group_size = random.randint(min_group_size, min(max_group_size, remaining_students - min_group_size))\n",
        "\n",
        "        #Form a group\n",
        "        group = student_list_spring_2024[start:start + group_size]\n",
        "        groups.append(group)\n",
        "        start += group_size\n",
        "\n",
        "    else:\n",
        "        #distribute the remaining students among existing groups if they are less than min_group_size\n",
        "        for i in range(remaining_students):\n",
        "            groups[i % len(groups)].append(student_list_spring_2024[start])\n",
        "            start += 1\n",
        "\n",
        "#Print groups\n",
        "for i, group in enumerate(groups):\n",
        "    print(f'Group {i + 1} {group}')"
      ]
    },
    {
      "cell_type": "markdown",
      "metadata": {
        "id": "fmZ9vX20Qs3d"
      },
      "source": [
        "## Question 16\n",
        "Create a program that takes a positive integer 'n' as input and prints the count of even numbers from 1 to 'n'. Optimize the loop using the continue statement."
      ]
    },
    {
      "cell_type": "code",
      "execution_count": null,
      "metadata": {
        "id": "W8Jw6sWMQs3d"
      },
      "outputs": [],
      "source": [
        "\"\"\"\n",
        "Create a program that takes a positive integer 'n' as input and prints the count\n",
        "of even numbers from 1 to 'n'. Optimize the loop using the continue statement.\n",
        "\"\"\"\n",
        "\n",
        "def count_even_numbers(n):  #defines a function to count even numbers\n",
        "    count = 0               #initialize a variable and set it to 0\n",
        "    for i in range(1, n + 1):   #begins a for loop to iterate from 1 to n\n",
        "        if i % 2 != 0:      #this part of the loop checks if the number is odd. i % 2 calculates the remainder;\n",
        "                            #if the remainder is not equal to 0 (!=0), i must be odd\n",
        "\n",
        "            continue        #if i is odd, continue is executed skipping the rest of the code in this iteration\n",
        "                            #and the next iteration of the loop begins\n",
        "\n",
        "        count += 1          #if the if condition is not met, the current number is even and count increases by 1\n",
        "    return count            #After the loop has finished iterating from 1 to n, this line\n",
        "                            #returns the final value of count; the total number of even numbers\n",
        "\n",
        "# Example usage\n",
        "n = int(input(\"Enter a positive integer: \"))\n",
        "even_count = count_even_numbers(n)\n",
        "print(f\"The count of even numbers from 1 to {n} is: {even_count}\")\n"
      ]
    },
    {
      "cell_type": "markdown",
      "metadata": {
        "id": "hvq4APMhQs3d"
      },
      "source": [
        "## Question 17\n",
        "Develop a Python function called 'count_vowels' that takes a string as input and returns the count of vowels (both lowercase and uppercase) present in the string, ignoring spaces and non-alphabetic characters."
      ]
    },
    {
      "cell_type": "code",
      "execution_count": 23,
      "metadata": {
        "id": "ZnoxhSglQs3d",
        "colab": {
          "base_uri": "https://localhost:8080/"
        },
        "outputId": "da3b1472-427e-478e-aad7-38aa722feb7a"
      },
      "outputs": [
        {
          "output_type": "stream",
          "name": "stdout",
          "text": [
            "The number of vowels in the string is: 3\n"
          ]
        }
      ],
      "source": [
        "\"\"\"\n",
        "Develop a Python function called 'count_vowels' that takes a string as input and returns the count of\n",
        "vowels (both lowercase and uppercase) present in the string, ignoring spaces and non-alphabetic characters.\n",
        "\"\"\"\n",
        "\n",
        "def count_vowels(input_string):\n",
        "    #define a set of vowels\n",
        "    vowels = set('aeiouAEIOU')\n",
        "    #initialize a counter\n",
        "    count = 0\n",
        "\n",
        "    #Iterate over each character in the input string\n",
        "    for char in input_string:\n",
        "        #check if each character is a vowel\n",
        "        if char in vowels:\n",
        "            count += 1\n",
        "\n",
        "    return count\n",
        "\n",
        "# Example usage\n",
        "sample_string = \"Have FUN!\"\n",
        "vowel_count = count_vowels(sample_string)\n",
        "print(f\"The number of vowels in the string is: {vowel_count}\")\n"
      ]
    },
    {
      "cell_type": "markdown",
      "source": [
        "## Question 18\n",
        "Create a custom exception named ValueTooSmallError in Python. Write a program that takes user input for an age, and if the entered age is less than 18, raise the ValueTooSmallError with an appropriate error message."
      ],
      "metadata": {
        "id": "55FWoSJPVVM6"
      }
    },
    {
      "cell_type": "code",
      "source": [
        "\"\"\"\n",
        "Create a custom exception named ValueTooSmallError in Python. Write a program that takes user input for an age,\n",
        "and if the entered age is less than 18, raise the ValueTooSmallError with an appropriate error message.\n",
        "\"\"\"\n",
        "\n",
        "# Define the custom exception\n",
        "class ValueTooSmallError(Exception):\n",
        "    def __init__(self, message=\"Age must be 18 or older\"):\n",
        "        self.message = message\n",
        "        super().__init__(self.message)\n",
        "\n",
        "# Function to check age and raise custom exception if needed\n",
        "def check_age(age):\n",
        "    if age < 18:\n",
        "        raise ValueTooSmallError\n",
        "\n",
        "# Main program\n",
        "try:\n",
        "    # Prompt user for age\n",
        "    user_input = input(\"Enter your age: \")\n",
        "\n",
        "    # Convert input to an integer\n",
        "    age = int(user_input)\n",
        "\n",
        "    # Check if the age is valid\n",
        "    check_age(age)\n",
        "\n",
        "    print(\"Age is acceptable.\")\n",
        "\n",
        "except ValueError:\n",
        "    print(\"Invalid input. Please enter a valid integer.\")\n",
        "except ValueTooSmallError as e:\n",
        "    print(f\"Error: {e}\")\n"
      ],
      "metadata": {
        "id": "hwtr1wZmVX5A",
        "colab": {
          "base_uri": "https://localhost:8080/"
        },
        "outputId": "4ac5b83f-43d3-4d5a-ec4d-275fa5db66ab"
      },
      "execution_count": 24,
      "outputs": [
        {
          "output_type": "stream",
          "name": "stdout",
          "text": [
            "Enter your age: 17\n",
            "Error: Age must be 18 or older\n"
          ]
        }
      ]
    },
    {
      "cell_type": "markdown",
      "source": [
        "## Question 19\n",
        "Develop a script that reverses a given string without using built-in reverse functions."
      ],
      "metadata": {
        "id": "Q9ecagcaVazW"
      }
    },
    {
      "cell_type": "code",
      "source": [
        "\"\"\"\n",
        "Develop a script that reverses a given string without using built-in reverse functions.\n",
        "\"\"\"\n",
        "\n",
        "#first, define the function reverse_string to take a string 's'\n",
        "def reverse_string(s):\n",
        "    reversed_str = \"\"   #start with an empty string to store the reversed string\n",
        "\n",
        "    # Loop through each character in the string in reverse order\n",
        "    for char in s:\n",
        "        # Prepend each character to the reversed string. This builds the reversed\n",
        "        # string by adding characters to the front of 'reversed_string'\n",
        "        reversed_str = char + reversed_str\n",
        "    return reversed_str\n",
        "\n",
        "# Example usage\n",
        "input_string = input(\"Enter a string to reverse: \")\n",
        "reversed_string = reverse_string(input_string)\n",
        "print(f\"Reversed string: {reversed_string}\")\n",
        "\n"
      ],
      "metadata": {
        "id": "gycgckoAVZjR",
        "colab": {
          "base_uri": "https://localhost:8080/"
        },
        "outputId": "e1e75006-de07-42b1-ddf0-e5469727ef8f"
      },
      "execution_count": 25,
      "outputs": [
        {
          "output_type": "stream",
          "name": "stdout",
          "text": [
            "Enter a string to reverse: Flapjacks baby!\n",
            "Reversed string: !ybab skcajpalF\n"
          ]
        }
      ]
    },
    {
      "cell_type": "markdown",
      "source": [
        "## Question 20\n",
        "Implement a Python script to generate a random password of a specified length."
      ],
      "metadata": {
        "id": "ZFG6RibifMLu"
      }
    },
    {
      "cell_type": "code",
      "source": [
        "#A python script that generates a random password of a specified length:\n",
        "\n",
        "import random   #imports the random module; provides the choice function to pick random characters\n",
        "import string   #imports the string module; provides ascii_letters (all letters), digits (0-9), and punctuation (special characters).\n",
        "\n",
        "def generate_password(length):  #defines the function generate_password and sets it to receive a length input\n",
        "    # Define the characters to use in the password:\n",
        "    characters = string.ascii_letters + string.digits + string.punctuation\n",
        "\n",
        "    # Check if the requested length is valid\n",
        "    if length < 6:\n",
        "        raise ValueError(\"Password length must be at least 6.\")\n",
        "\n",
        "    # Generate a random password\n",
        "    password = ''.join(random.choice(characters) for _ in range(length))\n",
        "\n",
        "    return password\n",
        "\n",
        "# Example usage\n",
        "try:\n",
        "    # Prompt user for the password length\n",
        "    length = int(input(\"Enter the desired password length: \"))\n",
        "\n",
        "    # Generate and print the password\n",
        "    password = generate_password(length)\n",
        "    print(f\"Generated password: {password}\")\n",
        "\n",
        "except ValueError as e:\n",
        "    print(f\"Error: {e}\")\n"
      ],
      "metadata": {
        "id": "BFVrkEi9fNiD"
      },
      "execution_count": null,
      "outputs": []
    },
    {
      "cell_type": "markdown",
      "source": [
        "# Try these questions"
      ],
      "metadata": {
        "id": "6SmvS7nSfbj8"
      }
    },
    {
      "cell_type": "markdown",
      "source": [
        "(21) Define a base class called 'Vehicle' with attributes make and model. Create a derived class Car that inherits from Vehicle and has an additional attribute 'num_doors'. Demonstrate an example of creating an instance of the 'Car' class and accessing its attributes."
      ],
      "metadata": {
        "id": "cboAr5pEWUf5"
      }
    },
    {
      "cell_type": "code",
      "source": [
        "\"\"\"\n",
        "Define a base class called 'Vehicle' with attributes make and model. Create a derived class Car\n",
        "that inherits from Vehicle and has an additional attribute 'num_doors'. Demonstrate an example\n",
        "of creating an instance of the 'Car' class and accessing its attributes.\n",
        "\"\"\"\n",
        "\n",
        "# Step 1: Define the base class Vehicle\n",
        "class Vehicle:\n",
        "    def __init__(self, make, model):\n",
        "        self.make = make\n",
        "        self.model = model\n",
        "\n",
        "# Step 2: Define the derived class Car\n",
        "class Car(Vehicle):\n",
        "    def __init__(self, make, model, num_doors):\n",
        "        super().__init__(make, model)  # Call the constructor of the base class\n",
        "        self.num_doors = num_doors\n",
        "\n",
        "# Step 3: Create an instance of the Car class and access its attributes\n",
        "my_car = Car(\"Toyota\", \"Camry\", 4)\n",
        "print(f\"Make: {my_car.make}\")\n",
        "print(f\"Model: {my_car.model}\")\n",
        "print(f\"Number of doors: {my_car.num_doors}\")\n"
      ],
      "metadata": {
        "id": "phs9gciMWWAW"
      },
      "execution_count": null,
      "outputs": []
    },
    {
      "cell_type": "markdown",
      "source": [
        "(22) Create a class called 'Shape' with a method calculate_area(). Implement two derived classes 'Circle' and 'Rectangle' that inherit from Shape and override the calculate_area() method. Demonstrate polymorphism by creating instances of both derived classes and calling the calculate_area() method."
      ],
      "metadata": {
        "id": "J8HHefNtePwd"
      }
    },
    {
      "cell_type": "code",
      "source": [
        "\"\"\"\n",
        "Create a class called 'Shape' with a method calculate_area(). Implement two derived classes 'Circle' and 'Rectangle' that\n",
        "inherit from Shape and override the calculate_area() method. Demonstrate polymorphism by creating instances of both derived\n",
        "classes and calling the calculate_area() method.\n",
        "\"\"\"\n",
        "\n",
        "import math\n",
        "\n",
        "# Base class\n",
        "class Shape:\n",
        "    def calculate_area(self):\n",
        "        raise NotImplementedError(\"Subclasses must implement this method\")\n",
        "\n",
        "# Derived class for Circle\n",
        "class Circle(Shape):\n",
        "    def __init__(self, radius):\n",
        "        self.radius = radius\n",
        "\n",
        "    def calculate_area(self):\n",
        "        return math.pi * self.radius * self.radius\n",
        "\n",
        "# Derived class for Rectangle\n",
        "class Rectangle(Shape):\n",
        "    def __init__(self, width, height):\n",
        "        self.width = width\n",
        "        self.height = height\n",
        "\n",
        "    def calculate_area(self):\n",
        "        return self.width * self.height\n",
        "\n",
        "# Demonstrating polymorphism\n",
        "def main():\n",
        "    # Create instances of Circle and Rectangle\n",
        "    circle = Circle(radius=5)\n",
        "    rectangle = Rectangle(width=4, height=6)\n",
        "\n",
        "    # Call calculate_area() on both instances\n",
        "    shapes = [circle, rectangle]\n",
        "\n",
        "    for shape in shapes:\n",
        "        print(f\"The area is: {shape.calculate_area()}\")\n",
        "\n",
        "# Run the main function\n",
        "if __name__ == \"__main__\":\n",
        "    main()\n"
      ],
      "metadata": {
        "id": "btnMmUZDeRhS",
        "colab": {
          "base_uri": "https://localhost:8080/"
        },
        "outputId": "df09fccd-94c3-4f0a-fc52-9585dfbd54c9"
      },
      "execution_count": 27,
      "outputs": [
        {
          "output_type": "stream",
          "name": "stdout",
          "text": [
            "The area is: 78.53981633974483\n",
            "The area is: 24\n"
          ]
        }
      ]
    },
    {
      "cell_type": "markdown",
      "source": [
        "(23) Write a Python program that prompts the user to enter two numbers and perform a division operation. Handle exceptions for both zero division and invalid input (non-numeric input). Display appropriate error messages for each type of exception and ensure the program does not crash due to these errors."
      ],
      "metadata": {
        "id": "z0oqEAlTeMUS"
      }
    },
    {
      "cell_type": "code",
      "source": [
        "\"\"\"\n",
        "Here’s a Python program that prompts the user to enter two numbers, performs the division,\n",
        "and handles both exceptions with appropriate error messages:\n",
        "\"\"\"\n",
        "\n",
        "import math\n",
        "\n",
        "# Base class\n",
        "class Shape:\n",
        "    def calculate_area(self):\n",
        "        raise NotImplementedError(\"Subclasses must implement this method\")\n",
        "\n",
        "# Derived class for Circle\n",
        "class Circle(Shape):\n",
        "    def __init__(self, radius):\n",
        "        self.radius = radius\n",
        "\n",
        "    def calculate_area(self):\n",
        "        return math.pi * self.radius * self.radius\n",
        "\n",
        "# Derived class for Rectangle\n",
        "class Rectangle(Shape):\n",
        "    def __init__(self, width, height):\n",
        "        self.width = width\n",
        "        self.height = height\n",
        "\n",
        "    def calculate_area(self):\n",
        "        return self.width * self.height\n",
        "\n",
        "# Demonstrating polymorphism\n",
        "def main():\n",
        "    # Create instances of Circle and Rectangle\n",
        "    circle = Circle(radius=5)\n",
        "    rectangle = Rectangle(width=4, height=6)\n",
        "\n",
        "    # Call calculate_area() on both instances\n",
        "    shapes = [circle, rectangle]\n",
        "\n",
        "    for shape in shapes:\n",
        "        print(f\"The area is: {shape.calculate_area()}\")\n",
        "\n",
        "# Run the main function\n",
        "if __name__ == \"__main__\":\n",
        "    main()\n",
        "\n"
      ],
      "metadata": {
        "id": "yjdc1zM1eMAs",
        "colab": {
          "base_uri": "https://localhost:8080/"
        },
        "outputId": "ffe8a056-af92-47c0-cb4f-2c849d3bf37f"
      },
      "execution_count": 28,
      "outputs": [
        {
          "output_type": "stream",
          "name": "stdout",
          "text": [
            "The area is: 78.53981633974483\n",
            "The area is: 24\n"
          ]
        }
      ]
    },
    {
      "cell_type": "markdown",
      "source": [
        "# Mandatory Question"
      ],
      "metadata": {
        "id": "sZOhks1dXWEe"
      }
    },
    {
      "cell_type": "markdown",
      "source": [
        "**Important:**\n",
        "Reflecting on the first three lectures and the exercises you've completed, please provide feedback on your learning experience. Share your thoughts on whether the material covered was clear, the exercises were helpful, and if you feel more confident in applying Python programming concepts. Additionally, mention any specific areas where you would like more clarification or topics you would like to explore further in future lectures. Your feedback is valuable in shaping the course for an effective learning journey."
      ],
      "metadata": {
        "id": "eqmHVEwaWhbV"
      }
    },
    {
      "cell_type": "code",
      "source": [
        "\"\"\"\n",
        "I don't feel like we used enough python in the class. It would have been helpful to provide the examples from \"Week 2 Code Demo\"\n",
        "after lecture 1. I was using a python course on Udemy and it was far too introductory for even this first assignment.\n",
        "\"\"\""
      ],
      "metadata": {
        "id": "akAVJn9YBTQT"
      },
      "execution_count": null,
      "outputs": []
    }
  ],
  "metadata": {
    "colab": {
      "provenance": [],
      "toc_visible": true,
      "include_colab_link": true
    },
    "kernelspec": {
      "display_name": "Python 3 (ipykernel)",
      "language": "python",
      "name": "python3"
    },
    "language_info": {
      "codemirror_mode": {
        "name": "ipython",
        "version": 3
      },
      "file_extension": ".py",
      "mimetype": "text/x-python",
      "name": "python",
      "nbconvert_exporter": "python",
      "pygments_lexer": "ipython3",
      "version": "3.9.12"
    }
  },
  "nbformat": 4,
  "nbformat_minor": 0
}