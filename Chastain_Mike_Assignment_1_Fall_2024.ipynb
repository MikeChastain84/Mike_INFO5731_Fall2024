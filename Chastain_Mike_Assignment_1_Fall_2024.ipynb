{
  "cells": [
    {
      "cell_type": "markdown",
      "metadata": {
        "id": "view-in-github",
        "colab_type": "text"
      },
      "source": [
        "<a href=\"https://colab.research.google.com/github/MikeChastain84/Mike_INFO5731_Fall2024/blob/main/Chastain_Mike_Assignment_1_Fall_2024.ipynb\" target=\"_parent\"><img src=\"https://colab.research.google.com/assets/colab-badge.svg\" alt=\"Open In Colab\"/></a>"
      ]
    },
    {
      "cell_type": "markdown",
      "metadata": {
        "id": "Ryk8D1Q4Wsrp"
      },
      "source": [
        "# **INFO5731 Assignment One**"
      ]
    },
    {
      "cell_type": "markdown",
      "source": [
        "This assignment includes range of programming tasks and data analysis exercises, aiming to enhance your Python skills and proficiency in string manipulation, numerical computations, and data science. Follow the instructions carefully and design well-structured Python programs to address each question.\n",
        "\n",
        "Late Submission will have a penalty of 10% reduction for each day after the deadline."
      ],
      "metadata": {
        "id": "qcP6re2g5A5r"
      }
    },
    {
      "cell_type": "markdown",
      "metadata": {
        "id": "JkzR8cFAyGik"
      },
      "source": [
        "# Question 1 (10 points).\n",
        "\n",
        "The formula that describes the volume V of a hemisphere with radius r is the following:\n",
        "\n",
        "$ V=\\frac{2}{3}\\ast\\ \\pi\\ast\\ r^3 $\n",
        "\n",
        "Write a program to calculate the value of V when r is in the range of even numbers from 1-20. Output the result in the following format:\n",
        "\n",
        "\tr\tV\n",
        "\t2\t…\n",
        "\t4\t…\n",
        "\t6\t…\n",
        "\t.\n",
        "\t.\n",
        "\t.\n",
        "\t20\t…\n"
      ]
    },
    {
      "cell_type": "code",
      "execution_count": null,
      "metadata": {
        "id": "jDyTKYs-yGit",
        "colab": {
          "base_uri": "https://localhost:8080/"
        },
        "outputId": "1d0353a2-39b1-45df-b37a-6e762e9297ce"
      },
      "outputs": [
        {
          "output_type": "stream",
          "name": "stdout",
          "text": [
            "r    V                   \n",
            "2    16.755160819145562  \n",
            "4    134.0412865531645   \n",
            "6    452.38934211693015  \n",
            "8    1072.330292425316   \n",
            "10   2094.3951023931954  \n",
            "12   3619.114736935441   \n",
            "14   5747.0201609669275  \n",
            "16   8578.642339402528   \n",
            "18   12214.512237157114  \n",
            "20   16755.160819145563  \n"
          ]
        }
      ],
      "source": [
        "# Your code here\n",
        "\"\"\"\n",
        "See instructions above.\n",
        "\"\"\"\n",
        "\n",
        "import math #Import the math module to gain access to critical functions and attributes like pi.\n",
        "\n",
        "def hemisphere_vol(r):            # Define a function to calculate the volume of a hemisphere given one parameter, radius.\n",
        "  return (2/3) * math.pi * r**3   # This returns the result of the volume based on the radius.\n",
        "\n",
        "print(f'{\"r\":<5}{\"V\":20}')        # We are simply printing a formatted string of r and V justified 5 and 20 spaces from the left respectfully.\n",
        "for r in range(2, 21, 2):         # A for loop that iterates from 2 up to 21, but not including 21, in incriments of 2. (2, 4, 6, ...20)\n",
        "  V = hemisphere_vol(r)           # Calculate V (volume) using the equation defined above using the radius range described in the previous line.\n",
        "  print(f'{r:<5}{V:<20}')         # Prints the input values of r and their corresponding volume (V) results."
      ]
    },
    {
      "cell_type": "markdown",
      "metadata": {
        "id": "90_NR8c5XGWc"
      },
      "source": [
        "# Question 2 (20 points)\n",
        "\n",
        "(a) Write a Python program to generate a sequence of 12 random numbers falling within the range of 50 to 150.\n",
        "\n",
        "(b) Arrange the generated numbers in ascending order. Display the sorted list.\n",
        "\n",
        "(c) Extend the program to arrange the numbers in descending order as well. Present the sorted list accordingly.\n",
        "\n",
        "(d) Compute and output the average of the entire group of generated numbers.\n",
        "\n",
        "(e) Enhance the program to calculate and display the average of the first 6 numbers from both the ascending and descending sorted lists."
      ]
    },
    {
      "cell_type": "code",
      "execution_count": null,
      "metadata": {
        "id": "5QX6bJjGWXY9",
        "colab": {
          "base_uri": "https://localhost:8080/"
        },
        "outputId": "17e23768-2f82-4c70-8e72-3c4cdbe141e6"
      },
      "outputs": [
        {
          "output_type": "stream",
          "name": "stdout",
          "text": [
            "Sequence: [64, 121, 110, 110, 148, 76, 93, 118, 124, 114, 83, 81]\n",
            "Ascending Order: [64, 76, 81, 83, 93, 110, 110, 114, 118, 121, 124, 148]\n",
            "Descending Order: [148, 124, 121, 118, 114, 110, 110, 93, 83, 81, 76, 64]\n",
            "Average: 103.5\n",
            "Average of first six ascending numbers: 84.5\n",
            "Average of first six descending numbers: 122.5\n"
          ]
        }
      ],
      "source": [
        "# Write code for each of the sub parts with proper comments.\n",
        "\n",
        "import random     # Import the random module\n",
        "\n",
        "#(a) Write a Python program to generate a sequence of 12 random numbers falling within the range of 50 to 150.\n",
        "\n",
        "random_nums = [random.randint(50, 150) for _ in range(12)]  # Creates a variable (random_nums) to store our 12 random numbers and then iterate through the for loop 12 times.\n",
        "print ('Sequence:', random_nums)                            # Prints \"Sequence: \" and the result of the random_nums created above.\n",
        "\n",
        "#(b) Arrange the generated numbers in ascending order. Display the sorted list.\n",
        "nums_ascending = sorted(random_nums)        # sorted() function arranges the numbers in ascending order by default\n",
        "print('Ascending Order:', nums_ascending)   # Prints \"Ascending Order:\" followed by the result\n",
        "\n",
        "#(c) Extend the program to arrange the numbers in descending order as well. Present the sorted list accordingly.\n",
        "nums_descending = sorted(random_nums, reverse=True) # sorted() function can sort by descending order when reverse is set to True\n",
        "print('Descending Order:', nums_descending)         # prints the result of nums_descending\n",
        "\n",
        "#(d) Compute and output the average of the entire group of generated numbers.\n",
        "from statistics import mean      # Imports the mean() function from the statistics module\n",
        "mean_values = mean(random_nums)  # Uses the mean function from statistics module on the randum_nums variable\n",
        "print(\"Average:\", mean_values)   # Prints \"Average:\" followed by the result of the mean_values variable\n",
        "\n",
        "#(e) Enhance the program to calculate and display the average of the first 6 numbers from both the ascending and descending sorted lists.\n",
        "average_first6_ascending = sum(nums_ascending[:6])/6          # adds the first 6 numbers (0 - 5) and then divides by six to find the average\n",
        "average_first6_descending = sum(nums_descending[:6])/6        # adds the first 6 numbers (0 - 5) and then divides by six to find the average\n",
        "print(\"Average of first six ascending numbers:\", average_first6_ascending)    # simple print statement\n",
        "print(\"Average of first six descending numbers:\", average_first6_descending)  # simple print statement"
      ]
    },
    {
      "cell_type": "markdown",
      "metadata": {
        "id": "1F_PZdH9Sh49"
      },
      "source": [
        "# Question 3 (20 points).\n",
        "\n",
        "Create a Python program that encompasses various string manipulation task:\n",
        "\n",
        "(a) Prompt the user to input two sentences.\n",
        "\n",
        "(b) Transform each sentence into a list, where each element corresponds to a word in the sentence. For example, if the sentences are \"Hello, how are you doing today?\" and \"This is an example sentence for the program!\"\n",
        "\n",
        "The program should output:\n",
        "['Hello', ',', 'how', 'are', 'you', 'doing', 'today', '?', 'This', 'is', 'an', 'example', 'sentence', 'for', 'the', 'program', '!']\n",
        "\n",
        "(c) Compare the two sentences. Print out a list of words that occur in both sentences.\n",
        "\n",
        "(d) Remove any punctuation from the sentence and print the sanitized sentences. It should remove at least the following characters, but it can remove more: period(“.”), comma (“,”), semicolon (“;”), and colon (“:”).\n",
        "\n",
        "(e) Count the number of vowels in each of the sentences. Print out each vowel and the occurrences  in the each of the two sentences separately, such as:\n",
        "\n",
        "Sentence1: a:2, e:2, i:0, etc.\n",
        "Sentence2: a:1, e:2, i:2, etc.\n",
        "\n",
        "Design a well-structured Python program to execute these tasks efficiently."
      ]
    },
    {
      "cell_type": "code",
      "execution_count": null,
      "metadata": {
        "id": "Y0oOSlsOS0cq",
        "colab": {
          "base_uri": "https://localhost:8080/"
        },
        "outputId": "f6f4c42c-e9e2-45d7-a8cd-523571b8e288"
      },
      "outputs": [
        {
          "output_type": "stream",
          "name": "stdout",
          "text": [
            "Provide the first sentence: Another sentence for the 48494050 time. !@#$%\n",
            "Provide the second sentence: I guess this sentence is the 48494051st time. @@#$%^\n",
            "['Another', 'sentence', 'for', 'the', '48494050', 'time.', '!@#$%', 'I', 'guess', 'this', 'sentence', 'is', 'the', '48494051st', 'time.', '@@#$%^']\n",
            "Common words:  ['sentence', 'the', 'time.']\n",
            "First sanitized sentence:  Another sentence for the 48494050 time \n",
            "Second sanitized sentence:  I guess this sentence is the 48494051st time \n",
            "Vowel count in sentence 1:  {'a': 0, 'e': 6, 'i': 1, 'o': 2, 'u': 0, 'A': 1, 'E': 0, 'I': 0, 'O': 0, 'U': 0}\n",
            "Vowel count in sentence 2:  {'a': 0, 'e': 6, 'i': 3, 'o': 0, 'u': 1, 'A': 0, 'E': 0, 'I': 1, 'O': 0, 'U': 0}\n"
          ]
        }
      ],
      "source": [
        "# Full instructions are above.\n",
        "\n",
        "import string             #Allows you to import and use the functions and attributes within the string module\n",
        "\n",
        "#(a) Prompt the user to input two sentences.\n",
        "\n",
        "Sentence1 = input('Provide the first sentence: ')\n",
        "Sentence2 = input('Provide the second sentence: ')\n",
        "\n",
        "\n",
        "#(b) Transform each sentence into a list, where each element corresponds to a word in the sentence.\n",
        "\n",
        "list1 = Sentence1.split()     # Splits the first sentence into a list of words\n",
        "list2 = Sentence2.split()     # Splits the second sentence into a list of words\n",
        "combined = list1 + list2      # Combines the lists into one list\n",
        "print(combined)               # Prints the combination\n",
        "\n",
        "# (c) Compare the two sentences. Print out a list of words that occur in both sentences.\n",
        "common = set(list1) & set(list2)        # Finds the intersection of list1 and list2\n",
        "print('Common words: ', list(common))   # Prints the result which is a list of common words\n",
        "\n",
        "# (d) Remove any punctuation from the sentence and print the sanitized sentences.\n",
        "Sanitation_tool = str.maketrans('', '', string.punctuation)   # Creates a tool to remove punctuation using the maketrans method and punctuation constant from the string module.\n",
        "Sanitize1 = Sentence1.translate(Sanitation_tool)              # Sanitizes Sentence1\n",
        "Sanitize2 = Sentence2.translate(Sanitation_tool)              # Sanitizes Sentence2\n",
        "print(\"First sanitized sentence: \", Sanitize1)                # Prints results\n",
        "print(\"Second sanitized sentence: \", Sanitize2)               # Prints results\n",
        "\n",
        "# (e) Count the number of vowels in each of the sentences. Print out each vowel and the occurrences in the each of the two sentences separately, such as:\n",
        "# Sentence1: a:2, e:2, i:0, etc. Sentence2: a:1, e:2, i:2, etc.\n",
        "\n",
        "vowels = 'aeiouAEIOU'                   # A string containing all vowels.\n",
        "\n",
        "def count_vowels(sentence):             # Defines a function to count the number of vowels in a sentence.\n",
        "  vowel_count = {v: 0 for v in vowels}  # Initializes a dictionary of vowels with each set to 0.\n",
        "  for char in sentence:                 # For loop to iterate through each character in the sentence.\n",
        "    if char in vowel_count:             # Checks to see if characters are vowels\n",
        "      vowel_count[char] += 1            # Increases the counter for the vowel by 1 if True\n",
        "  return vowel_count                    # Returns the results once complete\n",
        "\n",
        "def format_vowel_count(vowel_count):                          # A function to reference the vowel_count dictionary.\n",
        "  return ', '.join(f'{v}:{vowel_count[v]}' for v in 'aeiou')  # Returns a string that joins each vowel with its count from the vowel_count dictionary\n",
        "\n",
        "vowel_count1 = count_vowels(Sanitize1)              # Calls the count_vowels function using Sanitize1 and assigns the result to vowel_count1\n",
        "vowel_count2 = count_vowels(Sanitize2)              # Calls the count_vowels function using Sanitize2 and assigns the result to vowel_count2\n",
        "\n",
        "print(\"Vowel count in sentence 1: \", vowel_count1)  # Print statement to print the results\n",
        "print(\"Vowel count in sentence 2: \", vowel_count2)  # Print statement to print the results\n"
      ]
    },
    {
      "cell_type": "markdown",
      "source": [
        "# Question 4 (20 Points)"
      ],
      "metadata": {
        "id": "OP4-5qxAtInv"
      }
    },
    {
      "cell_type": "markdown",
      "source": [
        "Design and implement a simple command-line calculator program. The program should handle both integers and floating-point numbers.\n",
        "\n",
        "(a) Write program that takes a mathematical expression as input and evaluates it. The program should support addition, subtraction, multiplication, and division.\n",
        "\n",
        "(b) Extend the calculator to handle parentheses in mathematical expressions. Implement the necessary logic to evaluate expressions with nested parentheses.\n",
        "\n",
        "(c) Enhance your calculator to include additional mathematical operations such as exponentiation, square root, and modulus.\n",
        "\n",
        "(d) Implement error handling in the calculator program. Handle cases such as division by zero and invalid input expressions. Provide meaningful error messages.\n",
        "\n",
        "(e) Implement a command to exit the calculator."
      ],
      "metadata": {
        "id": "uzN4_hDptK9U"
      }
    },
    {
      "cell_type": "code",
      "source": [
        "# Instructions are above\n",
        "\n",
        "import math   # Something tells me we're going to need the math module. :-)\n",
        "\n",
        "def evaluate_expression(expression):              # creates a function to run against a user's mathematical expression as the only parameter.\n",
        "    try:                                          # try block created for error handling\n",
        "        result = eval(expression)                 # uses the eval function to accept mathematical espressions\n",
        "        return result                             # returns the result\n",
        "    except ZeroDivisionError:                     # Identifies \"ZeroDivisionError:\" and prints \"Error: Division by zero.\" instead\n",
        "        return \"Error: Division by zero.\"\n",
        "    except Exception as e:                        # Catches other exceptions and returns a meaningful error message\n",
        "        return f\"Error: Invalid expression. {e}\"\n",
        "\n",
        "def start():                                      # creates the start() function\n",
        "    print(\"Simple Command-Line Calculator\")       # These two print opening lines and how to exit the program\n",
        "    print(\"Type 'exit' to quit the calculator.\")\n",
        "\n",
        "    while True:                                   # Infinite while loop that continues asking for an expression until exit it typed\n",
        "        expression = input(\"Enter expression: \")  # The users input is stored as expression for the eval function\n",
        "        if expression.lower() == 'exit':          # sets \"exit\" as the expression to break the while loop\n",
        "            break                                 # breaks the infinite loop when condition is met\n",
        "        result = evaluate_expression(expression)  # runs the evaluate_expression function with expression stores the result as result\n",
        "        print(f\"Result: {result}\")                # prints the result\n",
        "\n",
        "if __name__ == \"__main__\":                        # Checks if the script is being run directly instead of a module and initiates the start function if true\n",
        "    start()                                       # Calls upon the start() function consisting of print statements above\n"
      ],
      "metadata": {
        "id": "8nQnVxjJuYtu",
        "colab": {
          "base_uri": "https://localhost:8080/"
        },
        "outputId": "da896dda-e616-4e10-ea6e-879ae507e836"
      },
      "execution_count": 36,
      "outputs": [
        {
          "name": "stdout",
          "output_type": "stream",
          "text": [
            "Simple Command-Line Calculator\n",
            "Type 'exit' to quit the calculator.\n",
            "Result: 8.375\n",
            "Result: Error: Invalid expression. invalid syntax (<string>, line 1)\n",
            "Result: 4\n",
            "Result: 4\n",
            "Result: 7\n",
            "Result: 25\n",
            "Result: Error: Invalid expression. name 'sqrt' is not defined\n",
            "Result: 2.0\n",
            "Enter expression: exit\n"
          ]
        }
      ]
    },
    {
      "cell_type": "markdown",
      "metadata": {
        "id": "z3tBE7E-Xn5X"
      },
      "source": [
        "# Question 5 (30 points).\n",
        "\n",
        "In the field of Data Science, data is often formatted as a comma-delimited (CSV) file, where each line in a file corresponds to a field's value. Refer to Chapter 9 (p. 106) for more information on comma-delimited files.\n",
        "\n",
        "To answer this question, you will need to download the file [Assignment1_denton_housing.csv](https://raw.githubusercontent.com/unt-iialab/info5731-spring2022/main/assignments/Assignment1_denton_housing.csv) included with this assignment. The file contains statistics about housing in the city of Denton from 2008 to 2014. Write a program to implement the following questions.\n",
        "\n",
        "(a) (5 pts) Calculate the difference in the number of Occupied Housing Units from year to year and print it. The difference must be calculated for the consecutive years such as 2008-2009, 2009-2010 etc. Finally, print the values in the ascending order.\n",
        "\n",
        "(b) (5 pts) For all the years, calculate the percentage of housing units which are vacant an occupied. Print the results in the following format:\n",
        "\n",
        "Year Vacant Housing Units Occupied Housing Units\n",
        "\n",
        "    2008  30%   70%                          \n",
        "\t2009 ----- -----\n",
        "\t2010 ----- -----\n",
        "    2011 ----- -----\n",
        "\t2012 ----- -----\n",
        "    2013 ----- -----\n",
        "\t2014 ----- -----\n",
        "  \n",
        "  \n",
        "\n",
        "(c) (10 pts) Calculate and print the valued and years in which the highest number of housing units were vacant and occupied. Print the results in the following format:  \n",
        "\n",
        "                              Year\tValue\n",
        "\tVacant Housing Units\t  -----   -----\n",
        "\tOccupied Housing Units\t-----   -----\n",
        "\n",
        "(d) (10 pts) Calculate the harmonic mean of the total housing units and print it out. You can find the information about harmonic mean here: https://ncalculators.com/statistics/harmonic-mean-calculator.htm"
      ]
    },
    {
      "cell_type": "code",
      "execution_count": 52,
      "metadata": {
        "id": "lqGYuHBhcsRH",
        "colab": {
          "base_uri": "https://localhost:8080/"
        },
        "outputId": "7c95ce16-b6e7-4efb-df85-776a3163d80f"
      },
      "outputs": [
        {
          "output_type": "stream",
          "name": "stdout",
          "text": [
            "Differences in Occupied Housing Units (ascending order):\n",
            "2010-2011: 303\n",
            "2008-2009: 795\n",
            "2011-2012: 1404\n",
            "2012-2013: 1565\n",
            "2013-2014: 2622\n",
            "2009-2010: 5091\n",
            "\n",
            "Year  Vacant Housing Units (%)  Occupied Housing Units (%)\n",
            "2008  10.88%  89.12%\n",
            "2009  9.07%  90.93%\n",
            "2010  8.14%  91.86%\n",
            "2011  9.38%  90.62%\n",
            "2012  6.68%  93.32%\n",
            "2013  8.80%  91.20%\n",
            "2014  5.73%  94.27%\n",
            "\n",
            "Year    Value\n",
            "Vacant Housing Units      2008   4483\n",
            "Occupied Housing Units    2014   46295\n",
            "Harmonic Mean of total_units: 0\n"
          ]
        }
      ],
      "source": [
        "# Your code here\n",
        "\"\"\"\n",
        "See instructions above.\n",
        "\"\"\"\n",
        "\n",
        "import pandas as pd           # imports pandas module for data manipulation\n",
        "\n",
        "file_path = \"/content/Assignment1_denton_housing.csv\" #points file_path to the denton housing file.\n",
        "df = pd.read_csv(file_path)                           # builds a Pandas DataFrame named df by reading the housing file.\n",
        "\n",
        "pivot_df = df.pivot(index ='year', columns='title_field', values='value') # creates a new data frame named pivot_df by pivoting df\n",
        "\n",
        "differences = {}                  # empty dictionary\n",
        "years = sorted(pivot_df.index)    # a sorted list of index from pivot_df\n",
        "for i in range(1, len(years)):    # iterates through years and finds the occupied housing difference\n",
        "  # Calculates the difference in occupied housing units and stores result in differences dictionary:\n",
        "  year_diff = years[i] - years[i-1]\n",
        "  occupied_diff = abs(pivot_df.loc[years[i], 'Occupied Housing Units'] - pivot_df.loc[years[i-1], 'Occupied Housing Units'])\n",
        "  differences[f\"{years[i-1]}-{years[i]}\"] = occupied_diff\n",
        "\n",
        "#Sorts the differences dictionary by values in ascend order. Stores this in sorted_differences dictionary.\n",
        "sorted_differences = dict(sorted(differences.items(), key=lambda item: item[1]))\n",
        "print(\"Differences in Occupied Housing Units (ascending order):\")   # Simple print function\n",
        "total_units_list = []                                              # Creates total_units_list to store total housing units for each year\n",
        "for period, diff in sorted_differences.items():                     # simple for loop\n",
        "    print(f\"{period}: {diff}\")\n",
        "\n",
        "# calculates and prints the percentage of vacant and occupied housing units for each year:\n",
        "print(\"\\nYear  Vacant Housing Units (%)  Occupied Housing Units (%)\") # Prints the header for the table\n",
        "for year in years:                                                    # for loop to iterate through each year in the years list\n",
        "    total_units = pivot_df.loc[year, 'Total Housing Units']           # retrieves total number of housing units from pivot df and stores in total_units\n",
        "    vacant_units = pivot_df.loc[year, 'Vacant Housing Units']         # retrieves number of vacant units from pivot df and stores in vacant_units\n",
        "    occupied_units = pivot_df.loc[year, 'Occupied Housing Units']     # retrieves number of occupied units from pivot df and stores in occupied_units\n",
        "    vacant_percent = (vacant_units / total_units) * 100               # simple calculation for vacant_percentage\n",
        "    occupied_percent = (occupied_units / total_units) * 100           # simple calculation for occupied_percentage\n",
        "    total_units_list.append(total_units)                              # adds total housing units for the year to the list\n",
        "    print(f\"{year}  {vacant_percent:.2f}%  {occupied_percent:.2f}%\")\n",
        "\n",
        "max_vacant_year = pivot_df['Vacant Housing Units'].idxmax()       # Uses idxmax() func to determine max vacant year\n",
        "max_occupied_year = pivot_df['Occupied Housing Units'].idxmax()   # Uses idxmax() func to determine max occupied year\n",
        "\n",
        "print(\"\\nYear    Value\")\n",
        "print(f\"Vacant Housing Units      {max_vacant_year}   {pivot_df.loc[max_vacant_year, 'Vacant Housing Units']}\")\n",
        "print(f\"Occupied Housing Units    {max_occupied_year}   {pivot_df.loc[max_occupied_year, 'Occupied Housing Units']}\")\n",
        "\n",
        "# (d) Calculate the harmonic mean of the total housing units and print it out.\n",
        "def harmonic_mean(numbers):                         # defines the function  harmonic_mean; accepts argument numbers\n",
        "  if len(numbers)==0:                               # This prevents div by 0\n",
        "    return 0\n",
        "  n=len(numbers)                                    # assigns n to length of numbers. the number of elements in the list.\n",
        "  harmonic_sum = sum(1 / num for num in numbers)    # computes the sum of the reciprocals. uses a generator expression.\n",
        "  return n / harmonic_sum                           # returns the harmonic mean\n",
        "\n",
        "harm_mean = harmonic_mean(total_units__list)              # calls function harmonic_mean with argument\n",
        "print(\"Harmonic Mean of total_units:\", harm_mean)         # prints result"
      ]
    },
    {
      "cell_type": "markdown",
      "source": [
        "# Mandatory Question\n",
        "\n",
        "Provide your thoughts on the assignment. What did you find challenging, and what aspects did you enjoy? Your opinion on the provided time to complete the assignment. Share any suggestions for improvement. Your feedback will be valuable for enhancing the learning experience."
      ],
      "metadata": {
        "id": "q8BFCvWp32cf"
      }
    },
    {
      "cell_type": "code",
      "source": [
        "# Write your response below\n",
        "\"\"\"\n",
        "I think the coding in this class greatly exceeds my expectations. It's very challenging.\n",
        "\n",
        "There was a good amount of time to complete the assignment. This allowed me the opportunity to really familiarize myself with the questions, research the areas I needed to\n",
        "improve on, and provide answers that truly reflect the skills I've gained in INFO 5731. I enjoyed researching the topics throughout the weekend because I didn't feel rushed to\n",
        "complete the assignment by Friday night.\n",
        "\"\"\""
      ],
      "metadata": {
        "id": "_e557s2w4BpK"
      },
      "execution_count": null,
      "outputs": []
    }
  ],
  "metadata": {
    "colab": {
      "provenance": [],
      "include_colab_link": true
    },
    "kernelspec": {
      "display_name": "Python 3 (ipykernel)",
      "language": "python",
      "name": "python3"
    },
    "language_info": {
      "codemirror_mode": {
        "name": "ipython",
        "version": 3
      },
      "file_extension": ".py",
      "mimetype": "text/x-python",
      "name": "python",
      "nbconvert_exporter": "python",
      "pygments_lexer": "ipython3",
      "version": "3.9.12"
    }
  },
  "nbformat": 4,
  "nbformat_minor": 0
}